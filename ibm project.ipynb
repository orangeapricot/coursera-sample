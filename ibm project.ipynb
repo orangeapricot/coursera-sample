{
 "cells": [
  {
   "cell_type": "code",
   "execution_count": 1,
   "metadata": {},
   "outputs": [],
   "source": [
    "import numpy as np\n",
    "import pandas as pd\n",
    "import json"
   ]
  },
  {
   "cell_type": "code",
   "execution_count": 2,
   "metadata": {},
   "outputs": [],
   "source": [
    "def init_ds(json):\n",
    "    ds= {}\n",
    "    keys = json.keys()\n",
    "    for k in keys:\n",
    "        ds[k]= []\n",
    "    return ds, keys"
   ]
  },
  {
   "cell_type": "code",
   "execution_count": 3,
   "metadata": {},
   "outputs": [],
   "source": [
    "def read_json(file):\n",
    "    dataset = {}\n",
    "    keys = []\n",
    "    with open(file,'rb') as file_lines:\n",
    "        for count, line in enumerate(file_lines):\n",
    "            data = json.loads(line.strip())\n",
    "            if count ==0:\n",
    "                dataset, keys = init_ds(data)\n",
    "            for k in keys:\n",
    "                dataset[k].append(data[k])\n",
    "        return pd.DataFrame(dataset)"
   ]
  },
  {
   "cell_type": "code",
   "execution_count": null,
   "metadata": {},
   "outputs": [],
   "source": [
    "tips= read_json('/Users/chenzixing/Desktop/BDA/yelp_academic_dataset_tip.json')\n",
    "print(tips.keys())"
   ]
  },
  {
   "cell_type": "code",
   "execution_count": null,
   "metadata": {},
   "outputs": [],
   "source": [
    "tips.head()"
   ]
  },
  {
   "cell_type": "code",
   "execution_count": null,
   "metadata": {},
   "outputs": [],
   "source": [
    "tips1 = tips[tips.business_id.isin(id1)]\n",
    "tips1 = tips1.drop(tips1.columns[[0,-2,-1]],axis=1)\n",
    "tips1[\"business_id\"].value_counts()"
   ]
  },
  {
   "cell_type": "code",
   "execution_count": null,
   "metadata": {},
   "outputs": [],
   "source": [
    "tip1 = tips[tips.business_id=='DkYS3arLOhA8si5uUEmHOw'].text\n",
    "tip2 = tips[tips.business_id=='5LNZ67Yw9RD6nf4_UhXOjw'].text\n",
    "tip3 = tips[tips.business_id=='eoHdUeQDNgQ6WYEnP2aiRw'].text\n",
    "tip4 = tips[tips.business_id=='hihud--QRriCYZw1zZvW4g'].text\n",
    "tip5 = tips[tips.business_id=='RESDUcs7fIiihp38-d6_6g'].text\n",
    "tip6 = tips[tips.business_id=='4JNXUYY8wbaaDmk3BPzlWw'].text\n",
    "tip7 = tips[tips.business_id=='yfxDa8RFOvJPQh0rNtakHA'].text\n",
    "tip8 = tips[tips.business_id=='El4FC8jcawUVgw_0EIcbaQ'].text\n",
    "tip9 = tips[tips.business_id=='7sPNbCx7vGAaH7SbNPZ6oA'].text\n",
    "tip10 = tips[tips.business_id=='KskYqH1Bi7Z_61pH6Om8pg'].text"
   ]
  },
  {
   "cell_type": "code",
   "execution_count": 213,
   "metadata": {
    "scrolled": true
   },
   "outputs": [
    {
     "data": {
      "text/html": [
       "<div>\n",
       "<style scoped>\n",
       "    .dataframe tbody tr th:only-of-type {\n",
       "        vertical-align: middle;\n",
       "    }\n",
       "\n",
       "    .dataframe tbody tr th {\n",
       "        vertical-align: top;\n",
       "    }\n",
       "\n",
       "    .dataframe thead th {\n",
       "        text-align: right;\n",
       "    }\n",
       "</style>\n",
       "<table border=\"1\" class=\"dataframe\">\n",
       "  <thead>\n",
       "    <tr style=\"text-align: right;\">\n",
       "      <th></th>\n",
       "      <th>user_id</th>\n",
       "      <th>name</th>\n",
       "      <th>review_count</th>\n",
       "      <th>yelping_since</th>\n",
       "      <th>useful</th>\n",
       "      <th>funny</th>\n",
       "      <th>cool</th>\n",
       "      <th>elite</th>\n",
       "      <th>friends</th>\n",
       "      <th>fans</th>\n",
       "      <th>...</th>\n",
       "      <th>compliment_more</th>\n",
       "      <th>compliment_profile</th>\n",
       "      <th>compliment_cute</th>\n",
       "      <th>compliment_list</th>\n",
       "      <th>compliment_note</th>\n",
       "      <th>compliment_plain</th>\n",
       "      <th>compliment_cool</th>\n",
       "      <th>compliment_funny</th>\n",
       "      <th>compliment_writer</th>\n",
       "      <th>compliment_photos</th>\n",
       "    </tr>\n",
       "  </thead>\n",
       "  <tbody>\n",
       "    <tr>\n",
       "      <td>0</td>\n",
       "      <td>l6BmjZMeQD3rDxWUbiAiow</td>\n",
       "      <td>Rashmi</td>\n",
       "      <td>95</td>\n",
       "      <td>2013-10-08 23:11:33</td>\n",
       "      <td>84</td>\n",
       "      <td>17</td>\n",
       "      <td>25</td>\n",
       "      <td>2015,2016,2017</td>\n",
       "      <td>c78V-rj8NQcQjOI8KP3UEA, alRMgPcngYSCJ5naFRBz5g...</td>\n",
       "      <td>5</td>\n",
       "      <td>...</td>\n",
       "      <td>0</td>\n",
       "      <td>0</td>\n",
       "      <td>0</td>\n",
       "      <td>0</td>\n",
       "      <td>1</td>\n",
       "      <td>1</td>\n",
       "      <td>1</td>\n",
       "      <td>1</td>\n",
       "      <td>2</td>\n",
       "      <td>0</td>\n",
       "    </tr>\n",
       "    <tr>\n",
       "      <td>1</td>\n",
       "      <td>4XChL029mKr5hydo79Ljxg</td>\n",
       "      <td>Jenna</td>\n",
       "      <td>33</td>\n",
       "      <td>2013-02-21 22:29:06</td>\n",
       "      <td>48</td>\n",
       "      <td>22</td>\n",
       "      <td>16</td>\n",
       "      <td></td>\n",
       "      <td>kEBTgDvFX754S68FllfCaA, aB2DynOxNOJK9st2ZeGTPg...</td>\n",
       "      <td>4</td>\n",
       "      <td>...</td>\n",
       "      <td>0</td>\n",
       "      <td>0</td>\n",
       "      <td>0</td>\n",
       "      <td>0</td>\n",
       "      <td>0</td>\n",
       "      <td>0</td>\n",
       "      <td>1</td>\n",
       "      <td>1</td>\n",
       "      <td>0</td>\n",
       "      <td>0</td>\n",
       "    </tr>\n",
       "    <tr>\n",
       "      <td>2</td>\n",
       "      <td>bc8C_eETBWL0olvFSJJd0w</td>\n",
       "      <td>David</td>\n",
       "      <td>16</td>\n",
       "      <td>2013-10-04 00:16:10</td>\n",
       "      <td>28</td>\n",
       "      <td>8</td>\n",
       "      <td>10</td>\n",
       "      <td></td>\n",
       "      <td>4N-HU_T32hLENLntsNKNBg, pSY2vwWLgWfGVAAiKQzMng...</td>\n",
       "      <td>0</td>\n",
       "      <td>...</td>\n",
       "      <td>0</td>\n",
       "      <td>0</td>\n",
       "      <td>0</td>\n",
       "      <td>0</td>\n",
       "      <td>1</td>\n",
       "      <td>0</td>\n",
       "      <td>0</td>\n",
       "      <td>0</td>\n",
       "      <td>0</td>\n",
       "      <td>0</td>\n",
       "    </tr>\n",
       "    <tr>\n",
       "      <td>3</td>\n",
       "      <td>dD0gZpBctWGdWo9WlGuhlA</td>\n",
       "      <td>Angela</td>\n",
       "      <td>17</td>\n",
       "      <td>2014-05-22 15:57:30</td>\n",
       "      <td>30</td>\n",
       "      <td>4</td>\n",
       "      <td>14</td>\n",
       "      <td></td>\n",
       "      <td>RZ6wS38wnlXyj-OOdTzBxA, l5jxZh1KsgI8rMunm-GN6A...</td>\n",
       "      <td>5</td>\n",
       "      <td>...</td>\n",
       "      <td>0</td>\n",
       "      <td>0</td>\n",
       "      <td>0</td>\n",
       "      <td>0</td>\n",
       "      <td>0</td>\n",
       "      <td>2</td>\n",
       "      <td>0</td>\n",
       "      <td>0</td>\n",
       "      <td>1</td>\n",
       "      <td>0</td>\n",
       "    </tr>\n",
       "    <tr>\n",
       "      <td>4</td>\n",
       "      <td>MM4RJAeH6yuaN8oZDSt0RA</td>\n",
       "      <td>Nancy</td>\n",
       "      <td>361</td>\n",
       "      <td>2013-10-23 07:02:50</td>\n",
       "      <td>1114</td>\n",
       "      <td>279</td>\n",
       "      <td>665</td>\n",
       "      <td>2015,2016,2017,2018</td>\n",
       "      <td>mbwrZ-RS76V1HoJ0bF_Geg, g64lOV39xSLRZO0aQQ6DeQ...</td>\n",
       "      <td>39</td>\n",
       "      <td>...</td>\n",
       "      <td>1</td>\n",
       "      <td>0</td>\n",
       "      <td>0</td>\n",
       "      <td>1</td>\n",
       "      <td>16</td>\n",
       "      <td>57</td>\n",
       "      <td>80</td>\n",
       "      <td>80</td>\n",
       "      <td>25</td>\n",
       "      <td>5</td>\n",
       "    </tr>\n",
       "    <tr>\n",
       "      <td>5</td>\n",
       "      <td>0rK89TS8xqy1wI4nYI1wfw</td>\n",
       "      <td>Marilyn</td>\n",
       "      <td>214</td>\n",
       "      <td>2011-06-23 08:05:13</td>\n",
       "      <td>3475</td>\n",
       "      <td>2424</td>\n",
       "      <td>3048</td>\n",
       "      <td>2015,2016,2017,2018</td>\n",
       "      <td>AJxDPGVTzefy3vSHWJchvQ, TgveR4qIsr0Q7b4MJK29TA...</td>\n",
       "      <td>186</td>\n",
       "      <td>...</td>\n",
       "      <td>46</td>\n",
       "      <td>50</td>\n",
       "      <td>44</td>\n",
       "      <td>3</td>\n",
       "      <td>221</td>\n",
       "      <td>404</td>\n",
       "      <td>483</td>\n",
       "      <td>483</td>\n",
       "      <td>149</td>\n",
       "      <td>195</td>\n",
       "    </tr>\n",
       "    <tr>\n",
       "      <td>6</td>\n",
       "      <td>TEtzbpgA2BFBrC0y0sCbfw</td>\n",
       "      <td>Keane</td>\n",
       "      <td>1122</td>\n",
       "      <td>2006-02-15 18:29:35</td>\n",
       "      <td>13311</td>\n",
       "      <td>19356</td>\n",
       "      <td>15319</td>\n",
       "      <td>2006,2007,2008,2009,2010,2011,2012,2013</td>\n",
       "      <td>RJQTcJVlBsJ3_Yo0JSFQQg, GWt_h78k1CBBkE1NpThGfQ...</td>\n",
       "      <td>696</td>\n",
       "      <td>...</td>\n",
       "      <td>314</td>\n",
       "      <td>333</td>\n",
       "      <td>889</td>\n",
       "      <td>152</td>\n",
       "      <td>1600</td>\n",
       "      <td>3635</td>\n",
       "      <td>4991</td>\n",
       "      <td>4991</td>\n",
       "      <td>1086</td>\n",
       "      <td>428</td>\n",
       "    </tr>\n",
       "    <tr>\n",
       "      <td>7</td>\n",
       "      <td>KGuqerdeNhxzXZEyBaqqSw</td>\n",
       "      <td>Andre</td>\n",
       "      <td>6</td>\n",
       "      <td>2014-06-07 01:50:09</td>\n",
       "      <td>1</td>\n",
       "      <td>0</td>\n",
       "      <td>1</td>\n",
       "      <td></td>\n",
       "      <td>d1z7Xc9RG5TVBkdUPhSbAw, IgsbGFEN8NWshPNOBiNGmg...</td>\n",
       "      <td>0</td>\n",
       "      <td>...</td>\n",
       "      <td>0</td>\n",
       "      <td>0</td>\n",
       "      <td>0</td>\n",
       "      <td>0</td>\n",
       "      <td>0</td>\n",
       "      <td>0</td>\n",
       "      <td>0</td>\n",
       "      <td>0</td>\n",
       "      <td>0</td>\n",
       "      <td>0</td>\n",
       "    </tr>\n",
       "    <tr>\n",
       "      <td>8</td>\n",
       "      <td>T0gWkTHWRChVUe_Dn1F8nw</td>\n",
       "      <td>Tanya</td>\n",
       "      <td>859</td>\n",
       "      <td>2005-07-20 22:38:17</td>\n",
       "      <td>1630</td>\n",
       "      <td>693</td>\n",
       "      <td>1244</td>\n",
       "      <td>2006,2007,2008,2009,2010,2011,2012</td>\n",
       "      <td>ctr_BlCf3Ogny-vLs8E9tQ, c6HT44PKCaXqzN_BdgKPCw...</td>\n",
       "      <td>57</td>\n",
       "      <td>...</td>\n",
       "      <td>16</td>\n",
       "      <td>7</td>\n",
       "      <td>7</td>\n",
       "      <td>3</td>\n",
       "      <td>31</td>\n",
       "      <td>72</td>\n",
       "      <td>95</td>\n",
       "      <td>95</td>\n",
       "      <td>34</td>\n",
       "      <td>2</td>\n",
       "    </tr>\n",
       "    <tr>\n",
       "      <td>9</td>\n",
       "      <td>NQffx45eJaeqhFcMadKUQA</td>\n",
       "      <td>Trace</td>\n",
       "      <td>124</td>\n",
       "      <td>2008-12-10 22:59:45</td>\n",
       "      <td>202</td>\n",
       "      <td>70</td>\n",
       "      <td>185</td>\n",
       "      <td></td>\n",
       "      <td>N-xeG3U6rUkjVtQ0o-5YZA, wnO99pBbGqwqOoTQM25iCw...</td>\n",
       "      <td>15</td>\n",
       "      <td>...</td>\n",
       "      <td>3</td>\n",
       "      <td>0</td>\n",
       "      <td>2</td>\n",
       "      <td>0</td>\n",
       "      <td>12</td>\n",
       "      <td>8</td>\n",
       "      <td>14</td>\n",
       "      <td>14</td>\n",
       "      <td>3</td>\n",
       "      <td>5</td>\n",
       "    </tr>\n",
       "  </tbody>\n",
       "</table>\n",
       "<p>10 rows × 22 columns</p>\n",
       "</div>"
      ],
      "text/plain": [
       "                  user_id     name  review_count        yelping_since  useful  \\\n",
       "0  l6BmjZMeQD3rDxWUbiAiow   Rashmi            95  2013-10-08 23:11:33      84   \n",
       "1  4XChL029mKr5hydo79Ljxg    Jenna            33  2013-02-21 22:29:06      48   \n",
       "2  bc8C_eETBWL0olvFSJJd0w    David            16  2013-10-04 00:16:10      28   \n",
       "3  dD0gZpBctWGdWo9WlGuhlA   Angela            17  2014-05-22 15:57:30      30   \n",
       "4  MM4RJAeH6yuaN8oZDSt0RA    Nancy           361  2013-10-23 07:02:50    1114   \n",
       "5  0rK89TS8xqy1wI4nYI1wfw  Marilyn           214  2011-06-23 08:05:13    3475   \n",
       "6  TEtzbpgA2BFBrC0y0sCbfw    Keane          1122  2006-02-15 18:29:35   13311   \n",
       "7  KGuqerdeNhxzXZEyBaqqSw    Andre             6  2014-06-07 01:50:09       1   \n",
       "8  T0gWkTHWRChVUe_Dn1F8nw    Tanya           859  2005-07-20 22:38:17    1630   \n",
       "9  NQffx45eJaeqhFcMadKUQA    Trace           124  2008-12-10 22:59:45     202   \n",
       "\n",
       "   funny   cool                                    elite  \\\n",
       "0     17     25                           2015,2016,2017   \n",
       "1     22     16                                            \n",
       "2      8     10                                            \n",
       "3      4     14                                            \n",
       "4    279    665                      2015,2016,2017,2018   \n",
       "5   2424   3048                      2015,2016,2017,2018   \n",
       "6  19356  15319  2006,2007,2008,2009,2010,2011,2012,2013   \n",
       "7      0      1                                            \n",
       "8    693   1244       2006,2007,2008,2009,2010,2011,2012   \n",
       "9     70    185                                            \n",
       "\n",
       "                                             friends  fans  ...  \\\n",
       "0  c78V-rj8NQcQjOI8KP3UEA, alRMgPcngYSCJ5naFRBz5g...     5  ...   \n",
       "1  kEBTgDvFX754S68FllfCaA, aB2DynOxNOJK9st2ZeGTPg...     4  ...   \n",
       "2  4N-HU_T32hLENLntsNKNBg, pSY2vwWLgWfGVAAiKQzMng...     0  ...   \n",
       "3  RZ6wS38wnlXyj-OOdTzBxA, l5jxZh1KsgI8rMunm-GN6A...     5  ...   \n",
       "4  mbwrZ-RS76V1HoJ0bF_Geg, g64lOV39xSLRZO0aQQ6DeQ...    39  ...   \n",
       "5  AJxDPGVTzefy3vSHWJchvQ, TgveR4qIsr0Q7b4MJK29TA...   186  ...   \n",
       "6  RJQTcJVlBsJ3_Yo0JSFQQg, GWt_h78k1CBBkE1NpThGfQ...   696  ...   \n",
       "7  d1z7Xc9RG5TVBkdUPhSbAw, IgsbGFEN8NWshPNOBiNGmg...     0  ...   \n",
       "8  ctr_BlCf3Ogny-vLs8E9tQ, c6HT44PKCaXqzN_BdgKPCw...    57  ...   \n",
       "9  N-xeG3U6rUkjVtQ0o-5YZA, wnO99pBbGqwqOoTQM25iCw...    15  ...   \n",
       "\n",
       "   compliment_more  compliment_profile  compliment_cute  compliment_list  \\\n",
       "0                0                   0                0                0   \n",
       "1                0                   0                0                0   \n",
       "2                0                   0                0                0   \n",
       "3                0                   0                0                0   \n",
       "4                1                   0                0                1   \n",
       "5               46                  50               44                3   \n",
       "6              314                 333              889              152   \n",
       "7                0                   0                0                0   \n",
       "8               16                   7                7                3   \n",
       "9                3                   0                2                0   \n",
       "\n",
       "   compliment_note  compliment_plain  compliment_cool  compliment_funny  \\\n",
       "0                1                 1                1                 1   \n",
       "1                0                 0                1                 1   \n",
       "2                1                 0                0                 0   \n",
       "3                0                 2                0                 0   \n",
       "4               16                57               80                80   \n",
       "5              221               404              483               483   \n",
       "6             1600              3635             4991              4991   \n",
       "7                0                 0                0                 0   \n",
       "8               31                72               95                95   \n",
       "9               12                 8               14                14   \n",
       "\n",
       "   compliment_writer  compliment_photos  \n",
       "0                  2                  0  \n",
       "1                  0                  0  \n",
       "2                  0                  0  \n",
       "3                  1                  0  \n",
       "4                 25                  5  \n",
       "5                149                195  \n",
       "6               1086                428  \n",
       "7                  0                  0  \n",
       "8                 34                  2  \n",
       "9                  3                  5  \n",
       "\n",
       "[10 rows x 22 columns]"
      ]
     },
     "execution_count": 213,
     "metadata": {},
     "output_type": "execute_result"
    }
   ],
   "source": [
    "user= read_json('/Users/chenzixing/Desktop/BDA/yelp_academic_dataset_user.json')\n",
    "user.head(10)"
   ]
  },
  {
   "cell_type": "code",
   "execution_count": 229,
   "metadata": {
    "scrolled": true
   },
   "outputs": [
    {
     "data": {
      "text/plain": [
       "<seaborn.axisgrid.PairGrid at 0x1be41dace48>"
      ]
     },
     "execution_count": 229,
     "metadata": {},
     "output_type": "execute_result"
    },
    {
     "data": {
      "image/png": "[encoded data removed]",
      "text/plain": [
       "<Figure size 540x540 with 12 Axes>"
      ]
     },
     "metadata": {},
     "output_type": "display_data"
    }
   ],
   "source": [
    "sns.pairplot(user[['useful','cool','funny']],diag_kind=\"kde\",kind=\"reg\",palette=\"husl\")"
   ]
  },
  {
   "cell_type": "code",
   "execution_count": null,
   "metadata": {},
   "outputs": [],
   "source": [
    "user0=user.drop(user.columns[[11,12,13,14,15,16,17,18,19,20,21]], axis=1)"
   ]
  },
  {
   "cell_type": "code",
   "execution_count": null,
   "metadata": {},
   "outputs": [],
   "source": [
    "user0.yelping_since=user0.yelping_since.str.split(' ',expand=True)\n",
    "user0[\"yepling_since_date\"]=pd.to_datetime(user0.yelping_since,format=\"%Y-%m-%d\")\n",
    "user0.drop(user0.columns[[3]],axis=1)"
   ]
  },
  {
   "cell_type": "code",
   "execution_count": null,
   "metadata": {},
   "outputs": [],
   "source": [
    "user0['friendcount']= user0.friends.str.findall(r',').str.len()\n",
    "user0.drop(user0.columns[[7,8]],axis=1)"
   ]
  },
  {
   "cell_type": "code",
   "execution_count": null,
   "metadata": {},
   "outputs": [],
   "source": [
    "user1 = user0.drop(user0.columns[[3,7,8]],axis=1)\n",
    "user1.head()"
   ]
  },
  {
   "cell_type": "code",
   "execution_count": null,
   "metadata": {},
   "outputs": [],
   "source": [
    "user1.to_csv('user_clean.csv',index=False)"
   ]
  },
  {
   "cell_type": "code",
   "execution_count": 4,
   "metadata": {},
   "outputs": [],
   "source": [
    "business= read_json('/Users/chenzixing/Desktop/BDA/yelp_academic_dataset_business.json')"
   ]
  },
  {
   "cell_type": "code",
   "execution_count": 5,
   "metadata": {},
   "outputs": [],
   "source": [
    "business_rest = business[business['categories'].notnull()]\n",
    "business_rest = business_rest[business_rest['categories'].str.contains(\"Restaurants\")]\n",
    "business2 = business_rest.categories.str.split(\",\",expand = True)"
   ]
  },
  {
   "cell_type": "code",
   "execution_count": 6,
   "metadata": {},
   "outputs": [],
   "source": [
    "business3 = pd.concat([business_rest,business2],axis=1)\n",
    "business4 = business3.drop(business3.columns[[2,3,4,5,6,7,10,11,12,13]],axis=1)\n",
    "business4 = business4.fillna(\"null\")"
   ]
  },
  {
   "cell_type": "code",
   "execution_count": 184,
   "metadata": {
    "scrolled": true
   },
   "outputs": [
    {
     "data": {
      "text/html": [
       "<div>\n",
       "<style scoped>\n",
       "    .dataframe tbody tr th:only-of-type {\n",
       "        vertical-align: middle;\n",
       "    }\n",
       "\n",
       "    .dataframe tbody tr th {\n",
       "        vertical-align: top;\n",
       "    }\n",
       "\n",
       "    .dataframe thead th {\n",
       "        text-align: right;\n",
       "    }\n",
       "</style>\n",
       "<table border=\"1\" class=\"dataframe\">\n",
       "  <thead>\n",
       "    <tr style=\"text-align: right;\">\n",
       "      <th></th>\n",
       "      <th>Average star</th>\n",
       "      <th>Average review count</th>\n",
       "    </tr>\n",
       "  </thead>\n",
       "  <tbody>\n",
       "    <tr>\n",
       "      <td>Pizza</td>\n",
       "      <td>3.32</td>\n",
       "      <td>55.81</td>\n",
       "    </tr>\n",
       "    <tr>\n",
       "      <td>Burgers</td>\n",
       "      <td>3.02</td>\n",
       "      <td>70.74</td>\n",
       "    </tr>\n",
       "    <tr>\n",
       "      <td>Fast Food</td>\n",
       "      <td>2.81</td>\n",
       "      <td>30.74</td>\n",
       "    </tr>\n",
       "    <tr>\n",
       "      <td>Mexican</td>\n",
       "      <td>3.44</td>\n",
       "      <td>87.40</td>\n",
       "    </tr>\n",
       "    <tr>\n",
       "      <td>Sandwiches</td>\n",
       "      <td>3.46</td>\n",
       "      <td>62.74</td>\n",
       "    </tr>\n",
       "    <tr>\n",
       "      <td>Traditional</td>\n",
       "      <td>3.32</td>\n",
       "      <td>99.65</td>\n",
       "    </tr>\n",
       "    <tr>\n",
       "      <td>New</td>\n",
       "      <td>3.50</td>\n",
       "      <td>118.78</td>\n",
       "    </tr>\n",
       "    <tr>\n",
       "      <td>Chinese</td>\n",
       "      <td>3.31</td>\n",
       "      <td>57.02</td>\n",
       "    </tr>\n",
       "    <tr>\n",
       "      <td>Nightlife</td>\n",
       "      <td>3.49</td>\n",
       "      <td>113.95</td>\n",
       "    </tr>\n",
       "    <tr>\n",
       "      <td>Italian</td>\n",
       "      <td>3.48</td>\n",
       "      <td>80.20</td>\n",
       "    </tr>\n",
       "    <tr>\n",
       "      <td>Bars</td>\n",
       "      <td>3.54</td>\n",
       "      <td>112.44</td>\n",
       "    </tr>\n",
       "    <tr>\n",
       "      <td>Breakfast &amp; Brunch</td>\n",
       "      <td>3.58</td>\n",
       "      <td>116.25</td>\n",
       "    </tr>\n",
       "    <tr>\n",
       "      <td>Cafes</td>\n",
       "      <td>3.80</td>\n",
       "      <td>64.88</td>\n",
       "    </tr>\n",
       "    <tr>\n",
       "      <td>Japanese</td>\n",
       "      <td>3.59</td>\n",
       "      <td>110.64</td>\n",
       "    </tr>\n",
       "    <tr>\n",
       "      <td>Sushi Bars</td>\n",
       "      <td>3.58</td>\n",
       "      <td>108.37</td>\n",
       "    </tr>\n",
       "    <tr>\n",
       "      <td>Seafood</td>\n",
       "      <td>3.57</td>\n",
       "      <td>130.10</td>\n",
       "    </tr>\n",
       "  </tbody>\n",
       "</table>\n",
       "</div>"
      ],
      "text/plain": [
       "                    Average star  Average review count\n",
       "Pizza                       3.32                 55.81\n",
       "Burgers                     3.02                 70.74\n",
       "Fast Food                   2.81                 30.74\n",
       "Mexican                     3.44                 87.40\n",
       "Sandwiches                  3.46                 62.74\n",
       "Traditional                 3.32                 99.65\n",
       "New                         3.50                118.78\n",
       "Chinese                     3.31                 57.02\n",
       "Nightlife                   3.49                113.95\n",
       "Italian                     3.48                 80.20\n",
       "Bars                        3.54                112.44\n",
       "Breakfast & Brunch          3.58                116.25\n",
       "Cafes                       3.80                 64.88\n",
       "Japanese                    3.59                110.64\n",
       "Sushi Bars                  3.58                108.37\n",
       "Seafood                     3.57                130.10"
      ]
     },
     "execution_count": 184,
     "metadata": {},
     "output_type": "execute_result"
    }
   ],
   "source": [
    "topic = ['Pizza','Burgers','Fast Food','Mexican','Sandwiches','Traditional','New','Chinese','Nightlife','Italian','Bars','Breakfast & Brunch','Cafes','Japanese','Sushi Bars','Seafood']\n",
    "a=[]\n",
    "b=[]\n",
    "for i in topic:\n",
    "    stars = []\n",
    "    reviewcount = []\n",
    "    for j in range(4,40):\n",
    "        reviewcount.extend(business4[business4[business4.columns[j]].str.contains(i)].review_count.values.tolist())\n",
    "        stars.extend(business4[business4[business4.columns[j]].str.contains(i)].stars.values.tolist())\n",
    "    a.append(round(np.mean(stars),2))\n",
    "    b.append(round(np.mean(reviewcount),2))\n",
    "categ = pd.DataFrame({'Average star':a,'Average review count':b},index=topic)\n",
    "categ"
   ]
  },
  {
   "cell_type": "code",
   "execution_count": null,
   "metadata": {},
   "outputs": [],
   "source": []
  },
  {
   "cell_type": "code",
   "execution_count": 207,
   "metadata": {},
   "outputs": [
    {
     "data": {
      "text/plain": [
       "Text(0, 0.5, 'Average review count')"
      ]
     },
     "execution_count": 207,
     "metadata": {},
     "output_type": "execute_result"
    },
    {
     "data": {
      "image/png": "[encoded data removed]",
      "text/plain": [
       "<Figure size 432x288 with 2 Axes>"
      ]
     },
     "metadata": {
      "needs_background": "light"
     },
     "output_type": "display_data"
    }
   ],
   "source": [
    "ax1 = sns.barplot(categ.index, categ['Average star'],palette=\"deep\")\n",
    "plt.title('Restaurantt Categories of Catering Industry')\n",
    "plt.xticks(rotation=90)\n",
    "ax2 = ax1.twinx()\n",
    "ax2.plot(categ.index,categ['Average review count'],'r',ms=10)\n",
    "ax2.set_ylabel('Average review count')"
   ]
  },
  {
   "cell_type": "code",
   "execution_count": null,
   "metadata": {},
   "outputs": [],
   "source": []
  },
  {
   "cell_type": "code",
   "execution_count": null,
   "metadata": {
    "scrolled": true
   },
   "outputs": [],
   "source": [
    "for i in range(4,41):\n",
    "    print(business4[business4.columns[i]].value_counts()[:20])"
   ]
  },
  {
   "cell_type": "code",
   "execution_count": 7,
   "metadata": {},
   "outputs": [
    {
     "data": {
      "text/plain": [
       "833"
      ]
     },
     "execution_count": 7,
     "metadata": {},
     "output_type": "execute_result"
    }
   ],
   "source": [
    "business_rest = business[business['categories'].notnull()]\n",
    "id1 = business_rest[(business_rest['categories'].str.contains(\"New\")) & (business_rest.state=='NV')].business_id\n",
    "len(id1)"
   ]
  },
  {
   "cell_type": "code",
   "execution_count": 49,
   "metadata": {},
   "outputs": [
    {
     "data": {
      "text/plain": [
       "492"
      ]
     },
     "execution_count": 49,
     "metadata": {},
     "output_type": "execute_result"
    }
   ],
   "source": [
    "business_rest = business[business['categories'].notnull()]\n",
    "id2 = business_rest[(business_rest['categories'].str.contains(\"Seafood\"))&(business_rest.state=='NV')].business_id\n",
    "len(id2)"
   ]
  },
  {
   "cell_type": "code",
   "execution_count": 50,
   "metadata": {},
   "outputs": [
    {
     "data": {
      "text/plain": [
       "2346"
      ]
     },
     "execution_count": 50,
     "metadata": {},
     "output_type": "execute_result"
    }
   ],
   "source": [
    "business_rest = business[business['categories'].notnull()]\n",
    "id3 = business_rest[(business_rest['categories'].str.contains(\"Nightlife\"))&(business_rest.state=='NV')].business_id\n",
    "len(id3)"
   ]
  },
  {
   "cell_type": "code",
   "execution_count": 51,
   "metadata": {},
   "outputs": [
    {
     "data": {
      "text/plain": [
       "847"
      ]
     },
     "execution_count": 51,
     "metadata": {},
     "output_type": "execute_result"
    }
   ],
   "source": [
    "business_rest = business[business['categories'].notnull()]\n",
    "id4 = business_rest[(business_rest['categories'].str.contains(\"Pizza\"))&(business_rest.state=='NV')].business_id\n",
    "len(id4)"
   ]
  },
  {
   "cell_type": "code",
   "execution_count": 52,
   "metadata": {},
   "outputs": [
    {
     "data": {
      "text/plain": [
       "2467"
      ]
     },
     "execution_count": 52,
     "metadata": {},
     "output_type": "execute_result"
    }
   ],
   "source": [
    "business_rest = business[business['categories'].notnull()]\n",
    "id5 = business_rest[(business_rest['categories'].str.contains(\"Bars\"))&(business_rest.state=='NV')].business_id\n",
    "len(id5)"
   ]
  },
  {
   "cell_type": "code",
   "execution_count": 53,
   "metadata": {},
   "outputs": [
    {
     "data": {
      "text/plain": [
       "2717"
      ]
     },
     "execution_count": 53,
     "metadata": {},
     "output_type": "execute_result"
    }
   ],
   "source": [
    "business_rest = business[business['categories'].notnull()]\n",
    "id6 = business_rest[(business_rest['categories'].str.contains(\"Japanese\"))].business_id\n",
    "len(id6)"
   ]
  },
  {
   "cell_type": "code",
   "execution_count": 57,
   "metadata": {},
   "outputs": [
    {
     "data": {
      "text/plain": [
       "681"
      ]
     },
     "execution_count": 57,
     "metadata": {},
     "output_type": "execute_result"
    }
   ],
   "source": [
    "business_rest = business[business['categories'].notnull()]\n",
    "id7 = business_rest[(business_rest['categories'].str.contains(\"Breakfast\")) & (business_rest.state=='NV')].business_id\n",
    "len(id7)"
   ]
  },
  {
   "cell_type": "code",
   "execution_count": 58,
   "metadata": {},
   "outputs": [
    {
     "data": {
      "text/plain": [
       "593"
      ]
     },
     "execution_count": 58,
     "metadata": {},
     "output_type": "execute_result"
    }
   ],
   "source": [
    "business_rest = business[business['categories'].notnull()]\n",
    "id8 = business_rest[(business_rest['categories'].str.contains(\"Chinese\")) & (business_rest.state=='NV')].business_id\n",
    "len(id8)"
   ]
  },
  {
   "cell_type": "code",
   "execution_count": 59,
   "metadata": {},
   "outputs": [
    {
     "data": {
      "text/plain": [
       "1016"
      ]
     },
     "execution_count": 59,
     "metadata": {},
     "output_type": "execute_result"
    }
   ],
   "source": [
    "business_rest = business[business['categories'].notnull()]\n",
    "id9 = business_rest[(business_rest['categories'].str.contains(\"Mexican\")) & (business_rest.state=='NV')].business_id\n",
    "len(id9)"
   ]
  },
  {
   "cell_type": "code",
   "execution_count": null,
   "metadata": {},
   "outputs": [],
   "source": [
    "business=business.drop(business.columns[[2,3,5,10,11,12]], axis=1).dropna(axis=1,how='all')\n",
    "#business.info ()\n",
    "business.head(10)"
   ]
  },
  {
   "cell_type": "code",
   "execution_count": null,
   "metadata": {},
   "outputs": [],
   "source": [
    "business.to_csv('business_data_clean.csv',index=False)"
   ]
  },
  {
   "cell_type": "code",
   "execution_count": null,
   "metadata": {},
   "outputs": [],
   "source": [
    "business.isnull().sum()"
   ]
  },
  {
   "cell_type": "code",
   "execution_count": null,
   "metadata": {},
   "outputs": [],
   "source": [
    "business = business.sort_values(by =[\"review_count\"],ascending=False)\n",
    "business.head(50)"
   ]
  },
  {
   "cell_type": "code",
   "execution_count": 8,
   "metadata": {},
   "outputs": [],
   "source": [
    "review = read_json('/Users/chenzixing/Desktop/BDA/yelp_academic_dataset_review.json')"
   ]
  },
  {
   "cell_type": "code",
   "execution_count": 24,
   "metadata": {
    "scrolled": false
   },
   "outputs": [
    {
     "name": "stderr",
     "output_type": "stream",
     "text": [
      "C:\\Users\\jesse\\Anaconda3\\lib\\site-packages\\pandas\\core\\generic.py:5208: SettingWithCopyWarning: \n",
      "A value is trying to be set on a copy of a slice from a DataFrame.\n",
      "Try using .loc[row_indexer,col_indexer] = value instead\n",
      "\n",
      "See the caveats in the documentation: http://pandas.pydata.org/pandas-docs/stable/user_guide/indexing.html#returning-a-view-versus-a-copy\n",
      "  self[name] = value\n"
     ]
    }
   ],
   "source": [
    "business_rest = business[business['categories'].notnull()]\n",
    "review0 = review[review.business_id.isin(business_rest[(business_rest['categories'].str.contains(\"Restaurants\"))&(business_rest.state=='ON')].business_id)]\n",
    "review0.date = review0.date.str[:7]"
   ]
  },
  {
   "cell_type": "code",
   "execution_count": 140,
   "metadata": {},
   "outputs": [
    {
     "data": {
      "text/plain": [
       "267581"
      ]
     },
     "execution_count": 140,
     "metadata": {},
     "output_type": "execute_result"
    }
   ],
   "source": [
    "review_new = review[review.business_id.isin(id1)]\n",
    "review_new = review_new.drop(review_new.columns[[0,1,2,4,5,6,-1]],axis=1)\n",
    "len(review_new)"
   ]
  },
  {
   "cell_type": "code",
   "execution_count": 54,
   "metadata": {},
   "outputs": [
    {
     "data": {
      "text/plain": [
       "146960"
      ]
     },
     "execution_count": 54,
     "metadata": {},
     "output_type": "execute_result"
    }
   ],
   "source": [
    "review_seafood = review[review.business_id.isin(id2)]\n",
    "review_seafood = review_seafood.drop(review_seafood.columns[[0,1,2,4,5,6,-1]],axis=1)\n",
    "len(review_seafood)"
   ]
  },
  {
   "cell_type": "code",
   "execution_count": 55,
   "metadata": {},
   "outputs": [
    {
     "data": {
      "text/plain": [
       "430174"
      ]
     },
     "execution_count": 55,
     "metadata": {},
     "output_type": "execute_result"
    }
   ],
   "source": [
    "review_night = review[review.business_id.isin(id3)]\n",
    "review_night = review_night.drop(review_night.columns[[0,1,2,4,5,6,-1]],axis=1)\n",
    "len(review_night)"
   ]
  },
  {
   "cell_type": "code",
   "execution_count": 56,
   "metadata": {},
   "outputs": [
    {
     "data": {
      "text/plain": [
       "112520"
      ]
     },
     "execution_count": 56,
     "metadata": {},
     "output_type": "execute_result"
    }
   ],
   "source": [
    "review_Pizza = review[review.business_id.isin(id4)]\n",
    "review_Pizza = review_Pizza.drop(review_Pizza.columns[[0,1,2,4,5,6,-1]],axis=1)\n",
    "len(review_Pizza)"
   ]
  },
  {
   "cell_type": "code",
   "execution_count": 60,
   "metadata": {},
   "outputs": [
    {
     "data": {
      "text/plain": [
       "517876"
      ]
     },
     "execution_count": 60,
     "metadata": {},
     "output_type": "execute_result"
    }
   ],
   "source": [
    "review_Bars = review[review.business_id.isin(id5)]\n",
    "review_Bars = review_Bars.drop(review_Bars.columns[[0,1,2,4,5,6,-1]],axis=1)\n",
    "len(review_Bars)"
   ]
  },
  {
   "cell_type": "code",
   "execution_count": 61,
   "metadata": {},
   "outputs": [
    {
     "data": {
      "text/plain": [
       "309517"
      ]
     },
     "execution_count": 61,
     "metadata": {},
     "output_type": "execute_result"
    }
   ],
   "source": [
    "review_Japanese = review[review.business_id.isin(id6)]\n",
    "review_Japanese = review_Japanese.drop(review_Japanese.columns[[0,1,2,4,5,6,-1]],axis=1)\n",
    "len(review_Japanese)"
   ]
  },
  {
   "cell_type": "code",
   "execution_count": 63,
   "metadata": {},
   "outputs": [
    {
     "data": {
      "text/plain": [
       "230997"
      ]
     },
     "execution_count": 63,
     "metadata": {},
     "output_type": "execute_result"
    }
   ],
   "source": [
    "review_Breakfast = review[review.business_id.isin(id7)]\n",
    "review_Breakfast = review_Breakfast.drop(review_Breakfast.columns[[0,1,2,4,5,6,-1]],axis=1)\n",
    "len(review_Breakfast)"
   ]
  },
  {
   "cell_type": "code",
   "execution_count": 65,
   "metadata": {},
   "outputs": [
    {
     "data": {
      "text/plain": [
       "81580"
      ]
     },
     "execution_count": 65,
     "metadata": {},
     "output_type": "execute_result"
    }
   ],
   "source": [
    "review_Chinese = review[review.business_id.isin(id8)]\n",
    "review_Chinese = review_Chinese.drop(review_Chinese.columns[[0,1,2,4,5,6,-1]],axis=1)\n",
    "len(review_Chinese)"
   ]
  },
  {
   "cell_type": "code",
   "execution_count": 66,
   "metadata": {},
   "outputs": [
    {
     "data": {
      "text/plain": [
       "129659"
      ]
     },
     "execution_count": 66,
     "metadata": {},
     "output_type": "execute_result"
    }
   ],
   "source": [
    "review_Mexican = review[review.business_id.isin(id9)]\n",
    "review_Mexican = review_Mexican.drop(review_Mexican.columns[[0,1,2,4,5,6,-1]],axis=1)\n",
    "len(review_Mexican)"
   ]
  },
  {
   "cell_type": "code",
   "execution_count": 67,
   "metadata": {},
   "outputs": [
    {
     "data": {
      "text/html": [
       "<div>\n",
       "<style scoped>\n",
       "    .dataframe tbody tr th:only-of-type {\n",
       "        vertical-align: middle;\n",
       "    }\n",
       "\n",
       "    .dataframe tbody tr th {\n",
       "        vertical-align: top;\n",
       "    }\n",
       "\n",
       "    .dataframe thead th {\n",
       "        text-align: right;\n",
       "    }\n",
       "</style>\n",
       "<table border=\"1\" class=\"dataframe\">\n",
       "  <thead>\n",
       "    <tr style=\"text-align: right;\">\n",
       "      <th></th>\n",
       "      <th>stars</th>\n",
       "      <th>text</th>\n",
       "    </tr>\n",
       "  </thead>\n",
       "  <tbody>\n",
       "    <tr>\n",
       "      <td>23</td>\n",
       "      <td>5.0</td>\n",
       "      <td>Pick any meat on the planet and the chef will ...</td>\n",
       "    </tr>\n",
       "    <tr>\n",
       "      <td>43</td>\n",
       "      <td>5.0</td>\n",
       "      <td>Party of 3 ordered the fish tacos, pork belly ...</td>\n",
       "    </tr>\n",
       "  </tbody>\n",
       "</table>\n",
       "</div>"
      ],
      "text/plain": [
       "    stars                                               text\n",
       "23    5.0  Pick any meat on the planet and the chef will ...\n",
       "43    5.0  Party of 3 ordered the fish tacos, pork belly ..."
      ]
     },
     "execution_count": 67,
     "metadata": {},
     "output_type": "execute_result"
    }
   ],
   "source": [
    "review_Mexican[:2]"
   ]
  },
  {
   "cell_type": "code",
   "execution_count": null,
   "metadata": {},
   "outputs": [],
   "source": [
    "New,Seafood,Nightlife,Pizza,Bars,Japanese"
   ]
  },
  {
   "cell_type": "code",
   "execution_count": null,
   "metadata": {},
   "outputs": [],
   "source": [
    "review5[:100000].to_csv('Japanese.csv',index=False)"
   ]
  },
  {
   "cell_type": "code",
   "execution_count": null,
   "metadata": {},
   "outputs": [],
   "source": [
    "review7 = review[review.business_id.isin(id1)]\n",
    "review7 = review7.drop(review7.columns[[0,1,-1]],axis=1)\n",
    "review7 = review7[100000:]\n",
    "len(review7.business_id)"
   ]
  },
  {
   "cell_type": "code",
   "execution_count": null,
   "metadata": {},
   "outputs": [],
   "source": [
    "review7['text_length'] = review7['text'].apply(len)"
   ]
  },
  {
   "cell_type": "code",
   "execution_count": null,
   "metadata": {},
   "outputs": [],
   "source": [
    "import seaborn as sns\n",
    "import matplotlib.pyplot as plt\n",
    "g = sns.FacetGrid(data=review7, col='stars')\n",
    "g.map(plt.hist, 'text_length', bins=50, color='b')\n",
    "plt.savefig('stars_textlen', dpi=200)"
   ]
  },
  {
   "cell_type": "code",
   "execution_count": null,
   "metadata": {},
   "outputs": [],
   "source": [
    "stars = review7.groupby('stars').mean()\n",
    "stars"
   ]
  },
  {
   "cell_type": "code",
   "execution_count": 208,
   "metadata": {},
   "outputs": [
    {
     "ename": "AttributeError",
     "evalue": "'list' object has no attribute 'corr'",
     "output_type": "error",
     "traceback": [
      "\u001b[1;31m---------------------------------------------------------------------------\u001b[0m",
      "\u001b[1;31mAttributeError\u001b[0m                            Traceback (most recent call last)",
      "\u001b[1;32m<ipython-input-208-b7dfe72a5983>\u001b[0m in \u001b[0;36m<module>\u001b[1;34m\u001b[0m\n\u001b[0;32m      1\u001b[0m \u001b[0mcmap\u001b[0m \u001b[1;33m=\u001b[0m \u001b[0msns\u001b[0m\u001b[1;33m.\u001b[0m\u001b[0mcubehelix_palette\u001b[0m\u001b[1;33m(\u001b[0m\u001b[1;36m9\u001b[0m\u001b[1;33m,\u001b[0m \u001b[0mstart\u001b[0m\u001b[1;33m=\u001b[0m\u001b[1;36m.4\u001b[0m\u001b[1;33m,\u001b[0m \u001b[0mrot\u001b[0m\u001b[1;33m=\u001b[0m\u001b[1;33m-\u001b[0m\u001b[1;36m.70\u001b[0m\u001b[1;33m,\u001b[0m \u001b[0mas_cmap\u001b[0m\u001b[1;33m=\u001b[0m\u001b[1;32mTrue\u001b[0m\u001b[1;33m,\u001b[0m \u001b[0mreverse\u001b[0m\u001b[1;33m=\u001b[0m\u001b[1;32mFalse\u001b[0m\u001b[1;33m,\u001b[0m \u001b[0mlight\u001b[0m\u001b[1;33m=\u001b[0m\u001b[1;36m0.85\u001b[0m\u001b[1;33m,\u001b[0m \u001b[0mdark\u001b[0m\u001b[1;33m=\u001b[0m\u001b[1;36m0.35\u001b[0m\u001b[1;33m)\u001b[0m\u001b[1;33m\u001b[0m\u001b[1;33m\u001b[0m\u001b[0m\n\u001b[0;32m      2\u001b[0m \u001b[0msns\u001b[0m\u001b[1;33m.\u001b[0m\u001b[0mset\u001b[0m\u001b[1;33m(\u001b[0m\u001b[0mfont_scale\u001b[0m\u001b[1;33m=\u001b[0m\u001b[1;36m0.9\u001b[0m\u001b[1;33m)\u001b[0m\u001b[1;33m\u001b[0m\u001b[1;33m\u001b[0m\u001b[0m\n\u001b[1;32m----> 3\u001b[1;33m \u001b[0msns\u001b[0m\u001b[1;33m.\u001b[0m\u001b[0mheatmap\u001b[0m\u001b[1;33m(\u001b[0m\u001b[0mdata\u001b[0m\u001b[1;33m=\u001b[0m\u001b[0mstars\u001b[0m\u001b[1;33m.\u001b[0m\u001b[0mcorr\u001b[0m\u001b[1;33m(\u001b[0m\u001b[1;33m)\u001b[0m\u001b[1;33m,\u001b[0m\u001b[0mcmap\u001b[0m\u001b[1;33m=\u001b[0m\u001b[0mcmap\u001b[0m\u001b[1;33m,\u001b[0m\u001b[0mcbar\u001b[0m\u001b[1;33m=\u001b[0m\u001b[1;32mTrue\u001b[0m\u001b[1;33m,\u001b[0m\u001b[0mannot\u001b[0m\u001b[1;33m=\u001b[0m\u001b[1;32mTrue\u001b[0m\u001b[1;33m,\u001b[0m\u001b[0msquare\u001b[0m\u001b[1;33m=\u001b[0m\u001b[1;32mTrue\u001b[0m\u001b[1;33m,\u001b[0m\u001b[0mfmt\u001b[0m\u001b[1;33m=\u001b[0m\u001b[1;34m'.2f'\u001b[0m\u001b[1;33m,\u001b[0m\u001b[0mannot_kws\u001b[0m\u001b[1;33m=\u001b[0m\u001b[1;33m{\u001b[0m\u001b[1;34m'size'\u001b[0m\u001b[1;33m:\u001b[0m\u001b[1;36m10\u001b[0m\u001b[1;33m}\u001b[0m\u001b[1;33m)\u001b[0m\u001b[1;33m\u001b[0m\u001b[1;33m\u001b[0m\u001b[0m\n\u001b[0m\u001b[0;32m      4\u001b[0m \u001b[0mplt\u001b[0m\u001b[1;33m.\u001b[0m\u001b[0msavefig\u001b[0m\u001b[1;33m(\u001b[0m\u001b[1;34m'heatmap'\u001b[0m\u001b[1;33m,\u001b[0m \u001b[0mdpi\u001b[0m\u001b[1;33m=\u001b[0m\u001b[1;36m200\u001b[0m\u001b[1;33m)\u001b[0m\u001b[1;33m\u001b[0m\u001b[1;33m\u001b[0m\u001b[0m\n",
      "\u001b[1;31mAttributeError\u001b[0m: 'list' object has no attribute 'corr'"
     ]
    }
   ],
   "source": [
    "cmap = sns.cubehelix_palette(9, start=.4, rot=-.70, as_cmap=True, reverse=False, light=0.85, dark=0.35)\n",
    "sns.set(font_scale=0.9)\n",
    "sns.heatmap(data=stars.corr(),cmap=cmap,cbar=True,annot=True,square=True,fmt='.2f',annot_kws={'size':10})\n",
    "plt.savefig('heatmap', dpi=200)"
   ]
  },
  {
   "cell_type": "code",
   "execution_count": 25,
   "metadata": {
    "scrolled": true
   },
   "outputs": [
    {
     "name": "stderr",
     "output_type": "stream",
     "text": [
      "C:\\Users\\jesse\\Anaconda3\\lib\\site-packages\\ipykernel_launcher.py:1: SettingWithCopyWarning: \n",
      "A value is trying to be set on a copy of a slice from a DataFrame.\n",
      "Try using .loc[row_indexer,col_indexer] = value instead\n",
      "\n",
      "See the caveats in the documentation: http://pandas.pydata.org/pandas-docs/stable/user_guide/indexing.html#returning-a-view-versus-a-copy\n",
      "  \"\"\"Entry point for launching an IPython kernel.\n"
     ]
    },
    {
     "data": {
      "text/plain": [
       "92226"
      ]
     },
     "execution_count": 25,
     "metadata": {},
     "output_type": "execute_result"
    }
   ],
   "source": [
    "review0[\"year_month\"]=pd.to_datetime(review0.date)\n",
    "review9 = review0[(review0.year_month>'2016-01') & (review0.year_month<'2017-01')]\n",
    "review9 = review9.set_index('year_month')\n",
    "review9 = review9.drop(review9.columns[[0,1,4,5,6,-1]],axis=1)\n",
    "len(review9)"
   ]
  },
  {
   "cell_type": "code",
   "execution_count": 161,
   "metadata": {
    "scrolled": true
   },
   "outputs": [
    {
     "data": {
      "text/plain": [
       "1.0    11152\n",
       "2.0     9508\n",
       "3.0    15724\n",
       "4.0    28054\n",
       "5.0    27788\n",
       "Name: stars, dtype: int64"
      ]
     },
     "execution_count": 161,
     "metadata": {},
     "output_type": "execute_result"
    }
   ],
   "source": [
    "star = pd.Series(review9.stars.value_counts())\n",
    "star"
   ]
  },
  {
   "cell_type": "code",
   "execution_count": 171,
   "metadata": {},
   "outputs": [
    {
     "ename": "SyntaxError",
     "evalue": "positional argument follows keyword argument (<ipython-input-171-f3bbc408eeb8>, line 5)",
     "output_type": "error",
     "traceback": [
      "\u001b[1;36m  File \u001b[1;32m\"<ipython-input-171-f3bbc408eeb8>\"\u001b[1;36m, line \u001b[1;32m5\u001b[0m\n\u001b[1;33m    ax1 = plt.pie(star.sort_index(), labels=labels, colors=colors, set_color('red'),shadow=True,autopct='%1.1f%%', startangle=140)\u001b[0m\n\u001b[1;37m                                                                  ^\u001b[0m\n\u001b[1;31mSyntaxError\u001b[0m\u001b[1;31m:\u001b[0m positional argument follows keyword argument\n"
     ]
    }
   ],
   "source": [
    "import matplotlib.pyplot as plt\n",
    "colors = ['firebrick', 'crimson', 'red', 'salmon', 'lightsalmon']\n",
    "labels = '1 Star','2 Star','3 Star','4 Star','5 Star'\n",
    "\n",
    "ax1 = plt.pie(star.sort_index(), labels=labels, colors=colors, shadow=True,autopct='%1.1f%%', startangle=140)"
   ]
  },
  {
   "cell_type": "code",
   "execution_count": 166,
   "metadata": {},
   "outputs": [
    {
     "data": {
      "image/png": "[encoded data removed]",
      "text/plain": [
       "<Figure size 432x288 with 1 Axes>"
      ]
     },
     "metadata": {},
     "output_type": "display_data"
    }
   ],
   "source": [
    "explode2 = (0, 0, 0, 0.1, 0.1)\n",
    "ax2 = plt.pie(star.sort_index(), explode=explode2, labels=labels, colors=colors,shadow=True,autopct='%1.1f%%', startangle=140)\n",
    "plt.show()"
   ]
  },
  {
   "cell_type": "code",
   "execution_count": null,
   "metadata": {},
   "outputs": [],
   "source": [
    "review10 = review9[review9.business_id=='hihud--QRriCYZw1zZvW4g']\n",
    "len(review10)"
   ]
  },
  {
   "cell_type": "code",
   "execution_count": null,
   "metadata": {},
   "outputs": [],
   "source": [
    "review1 = review1.groupby('year_month').aggregate({'stars':np.mean}).sort_index(by='year_month',ascending=True)\n",
    "import matplotlib.pyplot as plt\n",
    "%matplotlib inline\n",
    "plt.plot(review1)"
   ]
  },
  {
   "cell_type": "code",
   "execution_count": null,
   "metadata": {},
   "outputs": [],
   "source": [
    "review = review[:100000].drop(['review_id','user_id','date','funny','cool'],axis=1)\n",
    "#review.isnull().any()\n",
    "review.dropna(inplace=True)"
   ]
  },
  {
   "cell_type": "code",
   "execution_count": 126,
   "metadata": {},
   "outputs": [
    {
     "ename": "SyntaxError",
     "evalue": "keyword can't be an expression (<ipython-input-126-763d189c7312>, line 2)",
     "output_type": "error",
     "traceback": [
      "\u001b[1;36m  File \u001b[1;32m\"<ipython-input-126-763d189c7312>\"\u001b[1;36m, line \u001b[1;32m2\u001b[0m\n\u001b[1;33m    review9['label2']=np.where(review9['stars'] = 3, 'neutral', 'b')\u001b[0m\n\u001b[1;37m                              ^\u001b[0m\n\u001b[1;31mSyntaxError\u001b[0m\u001b[1;31m:\u001b[0m keyword can't be an expression\n"
     ]
    }
   ],
   "source": [
    "review9['label1']=np.where(review9['stars'] > 3, 'postive', 'a')\n",
    "review9['label2']=np.where(review9['stars'] = 3, 'neutral', 'b')\n",
    "review9['label3']=np.where(review9['stars'] < 3, 'negative', 'c')"
   ]
  },
  {
   "cell_type": "code",
   "execution_count": null,
   "metadata": {},
   "outputs": [],
   "source": [
    "# Remove any 'neutral' ratings equal to 3\n",
    "review8 = review7[review7['stars'] != 3]\n",
    "\n",
    "# Encode 4s and 5s as 1 (rated positively)\n",
    "# Encode 1s and 2s as 0 (rated poorly)\n",
    "review8['label'] = np.where(review8['stars'] > 3, 1, 0)\n",
    "review8 = review8.drop(review8.columns[[2,3,4]],axis=1)\n",
    "review8.head()"
   ]
  },
  {
   "cell_type": "code",
   "execution_count": 72,
   "metadata": {},
   "outputs": [
    {
     "name": "stderr",
     "output_type": "stream",
     "text": [
      "C:\\Users\\jesse\\Anaconda3\\lib\\site-packages\\ipykernel_launcher.py:6: SettingWithCopyWarning: \n",
      "A value is trying to be set on a copy of a slice from a DataFrame.\n",
      "Try using .loc[row_indexer,col_indexer] = value instead\n",
      "\n",
      "See the caveats in the documentation: http://pandas.pydata.org/pandas-docs/stable/user_guide/indexing.html#returning-a-view-versus-a-copy\n",
      "  \n"
     ]
    },
    {
     "data": {
      "text/html": [
       "<div>\n",
       "<style scoped>\n",
       "    .dataframe tbody tr th:only-of-type {\n",
       "        vertical-align: middle;\n",
       "    }\n",
       "\n",
       "    .dataframe tbody tr th {\n",
       "        vertical-align: top;\n",
       "    }\n",
       "\n",
       "    .dataframe thead th {\n",
       "        text-align: right;\n",
       "    }\n",
       "</style>\n",
       "<table border=\"1\" class=\"dataframe\">\n",
       "  <thead>\n",
       "    <tr style=\"text-align: right;\">\n",
       "      <th></th>\n",
       "      <th>business_id</th>\n",
       "      <th>stars</th>\n",
       "      <th>text</th>\n",
       "      <th>label</th>\n",
       "    </tr>\n",
       "    <tr>\n",
       "      <th>year_month</th>\n",
       "      <th></th>\n",
       "      <th></th>\n",
       "      <th></th>\n",
       "      <th></th>\n",
       "    </tr>\n",
       "  </thead>\n",
       "  <tbody>\n",
       "    <tr>\n",
       "      <td>2017-04-01</td>\n",
       "      <td>YvrylyuWgbP90RgMqZQVnQ</td>\n",
       "      <td>5.0</td>\n",
       "      <td>You can't really find anything wrong with this...</td>\n",
       "      <td>1</td>\n",
       "    </tr>\n",
       "    <tr>\n",
       "      <td>2017-09-01</td>\n",
       "      <td>4RA3hdiiC3vuiaSIraZ28g</td>\n",
       "      <td>4.0</td>\n",
       "      <td>Ordered combo 3.  It comes with two plates or ...</td>\n",
       "      <td>1</td>\n",
       "    </tr>\n",
       "    <tr>\n",
       "      <td>2017-06-01</td>\n",
       "      <td>WKOUTdVJS58E178JjhwidQ</td>\n",
       "      <td>4.0</td>\n",
       "      <td>I love coming to pastel ! My favorite items ar...</td>\n",
       "      <td>1</td>\n",
       "    </tr>\n",
       "    <tr>\n",
       "      <td>2017-05-01</td>\n",
       "      <td>7N4_jIwfNZr48OGTjwqF-w</td>\n",
       "      <td>5.0</td>\n",
       "      <td>Dined here a couple of weeks ago on a Saturday...</td>\n",
       "      <td>1</td>\n",
       "    </tr>\n",
       "    <tr>\n",
       "      <td>2017-11-01</td>\n",
       "      <td>ViJGzET7fBMShhIgKew2Bg</td>\n",
       "      <td>4.0</td>\n",
       "      <td>Out shopping (gross), I got a hankering for Me...</td>\n",
       "      <td>1</td>\n",
       "    </tr>\n",
       "  </tbody>\n",
       "</table>\n",
       "</div>"
      ],
      "text/plain": [
       "                       business_id  stars  \\\n",
       "year_month                                  \n",
       "2017-04-01  YvrylyuWgbP90RgMqZQVnQ    5.0   \n",
       "2017-09-01  4RA3hdiiC3vuiaSIraZ28g    4.0   \n",
       "2017-06-01  WKOUTdVJS58E178JjhwidQ    4.0   \n",
       "2017-05-01  7N4_jIwfNZr48OGTjwqF-w    5.0   \n",
       "2017-11-01  ViJGzET7fBMShhIgKew2Bg    4.0   \n",
       "\n",
       "                                                         text  label  \n",
       "year_month                                                            \n",
       "2017-04-01  You can't really find anything wrong with this...      1  \n",
       "2017-09-01  Ordered combo 3.  It comes with two plates or ...      1  \n",
       "2017-06-01  I love coming to pastel ! My favorite items ar...      1  \n",
       "2017-05-01  Dined here a couple of weeks ago on a Saturday...      1  \n",
       "2017-11-01  Out shopping (gross), I got a hankering for Me...      1  "
      ]
     },
     "execution_count": 72,
     "metadata": {},
     "output_type": "execute_result"
    }
   ],
   "source": [
    "# Remove any 'neutral' ratings equal to 3\n",
    "review10 = review9[review9['stars'] != 3]\n",
    "\n",
    "# Encode 4s and 5s as 1 (rated positively)\n",
    "# Encode 1s and 2s as 0 (rated poorly)\n",
    "review10['label'] = np.where(review10['stars'] > 3, 1, 0)\n",
    "review10.head()"
   ]
  },
  {
   "cell_type": "code",
   "execution_count": 10,
   "metadata": {},
   "outputs": [],
   "source": [
    "review11 = review10[review10['label'] == 0]\n",
    "review12 = review10[review10['label'] == 1]"
   ]
  },
  {
   "cell_type": "code",
   "execution_count": null,
   "metadata": {},
   "outputs": [],
   "source": [
    "import seaborn as sns\n",
    "%matplotlib inline\n",
    "sns.countplot(review0.stars)"
   ]
  },
  {
   "cell_type": "code",
   "execution_count": null,
   "metadata": {},
   "outputs": [],
   "source": [
    "review10['label'].mean()"
   ]
  },
  {
   "cell_type": "code",
   "execution_count": null,
   "metadata": {},
   "outputs": [],
   "source": [
    "review['lencount'] = review.text.str.len()\n",
    "print((np.mean(review.lencount[review['label']==0]),np.mean(review.lencount[review['label']>0])))"
   ]
  },
  {
   "cell_type": "code",
   "execution_count": 41,
   "metadata": {},
   "outputs": [],
   "source": [
    "import nltk\n",
    "from nltk.stem import WordNetLemmatizer\n",
    "from nltk.corpus import stopwords\n",
    "stopword = set(stopwords.words('english'))\n",
    "\n",
    "def tokenize(text):\n",
    "    tokens = nltk.word_tokenize(text)\n",
    "    tokens_cleaned = [item.lower() for item in tokens if item.isalpha()]\n",
    "    word = []\n",
    "    for item in tokens_cleaned:\n",
    "        lemmatizer = WordNetLemmatizer()\n",
    "        item_clean = lemmatizer.lemmatize(item)\n",
    "        if len(item_clean)>=3 and item_clean not in stopword:\n",
    "            word.append(item_clean)\n",
    "    return word\n",
    "        "
   ]
  },
  {
   "cell_type": "code",
   "execution_count": null,
   "metadata": {},
   "outputs": [],
   "source": [
    "count1 = len(review10['text'].apply(tokenize))\n",
    "count2 = len(review9['text'].apply(tokenize))"
   ]
  },
  {
   "cell_type": "code",
   "execution_count": null,
   "metadata": {},
   "outputs": [],
   "source": [
    "from nltk.probability import FreqDist\n",
    "dist1 = FreqDist(tokenize(review10['text'].to_string()))\n",
    "dist2 = FreqDist(tokenize(review9['text'].to_string()))"
   ]
  },
  {
   "cell_type": "code",
   "execution_count": null,
   "metadata": {},
   "outputs": [],
   "source": [
    "rank = sorted(dist1.items(),key=lambda item:item[1],reverse=True)\n",
    "for key,value in rank:\n",
    "    if key in [\"service\",\"korean\",\"time\",\"quality\",\"strip\",'atmosphere','friend','husband','clean','fresh','fast','asian']:\n",
    "        print(key ,value/count1)\n",
    "    "
   ]
  },
  {
   "cell_type": "code",
   "execution_count": null,
   "metadata": {},
   "outputs": [],
   "source": [
    "rank = sorted(dist2.items(),key=lambda item:item[1],reverse=True)\n",
    "for key,value in rank:\n",
    "    if key in [\"service\",\"korean\",\"time\",\"quality\",\"strip\",'atmosphere','friend','husband','clean','fresh','fast','asian']:\n",
    "        print(key ,value/count2)"
   ]
  },
  {
   "cell_type": "code",
   "execution_count": 13,
   "metadata": {
    "scrolled": true
   },
   "outputs": [],
   "source": [
    "from sklearn.feature_extraction.text import TfidfVectorizer\n",
    "from sklearn.feature_extraction.text import CountVectorizer\n",
    "\n",
    "vectorizer = TfidfVectorizer(tokenizer = tokenize,ngram_range=(3,4))\n",
    "\n",
    "review_transformed = vectorizer.fit_transform(review12['text'])\n",
    "feature_names = np.array(vectorizer.get_feature_names())\n",
    "sorted_tfidf_index = review_transformed.max(0).toarray()[0].argsort()\n",
    "values = review_transformed.max(0).toarray()[0]\n"
   ]
  },
  {
   "cell_type": "code",
   "execution_count": 14,
   "metadata": {},
   "outputs": [
    {
     "data": {
      "text/plain": [
       "wa perfect said                                         0.390315\n",
       "samosa ever had                                         0.391393\n",
       "this place closed                                       0.398062\n",
       "service and nice come                                   0.398368\n",
       "quiet service and                                       0.398368\n",
       "                                                          ...   \n",
       "超级超级超级耐无离first markham place                            1.000000\n",
       "spicy umami miso                                        1.000000\n",
       "明るい雰囲気の店内で ピザがおいしかったのはもちろんのこと カナダではよく売っているお野菜らしいのですが    1.000000\n",
       "mymy cheese 要一提的是mymy                                   1.000000\n",
       "近住scarborough town 天气好坐外面吃野都几唔错嫁                        1.000000\n",
       "Length: 100, dtype: float64"
      ]
     },
     "execution_count": 14,
     "metadata": {},
     "output_type": "execute_result"
    }
   ],
   "source": [
    "#small_idf = pd.Series(values[sorted_tfidf_index[:200]],index=feature_names[sorted_tfidf_index[:200]])\n",
    "large_idf = pd.Series(values[sorted_tfidf_index[-101:-1]],index=feature_names[sorted_tfidf_index[-101:-1]])\n",
    "#small_idf#.to_csv('negative_reivew.csv',index=True)\n",
    "large_idf"
   ]
  },
  {
   "cell_type": "code",
   "execution_count": null,
   "metadata": {},
   "outputs": [],
   "source": [
    "from wordcloud import WordCloud, STOPWORDS\n",
    "import matplotlib.pyplot as plt # visualization\n",
    "# difine wordcloud function from wordcloud library. set some parameteres for beatuful plotting\n",
    "wc = WordCloud(width=1600, height=800, random_state=1, max_words=200,background_color=(43,43,43),colormap='Reds')\n",
    "# generate word cloud using df_yelp_tip_top['text_clear']\n",
    "wc.generate(str(dist.most_common(100)).strip('[]'))\n",
    "# declare our figure \n",
    "plt.figure(figsize=(20,10), facecolor='k')\n",
    "# add title to the graph\n",
    "plt.title(\"Top words in reviews\", fontsize=40,color='white')\n",
    "plt.imshow(wc, interpolation='bilinear')\n",
    "plt.axis('off')\n",
    "plt.tight_layout(pad=10)\n",
    "# after lot of congiguration finally plot the graph\n",
    "plt.show()"
   ]
  },
  {
   "cell_type": "code",
   "execution_count": 74,
   "metadata": {},
   "outputs": [],
   "source": [
    "from sklearn.model_selection import train_test_split\n",
    "\n",
    "X_train, X_test, y_train, y_test = train_test_split(review10['text'], review10['label'], test_size=0.2,random_state=101)"
   ]
  },
  {
   "cell_type": "code",
   "execution_count": 76,
   "metadata": {},
   "outputs": [
    {
     "name": "stderr",
     "output_type": "stream",
     "text": [
      "C:\\Users\\jesse\\Anaconda3\\lib\\site-packages\\sklearn\\feature_extraction\\text.py:300: UserWarning: Your stop_words may be inconsistent with your preprocessing. Tokenizing the stop words generated tokens ['could', 'doe', 'ha', 'might', 'must', 'need', 'sha', 'wa', 'would'] not in stop_words.\n",
      "  'stop_words.' % sorted(inconsistent))\n"
     ]
    },
    {
     "data": {
      "text/plain": [
       "0.8418319246574668"
      ]
     },
     "execution_count": 76,
     "metadata": {},
     "output_type": "execute_result"
    }
   ],
   "source": [
    "from sklearn.model_selection import train_test_split\n",
    "\n",
    "X_train, X_test, y_train, y_test = train_test_split(review10['text'], review10['label'], test_size=0.2,random_state=101)\n",
    "\n",
    "# naive bayes classification\n",
    "from sklearn.feature_extraction.text import TfidfVectorizer\n",
    "\n",
    "stopword = set(stopwords.words('english'))\n",
    "vect = TfidfVectorizer(tokenizer = tokenize,stop_words=stopword)\n",
    "\n",
    "from sklearn.metrics import roc_auc_score\n",
    "from sklearn.naive_bayes import MultinomialNB\n",
    "\n",
    "#vect = CountVectorizer(min_df=5, ngram_range=(1,3))\n",
    "X_train_transformed = vect.fit_transform(X_train)\n",
    "X_test_transformed = vect.transform(X_test)\n",
    "\n",
    "nb = MultinomialNB(alpha=0.1)\n",
    "nb.fit(X_train_transformed, y_train)\n",
    "y_predicted = nb.predict(X_test_transformed)\n",
    "\n",
    "# return roc_auc_score(y_test, y_predicted_prob)\n",
    "roc_auc_score(y_test, y_predicted)"
   ]
  },
  {
   "cell_type": "code",
   "execution_count": 122,
   "metadata": {},
   "outputs": [
    {
     "name": "stdout",
     "output_type": "stream",
     "text": [
      "roc_auc: 0.915833724784264\n"
     ]
    }
   ],
   "source": [
    "from sklearn.neural_network import MLPClassifier\n",
    "from sklearn.metrics import roc_curve, auc\n",
    "\n",
    "mlp = MLPClassifier()\n",
    "mlp.fit(X_train_transformed, y_train)\n",
    "y_predictedmlp = mlp.predict(X_test_transformed)\n",
    "\n",
    "print(\"roc_auc:\",roc_auc_score(y_test, y_predictedmlp))"
   ]
  },
  {
   "cell_type": "code",
   "execution_count": 78,
   "metadata": {
    "scrolled": true
   },
   "outputs": [
    {
     "name": "stderr",
     "output_type": "stream",
     "text": [
      "C:\\Users\\jesse\\Anaconda3\\lib\\site-packages\\sklearn\\ensemble\\forest.py:245: FutureWarning: The default value of n_estimators will change from 10 in version 0.20 to 100 in 0.22.\n",
      "  \"10 in version 0.20 to 100 in 0.22.\", FutureWarning)\n"
     ]
    },
    {
     "name": "stdout",
     "output_type": "stream",
     "text": [
      "roc_auc: 0.8191197774149785\n"
     ]
    }
   ],
   "source": [
    "# Random Forest\n",
    "from sklearn.ensemble import RandomForestClassifier\n",
    "\n",
    "rmfr = RandomForestClassifier()\n",
    "rmfr.fit(X_train_transformed, y_train)\n",
    "y_predrmfr = rmfr.predict(X_test_transformed)\n",
    "print(\"roc_auc:\",roc_auc_score(y_test, y_predrmfr))"
   ]
  },
  {
   "cell_type": "code",
   "execution_count": 101,
   "metadata": {},
   "outputs": [
    {
     "name": "stderr",
     "output_type": "stream",
     "text": [
      "C:\\Users\\jesse\\Anaconda3\\lib\\site-packages\\sklearn\\linear_model\\logistic.py:432: FutureWarning: Default solver will be changed to 'lbfgs' in 0.22. Specify a solver to silence this warning.\n",
      "  FutureWarning)\n"
     ]
    },
    {
     "name": "stdout",
     "output_type": "stream",
     "text": [
      "roc_auc: 0.9273837719226209\n"
     ]
    }
   ],
   "source": [
    "# Logistic Regression\n",
    "from sklearn.linear_model import LogisticRegression\n",
    "\n",
    "clf = LogisticRegression(C=10).fit(X_train_transformed, y_train)\n",
    "clf.fit(X_train_transformed, y_train)\n",
    "y_predclf = clf.predict(X_test_transformed)\n",
    "print(\"roc_auc:\",roc_auc_score(y_test, y_predclf))"
   ]
  },
  {
   "cell_type": "code",
   "execution_count": 107,
   "metadata": {},
   "outputs": [
    {
     "data": {
      "image/png": "[encoded data removed]",
      "text/plain": [
       "<Figure size 432x288 with 1 Axes>"
      ]
     },
     "metadata": {},
     "output_type": "display_data"
    }
   ],
   "source": [
    "plot_roc(y_test, y_predicted)"
   ]
  },
  {
   "cell_type": "code",
   "execution_count": 83,
   "metadata": {
    "scrolled": true
   },
   "outputs": [
    {
     "ename": "NameError",
     "evalue": "name 'y_predictedmlp' is not defined",
     "output_type": "error",
     "traceback": [
      "\u001b[1;31m---------------------------------------------------------------------------\u001b[0m",
      "\u001b[1;31mNameError\u001b[0m                                 Traceback (most recent call last)",
      "\u001b[1;32m<ipython-input-83-d1c4d1173061>\u001b[0m in \u001b[0;36m<module>\u001b[1;34m\u001b[0m\n\u001b[1;32m----> 1\u001b[1;33m \u001b[0mplot_roc\u001b[0m\u001b[1;33m(\u001b[0m\u001b[0my_test\u001b[0m\u001b[1;33m,\u001b[0m \u001b[0my_predictedmlp\u001b[0m\u001b[1;33m)\u001b[0m\u001b[1;33m\u001b[0m\u001b[1;33m\u001b[0m\u001b[0m\n\u001b[0m",
      "\u001b[1;31mNameError\u001b[0m: name 'y_predictedmlp' is not defined"
     ]
    }
   ],
   "source": [
    "plot_roc(y_test, y_predictedmlp)"
   ]
  },
  {
   "cell_type": "code",
   "execution_count": 106,
   "metadata": {},
   "outputs": [
    {
     "data": {
      "image/png": "[encoded data removed]",
      "text/plain": [
       "<Figure size 432x288 with 1 Axes>"
      ]
     },
     "metadata": {},
     "output_type": "display_data"
    }
   ],
   "source": [
    "plot_roc(y_test, y_predrmfr)"
   ]
  },
  {
   "cell_type": "code",
   "execution_count": 105,
   "metadata": {},
   "outputs": [
    {
     "data": {
      "image/png": "[encoded data removed]",
      "text/plain": [
       "<Figure size 432x288 with 1 Axes>"
      ]
     },
     "metadata": {},
     "output_type": "display_data"
    }
   ],
   "source": [
    "sns.set()\n",
    "plot_roc(y_test, y_predclf)"
   ]
  },
  {
   "cell_type": "code",
   "execution_count": 103,
   "metadata": {},
   "outputs": [],
   "source": [
    "from sklearn.metrics import roc_curve, auc\n",
    "def plot_roc(labels, predict_prob):\n",
    "    false_positive_rate,true_positive_rate,thresholds=roc_curve(labels, predict_prob)\n",
    "    roc_auc=auc(false_positive_rate, true_positive_rate)\n",
    "    plt.title('ROC')\n",
    "    plt.plot(false_positive_rate, true_positive_rate,'b',label='MLPClassifier AUC = %0.4f'% roc_auc)\n",
    "    plt.legend(loc='lower right')\n",
    "    plt.plot([0,1],[0,1],'r--')\n",
    "    plt.ylabel('TPR')\n",
    "    plt.xlabel('FPR')"
   ]
  },
  {
   "cell_type": "code",
   "execution_count": 121,
   "metadata": {},
   "outputs": [
    {
     "name": "stderr",
     "output_type": "stream",
     "text": [
      "C:\\Users\\jesse\\Anaconda3\\lib\\site-packages\\ipykernel_launcher.py:17: MatplotlibDeprecationWarning: Adding an axes using the same arguments as a previous axes currently reuses the earlier instance.  In a future version, a new instance will always be created and returned.  Meanwhile, this warning can be suppressed, and the future behavior ensured, by passing a unique label to each axes instance.\n",
      "C:\\Users\\jesse\\Anaconda3\\lib\\site-packages\\ipykernel_launcher.py:23: MatplotlibDeprecationWarning: Adding an axes using the same arguments as a previous axes currently reuses the earlier instance.  In a future version, a new instance will always be created and returned.  Meanwhile, this warning can be suppressed, and the future behavior ensured, by passing a unique label to each axes instance.\n",
      "C:\\Users\\jesse\\Anaconda3\\lib\\site-packages\\ipykernel_launcher.py:29: MatplotlibDeprecationWarning: Adding an axes using the same arguments as a previous axes currently reuses the earlier instance.  In a future version, a new instance will always be created and returned.  Meanwhile, this warning can be suppressed, and the future behavior ensured, by passing a unique label to each axes instance.\n"
     ]
    },
    {
     "data": {
      "text/plain": [
       "<matplotlib.legend.Legend at 0x1bdcf74fd08>"
      ]
     },
     "execution_count": 121,
     "metadata": {},
     "output_type": "execute_result"
    },
    {
     "data": {
      "image/png": "[encoded data removed]",
      "text/plain": [
       "<Figure size 432x288 with 1 Axes>"
      ]
     },
     "metadata": {
      "needs_background": "light"
     },
     "output_type": "display_data"
    }
   ],
   "source": [
    "false_positive_rate,true_positive_rate,thresholds=roc_curve(y_test, y_predclf)\n",
    "roc_auc=auc(false_positive_rate, true_positive_rate)\n",
    "\n",
    "fig = plt.figure()\n",
    "\n",
    "left,bottom,width,height = 0.1,0.1,1.5,1.5\n",
    "ax1 = fig.add_axes([left,bottom,width,height])\n",
    "ax1.plot(false_positive_rate, true_positive_rate,'b',label='MLPClassifier AUC = %0.4f'% roc_auc)\n",
    "ax1.legend(loc='lower right')\n",
    "ax1.plot([0,1],[0,1],'r--')\n",
    "ax1.set_ylabel('TPR')\n",
    "ax1.set_xlabel('FPR')\n",
    "ax1.set_title('ROC')\n",
    "\n",
    "false_positive_rate,true_positive_rate,thresholds=roc_curve(y_test, y_predrmfr)\n",
    "roc_auc=auc(false_positive_rate, true_positive_rate)\n",
    "ax2 = fig.add_axes([left,bottom,width,height])\n",
    "ax2.plot(false_positive_rate, true_positive_rate,'b',label='Random Forest AUC = %0.4f'% roc_auc,color='g')\n",
    "ax2.legend(loc='lower right')\n",
    "\n",
    "false_positive_rate,true_positive_rate,thresholds=roc_curve(y_test, y_predictedmlp)\n",
    "roc_auc=auc(false_positive_rate, true_positive_rate)\n",
    "ax3 = fig.add_axes([left,bottom,width,height])\n",
    "ax3.plot(false_positive_rate, true_positive_rate,'b',label='Logistic Regression Classifer AUC = %0.4f'% roc_auc,color='grey')\n",
    "ax3.legend(loc='lower right')\n",
    "\n",
    "false_positive_rate,true_positive_rate,thresholds=roc_curve(y_test, y_predicted)\n",
    "roc_auc=auc(false_positive_rate, true_positive_rate)\n",
    "ax3 = fig.add_axes([left,bottom,width,height])\n",
    "ax3.plot(false_positive_rate, true_positive_rate,'b',label='native bayes AUC = %0.4f'% roc_auc,color='orange')\n",
    "ax3.legend(loc='lower right')"
   ]
  },
  {
   "cell_type": "code",
   "execution_count": null,
   "metadata": {
    "scrolled": true
   },
   "outputs": [],
   "source": [
    "feature_names = np.array(vect.get_feature_names())\n",
    "\n",
    "sorted_tfidf_index = nb.coef_[0].argsort()\n",
    "values = X_train_transformed.max(0).toarray()[0]\n",
    "\n",
    "small_idf = pd.Series(values[sorted_tfidf_index[:50]],index=feature_names[sorted_tfidf_index[:50]])\n",
    "large_idf = pd.Series(values[sorted_tfidf_index[-51:-1]],index=feature_names[sorted_tfidf_index[-51:-1]])\n",
    "print((small_idf,large_idf))\n",
    "#print('Smallest tfidf:\\n{}\\n'.format(feature_names[sorted_tfidf_index[:100]]))\n",
    "#print('Largest tfidf: \\n{}'.format(feature_names[sorted_tfidf_index[:-300:-1]]))"
   ]
  },
  {
   "cell_type": "code",
   "execution_count": null,
   "metadata": {},
   "outputs": [],
   "source": [
    "wc = WordCloud(width=1600, height=800, random_state=1, max_words=200000000)\n",
    "wc.generate(\",\".join(feature_names[sorted_tfidf_index[:100]]))\n",
    "# declare our figure \n",
    "plt.figure(figsize=(20,10), facecolor='k')\n",
    "# add title to the graph\n",
    "plt.title(\"Top words occured in negative reviews\", fontsize=40,color='white')\n",
    "plt.imshow(wc, interpolation='bilinear')\n",
    "plt.axis('off')\n",
    "plt.tight_layout(pad=10)\n",
    "# after lot of congiguration finally plot the graph\n",
    "plt.show()"
   ]
  },
  {
   "cell_type": "code",
   "execution_count": null,
   "metadata": {},
   "outputs": [],
   "source": [
    "wc = WordCloud(width=1600, height=800, random_state=1, max_words=200000000,colormap='Reds')\n",
    "wc.generate(\",\".join(feature_names[sorted_tfidf_index[:-300:-1]]))\n",
    "# declare our figure \n",
    "plt.figure(figsize=(20,10), facecolor='k')\n",
    "# add title to the graph\n",
    "plt.title(\"Top words occured in positive reviews\", fontsize=40,color='white')\n",
    "plt.imshow(wc, interpolation='bilinear')\n",
    "plt.axis('off')\n",
    "plt.tight_layout(pad=10)\n",
    "# after lot of congiguration finally plot the graph\n",
    "plt.show()"
   ]
  },
  {
   "cell_type": "code",
   "execution_count": null,
   "metadata": {},
   "outputs": [],
   "source": [
    "# Support vectoer classifer\n",
    "from sklearn.svm import SVC\n",
    "\n",
    "clfs = SVC(C=10000)\n",
    "clfs.fit(X_train_transformed, y_train)\n",
    "\n",
    "y_predicted = clfs.predict(X_test_transformed)\n",
    "\n",
    "roc_auc_score(y_test, y_predicted)"
   ]
  },
  {
   "cell_type": "code",
   "execution_count": null,
   "metadata": {},
   "outputs": [],
   "source": [
    "# test for tips\n",
    "tip1p = np.mean(mlp.predict(vect.transform(tip1)))\n",
    "tip2p = np.mean(mlp.predict(vect.transform(tip2)))\n",
    "tip3p = np.mean(mlp.predict(vect.transform(tip3)))\n",
    "tip4p = np.mean(mlp.predict(vect.transform(tip4)))\n",
    "tip5p = np.mean(mlp.predict(vect.transform(tip5)))\n",
    "tip6p = np.mean(mlp.predict(vect.transform(tip6)))\n",
    "tip7p = np.mean(mlp.predict(vect.transform(tip7)))\n",
    "tip8p = np.mean(mlp.predict(vect.transform(tip8)))\n",
    "tip9p = np.mean(mlp.predict(vect.transform(tip9)))\n",
    "tip10p = np.mean(mlp.predict(vect.transform(tip10)))\n",
    "tip_predict = [tip1p,tip2p,tip3p,tip4p,tip5p,tip6p,tip7p,tip8p,tip9p,tip10p]\n",
    "print(\"rest1 tips average score:\",tip1p)\n",
    "print(\"rest2 tips average score:\",tip2p)\n",
    "print(\"rest3 tips average score:\",tip3p)\n",
    "print(\"rest4 tips average score:\",tip4p)\n",
    "print(\"rest5 tips average score:\",tip5p)\n",
    "print(\"rest6 tips average score:\",tip6p)\n",
    "print(\"rest7 tips average score:\",tip7p)\n",
    "print(\"rest8 tips average score:\",tip8p)\n",
    "print(\"rest9 tips average score:\",tip9p)\n",
    "print(\"rest10 tips average score:\",tip10p)"
   ]
  },
  {
   "cell_type": "code",
   "execution_count": null,
   "metadata": {},
   "outputs": [],
   "source": [
    "df.Series(tip_predict,index=[rest1,rest2p,rest3p,rest4p,rest5p,rest6p,rest7p,rest8p,rest9p,rest10p])"
   ]
  },
  {
   "cell_type": "code",
   "execution_count": 68,
   "metadata": {},
   "outputs": [
    {
     "ename": "NameError",
     "evalue": "name 'review8' is not defined",
     "output_type": "error",
     "traceback": [
      "\u001b[1;31m---------------------------------------------------------------------------\u001b[0m",
      "\u001b[1;31mNameError\u001b[0m                                 Traceback (most recent call last)",
      "\u001b[1;32m<ipython-input-68-889383f7d4e7>\u001b[0m in \u001b[0;36m<module>\u001b[1;34m\u001b[0m\n\u001b[1;32m----> 1\u001b[1;33m \u001b[0mreview1p\u001b[0m \u001b[1;33m=\u001b[0m \u001b[0mreview8\u001b[0m\u001b[1;33m[\u001b[0m\u001b[0mreview8\u001b[0m\u001b[1;33m.\u001b[0m\u001b[0mbusiness_id\u001b[0m\u001b[1;33m==\u001b[0m\u001b[1;34m'DkYS3arLOhA8si5uUEmHOw'\u001b[0m\u001b[1;33m]\u001b[0m\u001b[1;33m.\u001b[0m\u001b[0mlabel\u001b[0m\u001b[1;33m.\u001b[0m\u001b[0mmean\u001b[0m\u001b[1;33m(\u001b[0m\u001b[1;33m)\u001b[0m\u001b[1;33m\u001b[0m\u001b[1;33m\u001b[0m\u001b[0m\n\u001b[0m\u001b[0;32m      2\u001b[0m \u001b[0mreview2p\u001b[0m \u001b[1;33m=\u001b[0m \u001b[0mreview8\u001b[0m\u001b[1;33m[\u001b[0m\u001b[0mreview8\u001b[0m\u001b[1;33m.\u001b[0m\u001b[0mbusiness_id\u001b[0m\u001b[1;33m==\u001b[0m\u001b[1;34m'5LNZ67Yw9RD6nf4_UhXOjw'\u001b[0m\u001b[1;33m]\u001b[0m\u001b[1;33m.\u001b[0m\u001b[0mlabel\u001b[0m\u001b[1;33m.\u001b[0m\u001b[0mmean\u001b[0m\u001b[1;33m(\u001b[0m\u001b[1;33m)\u001b[0m\u001b[1;33m\u001b[0m\u001b[1;33m\u001b[0m\u001b[0m\n\u001b[0;32m      3\u001b[0m \u001b[0mreview3p\u001b[0m \u001b[1;33m=\u001b[0m \u001b[0mreview8\u001b[0m\u001b[1;33m[\u001b[0m\u001b[0mreview8\u001b[0m\u001b[1;33m.\u001b[0m\u001b[0mbusiness_id\u001b[0m\u001b[1;33m==\u001b[0m\u001b[1;34m'eoHdUeQDNgQ6WYEnP2aiRw'\u001b[0m\u001b[1;33m]\u001b[0m\u001b[1;33m.\u001b[0m\u001b[0mlabel\u001b[0m\u001b[1;33m.\u001b[0m\u001b[0mmean\u001b[0m\u001b[1;33m(\u001b[0m\u001b[1;33m)\u001b[0m\u001b[1;33m\u001b[0m\u001b[1;33m\u001b[0m\u001b[0m\n\u001b[0;32m      4\u001b[0m \u001b[0mreview4p\u001b[0m \u001b[1;33m=\u001b[0m \u001b[0mreview8\u001b[0m\u001b[1;33m[\u001b[0m\u001b[0mreview8\u001b[0m\u001b[1;33m.\u001b[0m\u001b[0mbusiness_id\u001b[0m\u001b[1;33m==\u001b[0m\u001b[1;34m'hihud--QRriCYZw1zZvW4g'\u001b[0m\u001b[1;33m]\u001b[0m\u001b[1;33m.\u001b[0m\u001b[0mlabel\u001b[0m\u001b[1;33m.\u001b[0m\u001b[0mmean\u001b[0m\u001b[1;33m(\u001b[0m\u001b[1;33m)\u001b[0m\u001b[1;33m\u001b[0m\u001b[1;33m\u001b[0m\u001b[0m\n\u001b[0;32m      5\u001b[0m \u001b[0mreview5p\u001b[0m \u001b[1;33m=\u001b[0m \u001b[0mreview8\u001b[0m\u001b[1;33m[\u001b[0m\u001b[0mreview8\u001b[0m\u001b[1;33m.\u001b[0m\u001b[0mbusiness_id\u001b[0m\u001b[1;33m==\u001b[0m\u001b[1;34m'RESDUcs7fIiihp38-d6_6g'\u001b[0m\u001b[1;33m]\u001b[0m\u001b[1;33m.\u001b[0m\u001b[0mlabel\u001b[0m\u001b[1;33m.\u001b[0m\u001b[0mmean\u001b[0m\u001b[1;33m(\u001b[0m\u001b[1;33m)\u001b[0m\u001b[1;33m\u001b[0m\u001b[1;33m\u001b[0m\u001b[0m\n",
      "\u001b[1;31mNameError\u001b[0m: name 'review8' is not defined"
     ]
    }
   ],
   "source": [
    "review1p = review8[review8.business_id=='DkYS3arLOhA8si5uUEmHOw'].label.mean()\n",
    "review2p = review8[review8.business_id=='5LNZ67Yw9RD6nf4_UhXOjw'].label.mean()\n",
    "review3p = review8[review8.business_id=='eoHdUeQDNgQ6WYEnP2aiRw'].label.mean()\n",
    "review4p = review8[review8.business_id=='hihud--QRriCYZw1zZvW4g'].label.mean()\n",
    "review5p = review8[review8.business_id=='RESDUcs7fIiihp38-d6_6g'].label.mean()\n",
    "review6p = review8[review8.business_id=='4JNXUYY8wbaaDmk3BPzlWw'].label.mean()\n",
    "review7p = review8[review8.business_id=='yfxDa8RFOvJPQh0rNtakHA'].label.mean()\n",
    "review8p = review8[review8.business_id=='El4FC8jcawUVgw_0EIcbaQ'].label.mean()\n",
    "review9p = review8[review8.business_id=='7sPNbCx7vGAaH7SbNPZ6oA'].label.mean()\n",
    "review10p = review8[review8.business_id=='KskYqH1Bi7Z_61pH6Om8pg'].label.mean()\n",
    "print(\"rest1 average score:\",review1p)\n",
    "print(\"rest2 average score:\",review2p)\n",
    "print(\"rest3 average score:\",review3p)\n",
    "print(\"rest4 average score:\",review4p)\n",
    "print(\"rest5 average score:\",review5p)\n",
    "print(\"rest6 average score:\",review6p)\n",
    "print(\"rest7 average score:\",review7p)\n",
    "print(\"rest8 average score:\",review8p)\n",
    "print(\"rest9 average score:\",review9p)\n",
    "print(\"rest10 average score:\",review10p)"
   ]
  },
  {
   "cell_type": "code",
   "execution_count": 45,
   "metadata": {
    "scrolled": false
   },
   "outputs": [
    {
     "name": "stdout",
     "output_type": "stream",
     "text": [
      "83950    Earl of Sandwich\n",
      "Name: name, dtype: object\n",
      "89437    The Cosmopolitan of Las Vegas\n",
      "Name: name, dtype: object\n",
      "128501    Serendipity 3\n",
      "Name: name, dtype: object\n",
      "120417    Gangnam Asian BBQ Dining\n",
      "Name: name, dtype: object\n",
      "89206    Bacchanal Buffet\n",
      "Name: name, dtype: object\n",
      "82250    Mon Ami Gabi\n",
      "Name: name, dtype: object\n",
      "141763    Pho Kim Long\n",
      "Name: name, dtype: object\n",
      "162905    MGM Grand Hotel\n",
      "Name: name, dtype: object\n",
      "134362    Bachi Burger\n",
      "Name: name, dtype: object\n",
      "111864    Lotus of Siam\n",
      "Name: name, dtype: object\n"
     ]
    }
   ],
   "source": [
    "print(business[business.business_id=='DkYS3arLOhA8si5uUEmHOw'].name)\n",
    "print(business[business.business_id=='5LNZ67Yw9RD6nf4_UhXOjw'].name)\n",
    "print(business[business.business_id=='eoHdUeQDNgQ6WYEnP2aiRw'].name)\n",
    "print(business[business.business_id=='hihud--QRriCYZw1zZvW4g'].name)\n",
    "print(business[business.business_id=='RESDUcs7fIiihp38-d6_6g'].name)\n",
    "print(business[business.business_id=='4JNXUYY8wbaaDmk3BPzlWw'].name)\n",
    "print(business[business.business_id=='yfxDa8RFOvJPQh0rNtakHA'].name)\n",
    "print(business[business.business_id=='El4FC8jcawUVgw_0EIcbaQ'].name)\n",
    "print(business[business.business_id=='7sPNbCx7vGAaH7SbNPZ6oA'].name)\n",
    "print(business[business.business_id=='KskYqH1Bi7Z_61pH6Om8pg'].name)\n"
   ]
  },
  {
   "cell_type": "code",
   "execution_count": 135,
   "metadata": {},
   "outputs": [
    {
     "data": {
      "text/plain": [
       "year_month\n",
       "2016-05-01    [tracy, dessert, big, name, hong, kong, one, f...\n",
       "2016-07-01    [take, good, take, bad, take, fact, life, fier...\n",
       "2016-04-01    [taken, family, place, quite, happy, service, ...\n",
       "2016-12-01    [steakhouse, contemporary, elegant, traditiona...\n",
       "2016-11-01    [listened, review, place, got, hopeful, signat...\n",
       "                                    ...                        \n",
       "2016-05-01    [reading, previous, review, hesitantly, though...\n",
       "2016-05-01    [reason, visited, osmow, meet, friend, lakesho...\n",
       "2016-02-01    [chicken, shawarma, lot, different, place, def...\n",
       "2016-02-01    [save, went, saturday, night, whim, town, make...\n",
       "2016-03-01    [went, tonight, place, still, busy, samosa, ho...\n",
       "Name: text, Length: 92226, dtype: object"
      ]
     },
     "execution_count": 135,
     "metadata": {},
     "output_type": "execute_result"
    }
   ],
   "source": [
    "review_t = review9['text'].apply(tokenize)\n",
    "review_t"
   ]
  },
  {
   "cell_type": "code",
   "execution_count": 141,
   "metadata": {},
   "outputs": [],
   "source": [
    "review_Mexican_t = review_Mexican.text[:50000].apply(tokenize)\n",
    "review_new_t = review_new.text[:50000].apply(tokenize)\n",
    "review_seafood_t = review_seafood.text[:50000].apply(tokenize)\n",
    "review_night_t = review_night.text[:50000].apply(tokenize)\n",
    "review_Pizza_t = review_Pizza.text[:50000].apply(tokenize)\n",
    "review_Bars_t = review_Bars.text[:50000].apply(tokenize)\n",
    "review_Japanese_t = review_Japanese.text[:50000].apply(tokenize)\n",
    "review_Breakfast_t = review_Breakfast.text[:50000].apply(tokenize)\n",
    "review_Chinese_t = review_Chinese.text[:50000].apply(tokenize)"
   ]
  },
  {
   "cell_type": "code",
   "execution_count": 142,
   "metadata": {},
   "outputs": [],
   "source": [
    "mexian = [x for j in review_Mexican_t.tolist() for x in j]\n",
    "new = [x for j in review_new_t.tolist() for x in j]\n",
    "seafood = [x for j in review_seafood_t.tolist() for x in j]\n",
    "night = [x for j in review_night_t.tolist() for x in j]\n",
    "Pizza = [x for j in review_Pizza_t.tolist() for x in j]\n",
    "Bars = [x for j in review_Bars_t.tolist() for x in j]\n",
    "Japanese = [x for j in review_Japanese_t.tolist() for x in j]\n",
    "Breakfast = [x for j in review_Breakfast_t.tolist() for x in j]\n",
    "Chinese = [x for j in review_Chinese_t.tolist() for x in j]"
   ]
  },
  {
   "cell_type": "code",
   "execution_count": 47,
   "metadata": {
    "scrolled": true
   },
   "outputs": [
    {
     "data": {
      "text/plain": [
       "[(0,\n",
       "  '0.037*\"food\" + 0.035*\"place\" + 0.026*\"great\" + 0.025*\"good\" + 0.019*\"service\" + 0.012*\"time\" + 0.011*\"friendly\" + 0.010*\"price\" + 0.010*\"always\" + 0.009*\"really\" + 0.009*\"best\" + 0.009*\"amazing\" + 0.009*\"restaurant\" + 0.009*\"definitely\" + 0.008*\"staff\" + 0.008*\"get\" + 0.008*\"delicious\" + 0.008*\"love\" + 0.008*\"back\" + 0.008*\"nice\"'),\n",
       " (1,\n",
       "  '0.009*\"great\" + 0.009*\"menu\" + 0.009*\"bar\" + 0.008*\"steak\" + 0.008*\"night\" + 0.008*\"drink\" + 0.008*\"dish\" + 0.008*\"beer\" + 0.007*\"restaurant\" + 0.007*\"came\" + 0.006*\"nice\" + 0.006*\"table\" + 0.006*\"friend\" + 0.006*\"well\" + 0.006*\"dinner\" + 0.006*\"experience\" + 0.006*\"ordered\" + 0.006*\"pasta\" + 0.006*\"dessert\" + 0.006*\"meal\"'),\n",
       " (2,\n",
       "  '0.031*\"sushi\" + 0.021*\"roll\" + 0.019*\"fish\" + 0.013*\"good\" + 0.013*\"salmon\" + 0.011*\"sashimi\" + 0.010*\"taco\" + 0.010*\"fresh\" + 0.009*\"lobster\" + 0.009*\"japanese\" + 0.008*\"ordered\" + 0.008*\"rice\" + 0.008*\"like\" + 0.007*\"piece\" + 0.007*\"shrimp\" + 0.007*\"place\" + 0.007*\"seafood\" + 0.007*\"also\" + 0.007*\"price\" + 0.007*\"sauce\"'),\n",
       " (3,\n",
       "  '0.015*\"pizza\" + 0.014*\"burger\" + 0.012*\"like\" + 0.011*\"fry\" + 0.010*\"cheese\" + 0.010*\"good\" + 0.009*\"tea\" + 0.008*\"sandwich\" + 0.008*\"sauce\" + 0.007*\"also\" + 0.007*\"taste\" + 0.007*\"really\" + 0.007*\"one\" + 0.006*\"cream\" + 0.006*\"try\" + 0.006*\"sweet\" + 0.006*\"got\" + 0.006*\"ordered\" + 0.006*\"would\" + 0.006*\"flavour\"'),\n",
       " (4,\n",
       "  '0.029*\"chicken\" + 0.016*\"dish\" + 0.015*\"rice\" + 0.015*\"good\" + 0.013*\"noodle\" + 0.013*\"soup\" + 0.012*\"pork\" + 0.012*\"beef\" + 0.011*\"fried\" + 0.010*\"sauce\" + 0.009*\"spicy\" + 0.009*\"ordered\" + 0.009*\"place\" + 0.009*\"like\" + 0.008*\"food\" + 0.008*\"meat\" + 0.008*\"ramen\" + 0.007*\"also\" + 0.007*\"restaurant\" + 0.007*\"thai\"'),\n",
       " (5,\n",
       "  '0.020*\"food\" + 0.014*\"time\" + 0.012*\"order\" + 0.012*\"service\" + 0.010*\"table\" + 0.009*\"would\" + 0.009*\"one\" + 0.009*\"place\" + 0.008*\"get\" + 0.008*\"like\" + 0.008*\"even\" + 0.007*\"restaurant\" + 0.007*\"back\" + 0.007*\"came\" + 0.006*\"minute\" + 0.006*\"asked\" + 0.006*\"server\" + 0.006*\"could\" + 0.006*\"got\" + 0.006*\"people\"')]"
      ]
     },
     "execution_count": 47,
     "metadata": {},
     "output_type": "execute_result"
    }
   ],
   "source": [
    "# topic modeling\n",
    "import pickle\n",
    "import gensim\n",
    "from gensim import corpora\n",
    "#CountVectorizer(min_df=20, max_df=0.2, stop_words='english',token_pattern='(?u)\\\\b\\\\w\\\\w\\\\w+\\\\b')\n",
    "\n",
    "#X = vecter.fit_transform(review9['text'].values.tolist())\n",
    "# Convert sparse matrix to gensim corpus.\n",
    "#corpus = gensim.matutils.Sparse2Corpus(X, documents_columns=False)\n",
    "# Mapping from word IDs to words (To be used in LdaModel's id2word parameter)\n",
    "# word2id  = dict((v, k) for k, v in vecter.vocabulary_.items())\n",
    "dictionary = corpora.Dictionary(review_t) \n",
    "corpus = [dictionary.doc2bow(rev) for rev in review_t]\n",
    "#d.id2token = id2word\n",
    "#d.token2id = word2id\n",
    "#id_map = corpora.Dictionary(reviews_2) \n",
    "# LDA model\n",
    "ldamodel = gensim.models.ldamodel.LdaModel(corpus=corpus, id2word=dictionary, num_topics=6, passes=50,random_state=100)\n",
    "topics_words = ldamodel.print_topics(num_topics=6, num_words=20)\n",
    "topics_words"
   ]
  },
  {
   "cell_type": "code",
   "execution_count": 143,
   "metadata": {},
   "outputs": [],
   "source": [
    "def topic_distribution(new_doc):\n",
    "    corpus1 = [dictionary.doc2bow(new_doc)]\n",
    "    doc_topics = ldamodel.get_document_topics(corpus1)\n",
    "    topic_dist = []\n",
    "    for val in list(doc_topics):\n",
    "        for v in val:\n",
    "            topic_dist.append(v)\n",
    "    return topic_dist"
   ]
  },
  {
   "cell_type": "code",
   "execution_count": 145,
   "metadata": {},
   "outputs": [
    {
     "name": "stdout",
     "output_type": "stream",
     "text": [
      "[(0, 0.27649248), (1, 0.12576587), (2, 0.11677024), (3, 0.10840716), (4, 0.054453675), (5, 0.31811062)]\n",
      "[(0, 0.21864788), (1, 0.20625366), (2, 0.043176744), (3, 0.18138853), (4, 0.050444394), (5, 0.30008882)]\n",
      "[(0, 0.20824368), (1, 0.21847302), (2, 0.10450639), (3, 0.095730335), (4, 0.06567203), (5, 0.30737454)]\n",
      "[(0, 0.20468023), (1, 0.2624249), (2, 0.040255148), (3, 0.10589887), (4, 0.032115493), (5, 0.35462537)]\n",
      "[(0, 0.23319033), (1, 0.13288654), (2, 0.0150388), (3, 0.26662725), (4, 0.018999169), (5, 0.33325788)]\n",
      "[(0, 0.21730235), (1, 0.22661619), (2, 0.06396695), (3, 0.1284248), (4, 0.041970044), (5, 0.32171965)]\n",
      "[(0, 0.219766), (1, 0.10338504), (2, 0.20310892), (3, 0.044312455), (4, 0.14182572), (5, 0.28760183)]\n",
      "[(0, 0.26308322), (1, 0.14134976), (2, 0.046818875), (3, 0.22085907), (4, 0.035743434), (5, 0.29214567)]\n",
      "[(0, 0.18296865), (1, 0.0896857), (2, 0.047782473), (3, 0.05598396), (4, 0.2899238), (5, 0.33365542)]\n"
     ]
    }
   ],
   "source": [
    "print(topic_distribution(mexian))\n",
    "print(topic_distribution(new))\n",
    "print(topic_distribution(seafood))\n",
    "print(topic_distribution(night))\n",
    "print(topic_distribution(Pizza))\n",
    "print(topic_distribution(Bars))\n",
    "print(topic_distribution(Japanese))\n",
    "print(topic_distribution(Breakfast))\n",
    "print(topic_distribution(Chinese))"
   ]
  },
  {
   "cell_type": "code",
   "execution_count": null,
   "metadata": {},
   "outputs": [],
   "source": [
    "dictionary = corpora.Dictionary(reviews_2) \n",
    "doc_term_matrix = [dictionary.doc2bow(rev) for rev in reviews_2]\n",
    "# Creating the object for LDA model using gensim library\n",
    "LDA = gensim.models.ldamodel.LdaModel\n",
    "\n",
    "# Build LDA model\n",
    "lda_model = LDA(corpus=doc_term_matrix,\n",
    "                                   id2word=dictionary,\n",
    "                                   num_topics=7, \n",
    "                                   random_state=100,\n",
    "                                   chunksize=1000,\n",
    "                                   passes=50)"
   ]
  },
  {
   "cell_type": "code",
   "execution_count": 21,
   "metadata": {},
   "outputs": [],
   "source": [
    "from pyLDAvis import gensim"
   ]
  },
  {
   "cell_type": "code",
   "execution_count": 48,
   "metadata": {},
   "outputs": [
    {
     "name": "stderr",
     "output_type": "stream",
     "text": [
      "C:\\Users\\jesse\\Anaconda3\\lib\\site-packages\\pyLDAvis\\_prepare.py:257: FutureWarning: Sorting because non-concatenation axis is not aligned. A future version\n",
      "of pandas will change to not sort by default.\n",
      "\n",
      "To accept the future behavior, pass 'sort=False'.\n",
      "\n",
      "To retain the current behavior and silence the warning, pass 'sort=True'.\n",
      "\n",
      "  return pd.concat([default_term_info] + list(topic_dfs))\n"
     ]
    },
    {
     "data": {
      "text/html": [
       "\n",
       "<link rel=\"stylesheet\" type=\"text/css\" href=\"https://cdn.rawgit.com/bmabey/pyLDAvis/files/ldavis.v1.0.0.css\">\n",
       "\n",
       "\n",
       "<div id=\"ldavis_el1714027394125502165793131418\"></div>\n",
       "<script type=\"text/javascript\">\n",
       "\n",
       "var ldavis_el1714027394125502165793131418_data = {\"mdsDat\": {\"x\": [-0.13929513833975016, -0.07488386196763482, 0.13772532485312142, 0.0931431890025612, -0.17322991315716504, 0.15654039960886745], \"y\": [-0.1332772966435974, -0.13467149002144818, 0.01502237100910111, 0.033080247688469566, 0.20685478885952666, 0.012991379107948266], \"topics\": [1, 2, 3, 4, 5, 6], \"cluster\": [1, 1, 1, 1, 1, 1], \"Freq\": [27.316030502319336, 21.918766021728516, 15.399262428283691, 15.005014419555664, 12.855668067932129, 7.5052595138549805]}, \"tinfo\": {\"Category\": [\"Default\", \"Default\", \"Default\", \"Default\", \"Default\", \"Default\", \"Default\", \"Default\", \"Default\", \"Default\", \"Default\", \"Default\", \"Default\", \"Default\", \"Default\", \"Default\", \"Default\", \"Default\", \"Default\", \"Default\", \"Default\", \"Default\", \"Default\", \"Default\", \"Default\", \"Default\", \"Default\", \"Default\", \"Default\", \"Default\", \"Topic1\", \"Topic1\", \"Topic1\", \"Topic1\", \"Topic1\", \"Topic1\", \"Topic1\", \"Topic1\", \"Topic1\", \"Topic1\", \"Topic1\", \"Topic1\", \"Topic1\", \"Topic1\", \"Topic1\", \"Topic1\", \"Topic1\", \"Topic1\", \"Topic1\", \"Topic1\", \"Topic1\", \"Topic1\", \"Topic1\", \"Topic1\", \"Topic1\", \"Topic1\", \"Topic1\", \"Topic1\", \"Topic1\", \"Topic1\", \"Topic1\", \"Topic1\", \"Topic1\", \"Topic1\", \"Topic1\", \"Topic1\", \"Topic1\", \"Topic1\", \"Topic1\", \"Topic1\", \"Topic1\", \"Topic1\", \"Topic1\", \"Topic1\", \"Topic1\", \"Topic1\", \"Topic1\", \"Topic1\", \"Topic1\", \"Topic1\", \"Topic1\", \"Topic1\", \"Topic1\", \"Topic1\", \"Topic1\", \"Topic1\", \"Topic1\", \"Topic1\", \"Topic1\", \"Topic1\", \"Topic1\", \"Topic1\", \"Topic1\", \"Topic1\", \"Topic1\", \"Topic1\", \"Topic1\", \"Topic1\", \"Topic1\", \"Topic1\", \"Topic1\", \"Topic2\", \"Topic2\", \"Topic2\", \"Topic2\", \"Topic2\", \"Topic2\", \"Topic2\", \"Topic2\", \"Topic2\", \"Topic2\", \"Topic2\", \"Topic2\", \"Topic2\", \"Topic2\", \"Topic2\", \"Topic2\", \"Topic2\", \"Topic2\", \"Topic2\", \"Topic2\", \"Topic2\", \"Topic2\", \"Topic2\", \"Topic2\", \"Topic2\", \"Topic2\", \"Topic2\", \"Topic2\", \"Topic2\", \"Topic2\", \"Topic2\", \"Topic2\", \"Topic2\", \"Topic2\", \"Topic2\", \"Topic2\", \"Topic2\", \"Topic2\", \"Topic2\", \"Topic2\", \"Topic2\", \"Topic2\", \"Topic2\", \"Topic2\", \"Topic2\", \"Topic2\", \"Topic2\", \"Topic2\", \"Topic2\", \"Topic2\", \"Topic2\", \"Topic2\", \"Topic2\", \"Topic2\", \"Topic2\", \"Topic2\", \"Topic2\", \"Topic2\", \"Topic2\", \"Topic2\", \"Topic2\", \"Topic2\", \"Topic2\", \"Topic2\", \"Topic2\", \"Topic2\", \"Topic2\", \"Topic2\", \"Topic2\", \"Topic2\", \"Topic2\", \"Topic2\", \"Topic2\", \"Topic2\", \"Topic2\", \"Topic2\", \"Topic2\", \"Topic3\", \"Topic3\", \"Topic3\", \"Topic3\", \"Topic3\", \"Topic3\", \"Topic3\", \"Topic3\", \"Topic3\", \"Topic3\", \"Topic3\", \"Topic3\", \"Topic3\", \"Topic3\", \"Topic3\", \"Topic3\", \"Topic3\", \"Topic3\", \"Topic3\", \"Topic3\", \"Topic3\", \"Topic3\", \"Topic3\", \"Topic3\", \"Topic3\", \"Topic3\", \"Topic3\", \"Topic3\", \"Topic3\", \"Topic3\", \"Topic3\", \"Topic3\", \"Topic3\", \"Topic3\", \"Topic3\", \"Topic3\", \"Topic3\", \"Topic3\", \"Topic3\", \"Topic3\", \"Topic3\", \"Topic3\", \"Topic3\", \"Topic3\", \"Topic3\", \"Topic3\", \"Topic3\", \"Topic3\", \"Topic3\", \"Topic3\", \"Topic3\", \"Topic3\", \"Topic3\", \"Topic3\", \"Topic3\", \"Topic3\", \"Topic3\", \"Topic3\", \"Topic3\", \"Topic3\", \"Topic3\", \"Topic3\", \"Topic3\", \"Topic4\", \"Topic4\", \"Topic4\", \"Topic4\", \"Topic4\", \"Topic4\", \"Topic4\", \"Topic4\", \"Topic4\", \"Topic4\", \"Topic4\", \"Topic4\", \"Topic4\", \"Topic4\", \"Topic4\", \"Topic4\", \"Topic4\", \"Topic4\", \"Topic4\", \"Topic4\", \"Topic4\", \"Topic4\", \"Topic4\", \"Topic4\", \"Topic4\", \"Topic4\", \"Topic4\", \"Topic4\", \"Topic4\", \"Topic4\", \"Topic4\", \"Topic4\", \"Topic4\", \"Topic4\", \"Topic4\", \"Topic4\", \"Topic4\", \"Topic4\", \"Topic4\", \"Topic4\", \"Topic4\", \"Topic4\", \"Topic4\", \"Topic4\", \"Topic4\", \"Topic4\", \"Topic4\", \"Topic4\", \"Topic4\", \"Topic4\", \"Topic4\", \"Topic4\", \"Topic4\", \"Topic4\", \"Topic4\", \"Topic4\", \"Topic4\", \"Topic4\", \"Topic4\", \"Topic4\", \"Topic4\", \"Topic4\", \"Topic4\", \"Topic4\", \"Topic4\", \"Topic4\", \"Topic4\", \"Topic4\", \"Topic5\", \"Topic5\", \"Topic5\", \"Topic5\", \"Topic5\", \"Topic5\", \"Topic5\", \"Topic5\", \"Topic5\", \"Topic5\", \"Topic5\", \"Topic5\", \"Topic5\", \"Topic5\", \"Topic5\", \"Topic5\", \"Topic5\", \"Topic5\", \"Topic5\", \"Topic5\", \"Topic5\", \"Topic5\", \"Topic5\", \"Topic5\", \"Topic5\", \"Topic5\", \"Topic5\", \"Topic5\", \"Topic5\", \"Topic5\", \"Topic5\", \"Topic5\", \"Topic5\", \"Topic5\", \"Topic5\", \"Topic5\", \"Topic5\", \"Topic5\", \"Topic5\", \"Topic5\", \"Topic5\", \"Topic5\", \"Topic5\", \"Topic5\", \"Topic5\", \"Topic5\", \"Topic5\", \"Topic5\", \"Topic5\", \"Topic5\", \"Topic5\", \"Topic5\", \"Topic5\", \"Topic5\", \"Topic5\", \"Topic5\", \"Topic5\", \"Topic5\", \"Topic5\", \"Topic5\", \"Topic5\", \"Topic5\", \"Topic5\", \"Topic5\", \"Topic5\", \"Topic5\", \"Topic5\", \"Topic5\", \"Topic5\", \"Topic5\", \"Topic5\", \"Topic5\", \"Topic5\", \"Topic5\", \"Topic6\", \"Topic6\", \"Topic6\", \"Topic6\", \"Topic6\", \"Topic6\", \"Topic6\", \"Topic6\", \"Topic6\", \"Topic6\", \"Topic6\", \"Topic6\", \"Topic6\", \"Topic6\", \"Topic6\", \"Topic6\", \"Topic6\", \"Topic6\", \"Topic6\", \"Topic6\", \"Topic6\", \"Topic6\", \"Topic6\", \"Topic6\", \"Topic6\", \"Topic6\", \"Topic6\", \"Topic6\", \"Topic6\", \"Topic6\", \"Topic6\", \"Topic6\", \"Topic6\", \"Topic6\", \"Topic6\", \"Topic6\", \"Topic6\", \"Topic6\", \"Topic6\", \"Topic6\", \"Topic6\", \"Topic6\", \"Topic6\", \"Topic6\", \"Topic6\", \"Topic6\", \"Topic6\", \"Topic6\", \"Topic6\", \"Topic6\", \"Topic6\", \"Topic6\", \"Topic6\", \"Topic6\", \"Topic6\", \"Topic6\", \"Topic6\", \"Topic6\"], \"Freq\": [75480.0, 28391.0, 11937.0, 37174.0, 64259.0, 10241.0, 14605.0, 12719.0, 10490.0, 10310.0, 8206.0, 20543.0, 11753.0, 9147.0, 59953.0, 41380.0, 9570.0, 17470.0, 13794.0, 8889.0, 19149.0, 12086.0, 10519.0, 8944.0, 10607.0, 14399.0, 4844.0, 6932.0, 8748.0, 6023.0, 8747.673828125, 8021.240234375, 5828.091796875, 3808.36669921875, 3120.113037109375, 3068.6162109375, 2810.935791015625, 2687.056396484375, 2594.01123046875, 2233.54443359375, 1779.345458984375, 1759.895263671875, 1307.8487548828125, 1277.79150390625, 1142.5015869140625, 1108.369873046875, 992.6132202148438, 985.093017578125, 972.014404296875, 941.1887817382812, 883.891845703125, 863.4530029296875, 825.5086059570312, 807.978271484375, 683.255859375, 653.0430908203125, 586.7993774414062, 554.662109375, 509.2373962402344, 491.3935241699219, 3985.96826171875, 7415.3876953125, 1470.9686279296875, 1332.84228515625, 2373.3173828125, 6079.404296875, 5608.8896484375, 6396.001953125, 14034.287109375, 4844.29736328125, 3846.407958984375, 16692.2734375, 2043.050537109375, 1472.4246826171875, 10822.03125, 3694.382080078125, 7004.50830078125, 4814.0029296875, 8011.65478515625, 19170.421875, 6050.50341796875, 3936.180419921875, 5887.048828125, 7728.10302734375, 27683.828125, 16152.6025390625, 7819.32568359375, 12849.556640625, 12879.5283203125, 11199.3486328125, 9732.1923828125, 6267.12158203125, 6254.4873046875, 9968.6474609375, 11016.4541015625, 10147.7802734375, 7811.56103515625, 12634.865234375, 7647.03955078125, 6340.025390625, 6444.7412109375, 1513.99560546875, 1231.9388427734375, 1153.435791015625, 774.5201416015625, 555.349365234375, 473.8261413574219, 467.46514892578125, 382.7786865234375, 374.82745361328125, 362.6998596191406, 344.1352233886719, 296.2936706542969, 264.8464050292969, 226.2110595703125, 224.7484130859375, 220.9512481689453, 216.01356506347656, 201.17822265625, 196.30697631835938, 187.92823791503906, 175.83494567871094, 174.45977783203125, 166.86207580566406, 171.49583435058594, 160.86544799804688, 159.87637329101562, 159.3843536376953, 160.08457946777344, 154.92123413085938, 152.24224853515625, 3301.69189453125, 1133.103759765625, 1003.0767211914062, 12407.3583984375, 10760.0634765625, 5447.71044921875, 1026.6669921875, 28496.12109375, 9630.2021484375, 8820.14453125, 2106.336669921875, 3086.98291015625, 6686.01171875, 2290.251220703125, 38935.31640625, 2961.75537109375, 1888.6781005859375, 4099.916015625, 4010.24560546875, 10111.583984375, 41242.2890625, 9122.71484375, 3501.2822265625, 6958.62548828125, 11023.587890625, 21638.126953125, 28184.12890625, 5070.78515625, 5969.83935546875, 9487.078125, 8866.916015625, 3928.564697265625, 8732.6259765625, 3955.97802734375, 13174.046875, 6142.4150390625, 10399.6640625, 5633.8740234375, 6372.587890625, 9052.767578125, 8754.4541015625, 9564.5, 7630.2158203125, 5279.7509765625, 6211.61669921875, 6719.3779296875, 6228.66552734375, 10490.0576171875, 9146.947265625, 6022.8837890625, 5149.12939453125, 5074.67578125, 3644.666015625, 3508.774658203125, 2881.52734375, 2408.858154296875, 2078.755859375, 1877.798095703125, 1475.3768310546875, 1366.767578125, 1249.9779052734375, 1231.335205078125, 1152.6820068359375, 1078.6143798828125, 1033.6185302734375, 956.300537109375, 867.5248413085938, 835.5338745117188, 631.9930419921875, 616.6495361328125, 587.9280395507812, 545.7247924804688, 536.5691528320312, 521.072509765625, 506.7542724609375, 484.58038330078125, 478.9783630371094, 2810.047607421875, 3292.729736328125, 2853.832275390625, 1525.501708984375, 10089.9501953125, 9030.0322265625, 22671.59375, 2266.615966796875, 3713.8271484375, 11654.369140625, 8554.806640625, 3090.34130859375, 6951.7373046875, 12230.591796875, 6533.8955078125, 8142.48046875, 4726.849609375, 3207.846923828125, 11584.421875, 6873.6484375, 4674.5546875, 6668.94921875, 5611.20654296875, 4035.805419921875, 6775.82177734375, 5404.34130859375, 6553.90380859375, 3975.86865234375, 4813.236328125, 4632.291015625, 4205.93115234375, 3944.947265625, 3967.15185546875, 10309.6005859375, 3650.33984375, 3133.331298828125, 2491.91650390625, 2410.358642578125, 1928.161865234375, 1692.535888671875, 1636.5799560546875, 1483.9794921875, 1358.7479248046875, 1345.760009765625, 1256.8502197265625, 1254.6605224609375, 972.1453247070312, 821.2498779296875, 788.6580200195312, 770.4362182617188, 758.6317138671875, 737.9105224609375, 723.4410400390625, 719.1015014648438, 642.2468872070312, 551.7017211914062, 491.66094970703125, 474.7487487792969, 469.0111389160156, 464.9329833984375, 464.32940673828125, 464.7438659667969, 455.50634765625, 8658.4765625, 11315.1279296875, 7987.54150390625, 4903.1923828125, 6189.76171875, 4191.9794921875, 6907.66650390625, 2555.77783203125, 4007.851806640625, 1215.9620361328125, 1916.8009033203125, 3700.270751953125, 3395.336181640625, 1786.847412109375, 1966.2508544921875, 4087.243896484375, 4671.564453125, 2921.825927734375, 3124.414794921875, 2079.947509765625, 4271.14404296875, 5995.86474609375, 9034.4833984375, 5254.21484375, 2288.4443359375, 2604.67529296875, 4872.82763671875, 5487.796875, 4646.46484375, 7309.578125, 5237.9091796875, 3234.056884765625, 5075.28515625, 4602.80126953125, 4451.91064453125, 3302.577880859375, 3421.6796875, 3243.022705078125, 5386.3447265625, 5127.90234375, 3018.783935546875, 2203.838623046875, 1694.6263427734375, 890.9337768554688, 788.4491577148438, 647.99365234375, 628.4365844726562, 596.2677001953125, 584.1422119140625, 569.176513671875, 548.6182861328125, 533.2300415039062, 448.9562683105469, 442.82769775390625, 439.3086242675781, 421.8807373046875, 404.0541076660156, 393.32330322265625, 387.72119140625, 381.1787414550781, 373.705810546875, 370.79827880859375, 371.3271484375, 369.5471496582031, 365.6072082519531, 361.8022766113281, 358.4529113769531, 358.9486083984375, 6040.67578125, 3698.303466796875, 2263.974853515625, 1758.3355712890625, 2057.9423828125, 1481.0322265625, 3386.2802734375, 654.2685546875, 2720.962158203125, 672.0526733398438, 2826.0810546875, 2331.694091796875, 2128.303955078125, 1183.216796875, 5215.3466796875, 1469.4454345703125, 2022.30908203125, 1364.595947265625, 2446.437744140625, 1717.4906005859375, 3658.950927734375, 5214.4052734375, 1511.3341064453125, 6087.51220703125, 1401.670654296875, 3972.13916015625, 3882.667236328125, 5201.51025390625, 4117.4912109375, 2333.0546875, 6193.10693359375, 3638.99365234375, 4162.90673828125, 4069.720703125, 4118.603515625, 4385.23828125, 4822.02587890625, 3405.5341796875, 3879.915283203125, 2955.492431640625, 3216.630859375, 3119.38623046875, 3242.90625, 2618.210693359375, 11936.3056640625, 4843.41064453125, 4038.641357421875, 3704.184326171875, 3542.0400390625, 2480.404052734375, 2153.9345703125, 2110.4560546875, 1988.3173828125, 1986.1058349609375, 1652.697998046875, 1248.245361328125, 1004.1591186523438, 829.0748901367188, 806.5469360351562, 773.9776611328125, 731.9459838867188, 696.42431640625, 647.8465576171875, 642.2660522460938, 590.403076171875, 589.3277587890625, 584.9138793945312, 583.4877319335938, 510.0457458496094, 462.2042541503906, 451.09149169921875, 449.5285949707031, 397.45233154296875, 393.7071533203125, 7265.9033203125, 3352.82568359375, 7932.5283203125, 2079.932861328125, 2691.007568359375, 1451.0400390625, 1568.89892578125, 2821.2900390625, 2843.1376953125, 3700.527587890625, 1221.90234375, 859.4325561523438, 2950.3896484375, 2479.485107421875, 5127.275390625, 2404.020263671875, 2353.92529296875, 3132.264404296875, 2157.364013671875, 2627.747314453125, 2638.748779296875, 2931.971435546875, 2682.5166015625, 2578.92724609375, 2587.0771484375, 2753.3427734375, 2384.896240234375, 2135.12548828125], \"Term\": [\"food\", \"chicken\", \"sushi\", \"great\", \"place\", \"roll\", \"rice\", \"pizza\", \"noodle\", \"burger\", \"fish\", \"dish\", \"soup\", \"pork\", \"good\", \"service\", \"fry\", \"sauce\", \"friendly\", \"cheese\", \"table\", \"always\", \"fried\", \"spicy\", \"beef\", \"fresh\", \"salmon\", \"bar\", \"minute\", \"ramen\", \"minute\", \"asked\", \"told\", \"waiting\", \"waited\", \"manager\", \"min\", \"worst\", \"terrible\", \"rude\", \"poor\", \"horrible\", \"phone\", \"asking\", \"attitude\", \"sorry\", \"charged\", \"employee\", \"waste\", \"awful\", \"mistake\", \"ridiculous\", \"worse\", \"management\", \"disgusting\", \"forever\", \"napkin\", \"situation\", \"spoke\", \"zero\", \"bill\", \"said\", \"understand\", \"saying\", \"later\", \"took\", \"waitress\", \"customer\", \"table\", \"hour\", \"left\", \"order\", \"empty\", \"received\", \"even\", \"water\", \"never\", \"another\", \"server\", \"time\", \"bad\", \"ask\", \"know\", \"people\", \"food\", \"service\", \"could\", \"one\", \"would\", \"get\", \"came\", \"wait\", \"take\", \"back\", \"like\", \"restaurant\", \"got\", \"place\", \"ordered\", \"first\", \"come\", \"gem\", \"mexican\", \"greek\", \"benedict\", \"benny\", \"danforth\", \"souvlaki\", \"eastern\", \"chorizo\", \"penne\", \"oxtail\", \"deli\", \"hollandaise\", \"disappoints\", \"gyro\", \"schnitzel\", \"funghi\", \"clair\", \"rancheros\", \"celebrating\", \"churros\", \"georgian\", \"tzatziki\", \"surrounded\", \"huevos\", \"reliable\", \"liberty\", \"tostada\", \"rigatoni\", \"scaddabush\", \"brunch\", \"hidden\", \"reasonably\", \"friendly\", \"always\", \"spot\", \"neighbourhood\", \"great\", \"amazing\", \"love\", \"parking\", \"highly\", \"area\", \"reasonable\", \"place\", \"awesome\", \"priced\", \"quick\", \"fast\", \"best\", \"food\", \"staff\", \"clean\", \"recommend\", \"price\", \"service\", \"good\", \"toronto\", \"location\", \"definitely\", \"delicious\", \"excellent\", \"nice\", \"atmosphere\", \"time\", \"portion\", \"really\", \"lunch\", \"fresh\", \"get\", \"back\", \"restaurant\", \"come\", \"quality\", \"try\", \"one\", \"would\", \"noodle\", \"pork\", \"ramen\", \"thai\", \"curry\", \"broth\", \"pho\", \"dumpling\", \"tofu\", \"jerk\", \"spring\", \"skewer\", \"kimchi\", \"steamed\", \"naan\", \"roti\", \"samosa\", \"congee\", \"bao\", \"wonton\", \"vietnamese\", \"biryani\", \"msg\", \"bulgogi\", \"masala\", \"dosa\", \"stew\", \"hakka\", \"banh\", \"stir\", \"sum\", \"korean\", \"dim\", \"pot\", \"soup\", \"beef\", \"chicken\", \"spice\", \"chinese\", \"rice\", \"fried\", \"bbq\", \"spicy\", \"dish\", \"meat\", \"sauce\", \"hot\", \"bowl\", \"good\", \"ordered\", \"taste\", \"like\", \"also\", \"side\", \"place\", \"restaurant\", \"food\", \"portion\", \"really\", \"would\", \"one\", \"try\", \"come\", \"burger\", \"matcha\", \"cheesecake\", \"waffle\", \"bacon\", \"crepe\", \"crust\", \"toast\", \"bubble\", \"patty\", \"latte\", \"sugar\", \"mac\", \"pastry\", \"ring\", \"bakery\", \"banana\", \"tapioca\", \"strawberry\", \"cone\", \"gelato\", \"donut\", \"syrup\", \"almond\", \"vanilla\", \"tetsu\", \"blueberry\", \"turkey\", \"smoothie\", \"scoop\", \"fry\", \"pizza\", \"cheese\", \"cream\", \"sandwich\", \"ice\", \"tea\", \"milk\", \"topping\", \"fruit\", \"chocolate\", \"coffee\", \"cake\", \"poutine\", \"sesame\", \"egg\", \"sweet\", \"soft\", \"bread\", \"slice\", \"flavour\", \"sauce\", \"like\", \"taste\", \"onion\", \"potato\", \"try\", \"also\", \"got\", \"good\", \"really\", \"dessert\", \"one\", \"ordered\", \"would\", \"drink\", \"get\", \"bit\", \"steak\", \"beer\", \"wine\", \"game\", \"cocktail\", \"board\", \"playing\", \"play\", \"gnocchi\", \"sport\", \"lighting\", \"private\", \"winterlicious\", \"risotto\", \"craft\", \"hip\", \"summerlicious\", \"keg\", \"sangria\", \"pint\", \"prix\", \"foie\", \"lee\", \"ceiling\", \"gras\", \"frites\", \"ravioli\", \"lit\", \"romantic\", \"jay\", \"bar\", \"pasta\", \"music\", \"view\", \"birthday\", \"calamari\", \"main\", \"tapa\", \"patio\", \"tap\", \"appetizer\", \"course\", \"room\", \"entree\", \"night\", \"beautiful\", \"dining\", \"date\", \"rib\", \"evening\", \"dessert\", \"drink\", \"fun\", \"menu\", \"loud\", \"dinner\", \"experience\", \"dish\", \"friend\", \"enjoyed\", \"great\", \"meal\", \"nice\", \"well\", \"table\", \"came\", \"restaurant\", \"server\", \"ordered\", \"salad\", \"delicious\", \"also\", \"would\", \"made\", \"sushi\", \"salmon\", \"sashimi\", \"taco\", \"lobster\", \"ayce\", \"shawarma\", \"burrito\", \"tuna\", \"crab\", \"tempura\", \"udon\", \"bento\", \"maki\", \"dragon\", \"teriyaki\", \"clam\", \"guacamole\", \"boil\", \"izakaya\", \"torched\", \"wasabi\", \"tortilla\", \"eel\", \"unagi\", \"halibut\", \"boat\", \"guac\", \"poke\", \"gyoza\", \"fish\", \"japanese\", \"roll\", \"chip\", \"seafood\", \"miso\", \"oyster\", \"shrimp\", \"piece\", \"fresh\", \"box\", \"scallop\", \"rice\", \"quality\", \"good\", \"lunch\", \"salad\", \"ordered\", \"special\", \"sauce\", \"price\", \"like\", \"also\", \"really\", \"would\", \"place\", \"came\", \"one\"], \"Total\": [75480.0, 28391.0, 11937.0, 37174.0, 64259.0, 10241.0, 14605.0, 12719.0, 10490.0, 10310.0, 8206.0, 20543.0, 11753.0, 9147.0, 59953.0, 41380.0, 9570.0, 17470.0, 13794.0, 8889.0, 19149.0, 12086.0, 10519.0, 8944.0, 10607.0, 14399.0, 4844.0, 6932.0, 8748.0, 6023.0, 8748.5234375, 8022.0888671875, 5828.94189453125, 3809.21630859375, 3120.9609375, 3069.463623046875, 2811.783935546875, 2687.904052734375, 2594.85986328125, 2234.390380859375, 1780.194091796875, 1760.7415771484375, 1308.696044921875, 1278.6419677734375, 1143.34814453125, 1109.2191162109375, 993.4623413085938, 985.9447021484375, 972.864013671875, 942.0380249023438, 884.7412719726562, 864.3033447265625, 826.3599853515625, 808.8261108398438, 684.1033935546875, 653.8919677734375, 587.6502075195312, 555.5119018554688, 510.087646484375, 492.2427673339844, 4152.671875, 7926.39892578125, 1525.8104248046875, 1387.261474609375, 2576.7431640625, 7111.9990234375, 6721.39404296875, 7769.806640625, 19149.6875, 5939.9443359375, 4596.98876953125, 24554.734375, 2269.380859375, 1570.3795166015625, 16710.025390625, 4671.9140625, 10106.017578125, 6542.4267578125, 12430.5224609375, 37266.68359375, 8979.5205078125, 5227.64208984375, 8827.478515625, 12839.8935546875, 75480.546875, 41380.61328125, 14552.978515625, 33049.69921875, 34022.37890625, 27721.865234375, 22577.6953125, 10758.966796875, 10871.7236328125, 26124.21484375, 36095.58984375, 31879.708984375, 19064.0, 64259.4765625, 26135.83984375, 13113.8173828125, 22021.15625, 1514.8349609375, 1232.7801513671875, 1154.27587890625, 775.3651123046875, 556.190673828125, 474.6672058105469, 468.30438232421875, 383.6200256347656, 375.6736145019531, 363.54949951171875, 344.97918701171875, 297.1371765136719, 265.68841552734375, 227.05172729492188, 225.58494567871094, 221.79180908203125, 216.8583526611328, 202.02552795410156, 197.15032958984375, 188.7930145263672, 176.6778106689453, 175.31983947753906, 167.70489501953125, 172.3905029296875, 161.70545959472656, 160.71493530273438, 160.22511291503906, 160.93234252929688, 155.76846313476562, 153.08837890625, 3409.24951171875, 1163.364501953125, 1028.118408203125, 13794.7021484375, 12086.71875, 6422.07177734375, 1115.1192626953125, 37174.08984375, 12465.171875, 11869.962890625, 2568.92626953125, 3908.549072265625, 9197.2685546875, 2843.939697265625, 64259.4765625, 3792.408935546875, 2331.890625, 5477.5673828125, 5377.83544921875, 15166.013671875, 75480.546875, 13730.423828125, 4715.8232421875, 10492.689453125, 18672.857421875, 41380.61328125, 59953.4140625, 7598.1171875, 9806.1513671875, 18338.42578125, 17766.69921875, 6008.6015625, 18739.205078125, 6256.3291015625, 37266.68359375, 12318.84765625, 29743.740234375, 11508.9033203125, 14399.111328125, 27721.865234375, 26124.21484375, 31879.708984375, 22021.15625, 10317.19140625, 18325.458984375, 33049.69921875, 34022.37890625, 10490.8984375, 9147.7900390625, 6023.724609375, 5149.97119140625, 5075.5166015625, 3645.5068359375, 3509.614501953125, 2882.3681640625, 2409.701171875, 2079.598876953125, 1878.641357421875, 1476.2216796875, 1367.60986328125, 1250.821044921875, 1232.17626953125, 1153.52294921875, 1079.4561767578125, 1034.4598388671875, 957.1402587890625, 868.3655395507812, 836.37451171875, 632.8336181640625, 617.4912109375, 588.7708129882812, 546.5645141601562, 537.4092407226562, 521.9143676757812, 507.5934143066406, 485.4204406738281, 479.8223876953125, 2876.916259765625, 3409.80810546875, 2985.941162109375, 1601.31396484375, 11753.623046875, 10607.7431640625, 28391.40234375, 2456.634521484375, 4179.267578125, 14605.4326171875, 10519.080078125, 3544.39013671875, 8944.3857421875, 20543.9140625, 10944.6630859375, 17470.59765625, 9445.859375, 5263.60546875, 59953.4140625, 26135.83984375, 14899.4873046875, 36095.58984375, 24932.44921875, 11174.384765625, 64259.4765625, 31879.708984375, 75480.546875, 12318.84765625, 29743.740234375, 34022.37890625, 33049.69921875, 18325.458984375, 22021.15625, 10310.44140625, 3651.17822265625, 3134.173828125, 2492.75439453125, 2411.197265625, 1928.9990234375, 1693.3741455078125, 1637.4189453125, 1484.818359375, 1359.5867919921875, 1346.597900390625, 1257.689697265625, 1255.500732421875, 972.9848022460938, 822.0909423828125, 789.4989013671875, 771.2781372070312, 759.4696044921875, 738.7484130859375, 724.2783813476562, 719.9389038085938, 643.0870971679688, 552.5397338867188, 492.5011901855469, 475.58734130859375, 469.8509216308594, 465.7702331542969, 465.16827392578125, 465.5848693847656, 456.3491516113281, 9570.1728515625, 12719.224609375, 8889.0693359375, 5371.3984375, 6902.81494140625, 4640.67626953125, 8549.69140625, 2911.00537109375, 4832.69384765625, 1312.9210205078125, 2284.306396484375, 5007.154296875, 4559.96923828125, 2123.66552734375, 2402.165283203125, 6518.8115234375, 8017.7509765625, 4295.99169921875, 5152.4970703125, 2819.406982421875, 9379.294921875, 17470.59765625, 36095.58984375, 14899.4873046875, 3367.580078125, 4402.42041015625, 18325.458984375, 24932.44921875, 19064.0, 59953.4140625, 29743.740234375, 8256.9228515625, 33049.69921875, 26135.83984375, 34022.37890625, 13834.6435546875, 27721.865234375, 13946.93359375, 5387.1787109375, 5128.736328125, 3019.61572265625, 2204.671875, 1695.4580078125, 891.76904296875, 789.283447265625, 648.8285522460938, 629.2681884765625, 597.0994873046875, 584.9765625, 570.0132446289062, 549.4501953125, 534.0616455078125, 449.78857421875, 443.6622619628906, 440.1413879394531, 422.7121887207031, 404.8862609863281, 394.15606689453125, 388.5535583496094, 382.01495361328125, 374.542236328125, 371.63372802734375, 372.1641540527344, 370.3808898925781, 366.43853759765625, 362.63934326171875, 359.28594970703125, 359.785888671875, 6932.416015625, 4156.4716796875, 2557.961669921875, 1951.861328125, 2401.6845703125, 1725.6280517578125, 4367.4794921875, 708.5093383789062, 3750.279541015625, 742.8203735351562, 4118.7744140625, 3300.92578125, 2962.31787109375, 1470.3670654296875, 9640.6484375, 2043.801513671875, 3155.38232421875, 1884.7425537109375, 4236.2548828125, 2665.429931640625, 8256.9228515625, 13834.6435546875, 2360.1865234375, 19874.3828125, 2141.68115234375, 11237.6826171875, 11967.2158203125, 20543.9140625, 14809.0947265625, 5299.3203125, 37174.08984375, 13512.57421875, 18739.205078125, 18038.4375, 19149.6875, 22577.6953125, 31879.708984375, 12430.5224609375, 26135.83984375, 11595.55859375, 17766.69921875, 24932.44921875, 34022.37890625, 11563.4443359375, 11937.142578125, 4844.25048828125, 4039.478271484375, 3705.023681640625, 3542.88037109375, 2481.2421875, 2154.7783203125, 2111.293701171875, 1989.1563720703125, 1986.9453125, 1653.535888671875, 1249.084228515625, 1004.9971313476562, 829.911376953125, 807.385498046875, 774.8159790039062, 732.7858276367188, 697.2645263671875, 648.6849365234375, 643.1084594726562, 591.2407836914062, 590.1663818359375, 585.7553100585938, 584.3274536132812, 510.88409423828125, 463.0423583984375, 451.9303894042969, 450.3675842285156, 398.2888488769531, 394.55035400390625, 8206.31640625, 3876.8525390625, 10241.5849609375, 2554.111083984375, 3719.10107421875, 1800.5621337890625, 2073.78466796875, 5519.25390625, 6321.26416015625, 14399.111328125, 2158.71142578125, 1139.45361328125, 14605.4326171875, 10317.19140625, 59953.4140625, 11508.9033203125, 11595.55859375, 26135.83984375, 9915.6474609375, 17470.59765625, 18672.857421875, 36095.58984375, 24932.44921875, 29743.740234375, 34022.37890625, 64259.4765625, 22577.6953125, 33049.69921875], \"loglift\": [30.0, 29.0, 28.0, 27.0, 26.0, 25.0, 24.0, 23.0, 22.0, 21.0, 20.0, 19.0, 18.0, 17.0, 16.0, 15.0, 14.0, 13.0, 12.0, 11.0, 10.0, 9.0, 8.0, 7.0, 6.0, 5.0, 4.0, 3.0, 2.0, 1.0, 1.2976000308990479, 1.2976000308990479, 1.2976000308990479, 1.2975000143051147, 1.2973999977111816, 1.2973999977111816, 1.2973999977111816, 1.2973999977111816, 1.2973999977111816, 1.2972999811172485, 1.2971999645233154, 1.2971999645233154, 1.2970000505447388, 1.2970000505447388, 1.2970000505447388, 1.2969000339508057, 1.2968000173568726, 1.2968000173568726, 1.2968000173568726, 1.2968000173568726, 1.2967000007629395, 1.2967000007629395, 1.2967000007629395, 1.2965999841690063, 1.2964999675750732, 1.2963999509811401, 1.2962000370025635, 1.2962000370025635, 1.2960000038146973, 1.2960000038146973, 1.256700038909912, 1.2310999631881714, 1.2611000537872314, 1.257699966430664, 1.215499997138977, 1.1407999992370605, 1.1167999505996704, 1.1030999422073364, 0.9868999719619751, 1.0937999486923218, 1.1194000244140625, 0.9117000102996826, 1.1926000118255615, 1.233299970626831, 0.8633000254631042, 1.0628999471664429, 0.9311000108718872, 0.9908999800682068, 0.8583999872207642, 0.6330000162124634, 0.902899980545044, 1.0139000415802002, 0.8925999999046326, 0.7900000214576721, 0.2946999967098236, 0.3569999933242798, 0.6765000224113464, 0.3529999852180481, 0.3262999951839447, 0.3912999927997589, 0.4562000036239624, 0.7573000192642212, 0.7447999715805054, 0.3343000113964081, 0.11089999973773956, 0.15299999713897705, 0.40549999475479126, -0.3287999927997589, 0.06870000064373016, 0.570900022983551, 0.0689999982714653, 1.517300009727478, 1.5170999765396118, 1.5170999765396118, 1.516700029373169, 1.5162999629974365, 1.5161000490188599, 1.5160000324249268, 1.5155999660491943, 1.5155999660491943, 1.5154999494552612, 1.5154000520706177, 1.5149999856948853, 1.5147000551223755, 1.5140999555587769, 1.5140999555587769, 1.5140000581741333, 1.5139000415802002, 1.5135999917984009, 1.5134999752044678, 1.513200044631958, 1.5130000114440918, 1.5128999948501587, 1.5127999782562256, 1.5125999450683594, 1.5125999450683594, 1.5125999450683594, 1.5125999450683594, 1.5125000476837158, 1.5124000310897827, 1.5123000144958496, 1.48580002784729, 1.4915000200271606, 1.4931999444961548, 1.4118000268936157, 1.4016000032424927, 1.3532999753952026, 1.4351999759674072, 1.2519999742507935, 1.2597999572753906, 1.220900058746338, 1.3193000555038452, 1.2819000482559204, 1.1988999843597412, 1.301300048828125, 1.016800045967102, 1.2705999612808228, 1.3070000410079956, 1.2280999422073364, 1.2244000434875488, 1.1124999523162842, 0.9133999943733215, 1.1089999675750732, 1.2200000286102295, 1.107100009918213, 0.9908000230789185, 0.8694999814033508, 0.7630000114440918, 1.1133999824523926, 1.0214999914169312, 0.8587999939918518, 0.8227999806404114, 1.092900037765503, 0.7542999982833862, 1.059499979019165, 0.4779999852180481, 0.8219000101089478, 0.46700000762939453, 0.8034999966621399, 0.7027000188827515, 0.3986999988555908, 0.4244999885559082, 0.3138999938964844, 0.4578999876976013, 0.8478999733924866, 0.4359999895095825, -0.07519999891519547, -0.18000000715255737, 1.8708000183105469, 1.8708000183105469, 1.8707000017166138, 1.8707000017166138, 1.8707000017166138, 1.8705999851226807, 1.8705999851226807, 1.8705999851226807, 1.8704999685287476, 1.8703999519348145, 1.8703999519348145, 1.870300054550171, 1.8702000379562378, 1.8702000379562378, 1.8702000379562378, 1.8701000213623047, 1.8701000213623047, 1.8700000047683716, 1.8700000047683716, 1.8698999881744385, 1.8697999715805054, 1.8695000410079956, 1.8695000410079956, 1.8694000244140625, 1.8693000078201294, 1.8693000078201294, 1.8691999912261963, 1.8691999912261963, 1.8690999746322632, 1.8690999746322632, 1.8473000526428223, 1.8358999490737915, 1.825600028038025, 1.8222999572753906, 1.7181999683380127, 1.7098000049591064, 1.645900011062622, 1.7903000116348267, 1.7527999877929688, 1.6450999975204468, 1.664199948310852, 1.7338000535964966, 1.6188000440597534, 1.3522000312805176, 1.3550000190734863, 1.1073999404907227, 1.1785000562667847, 1.375599980354309, 0.22689999639987946, 0.5351999998092651, 0.7117000222206116, 0.18209999799728394, 0.37940001487731934, 0.852400004863739, -0.37869998812675476, 0.09610000252723694, -0.5730000138282776, 0.7400000095367432, 0.04960000142455101, -0.12309999763965607, -0.1906999945640564, 0.33500000834465027, 0.15690000355243683, 1.8967000246047974, 1.8966000080108643, 1.8964999914169312, 1.896399974822998, 1.896399974822998, 1.896399974822998, 1.896299958229065, 1.896299958229065, 1.8961999416351318, 1.8961999416351318, 1.8961999416351318, 1.8961000442504883, 1.8961000442504883, 1.895900011062622, 1.895799994468689, 1.8956999778747559, 1.8956999778747559, 1.8956999778747559, 1.8956999778747559, 1.8955999612808228, 1.8955999612808228, 1.8954999446868896, 1.895300030708313, 1.8950999975204468, 1.8949999809265137, 1.8949999809265137, 1.8949999809265137, 1.8949999809265137, 1.8949999809265137, 1.8948999643325806, 1.7967000007629395, 1.7798000574111938, 1.7898000478744507, 1.8056000471115112, 1.7877999544143677, 1.7950999736785889, 1.683500051498413, 1.7666000127792358, 1.7095999717712402, 1.820099949836731, 1.7214000225067139, 1.5943000316619873, 1.6018999814987183, 1.7240999937057495, 1.6964999437332153, 1.4299999475479126, 1.356600046157837, 1.511299967765808, 1.3966000080108643, 1.5925999879837036, 1.110200047492981, 0.8273000121116638, 0.5116999745368958, 0.8544999957084656, 1.5104999542236328, 1.371899962425232, 0.5722000002861023, 0.3831000030040741, 0.48510000109672546, -0.20759999752044678, 0.16009999811649323, 0.9595000147819519, 0.02319999970495701, 0.16009999811649323, -0.13689999282360077, 0.4643000066280365, -0.19529999792575836, 0.43799999356269836, 2.0511999130249023, 2.0511999130249023, 2.051100015640259, 2.0510001182556152, 2.0508999824523926, 2.0504000186920166, 2.050299882888794, 2.050100088119507, 2.050100088119507, 2.049999952316284, 2.049999952316284, 2.0499000549316406, 2.0499000549316406, 2.049799919128418, 2.049499988555908, 2.049499988555908, 2.049499988555908, 2.0494000911712646, 2.049299955368042, 2.049299955368042, 2.0492000579833984, 2.0492000579833984, 2.049099922180176, 2.049099922180176, 2.049099922180176, 2.049099922180176, 2.049099922180176, 2.049099922180176, 2.049099922180176, 2.049099922180176, 1.913699984550476, 1.9345999956130981, 1.9292999505996704, 1.9470000267028809, 1.8969000577926636, 1.8984999656677246, 1.7969000339508057, 1.9716999530792236, 1.7304999828338623, 1.951300024986267, 1.6747000217437744, 1.7037999629974365, 1.7207000255584717, 1.8341000080108643, 1.437000036239624, 1.721500039100647, 1.6065000295639038, 1.7285000085830688, 1.5023000240325928, 1.611899971961975, 1.2374999523162842, 1.075600028038025, 1.6055999994277954, 0.8682000041007996, 1.627500057220459, 1.0113999843597412, 0.9257000088691711, 0.6777999997138977, 0.771399974822998, 1.2309999465942383, 0.25920000672340393, 0.7394999861717224, 0.546999990940094, 0.5625, 0.5145999789237976, 0.41269999742507935, 0.16259999573230743, 0.756600022315979, 0.14390000700950623, 0.6844000220298767, 0.3424000144004822, -0.02710000053048134, -0.29919999837875366, 0.5659999847412109, 2.5894999504089355, 2.589400053024292, 2.589400053024292, 2.5892999172210693, 2.5892999172210693, 2.589200019836426, 2.589200019836426, 2.589200019836426, 2.589099884033203, 2.589099884033203, 2.589099884033203, 2.588900089263916, 2.58870005607605, 2.588599920272827, 2.5885000228881836, 2.5885000228881836, 2.588399887084961, 2.588399887084961, 2.5882999897003174, 2.5882999897003174, 2.588099956512451, 2.588099956512451, 2.588099956512451, 2.588099956512451, 2.587899923324585, 2.5878000259399414, 2.5876998901367188, 2.5876998901367188, 2.5875000953674316, 2.587399959564209, 2.467900037765503, 2.4442999362945557, 2.3341000080108643, 2.384200096130371, 2.2660000324249268, 2.373699903488159, 2.3106000423431396, 1.9184999465942383, 1.7905999422073364, 1.2309000492095947, 2.0204999446868896, 2.307499885559082, 0.9901000261306763, 1.1638000011444092, 0.1306000053882599, 1.0235999822616577, 0.9950000047683716, 0.46799999475479126, 1.0642999410629272, 0.6952000260353088, 0.6327999830245972, 0.07909999787807465, 0.3601999878883362, 0.14429999887943268, 0.013100000098347664, -0.5605000257492065, 0.3418000042438507, -0.14990000426769257], \"logprob\": [30.0, 29.0, 28.0, 27.0, 26.0, 25.0, 24.0, 23.0, 22.0, 21.0, 20.0, 19.0, 18.0, 17.0, 16.0, 15.0, 14.0, 13.0, 12.0, 11.0, 10.0, 9.0, 8.0, 7.0, 6.0, 5.0, 4.0, 3.0, 2.0, 1.0, -5.065999984741211, -5.152699947357178, -5.472099781036377, -5.897500038146973, -6.09689998626709, -6.113500118255615, -6.201200008392334, -6.246300220489502, -6.281499862670898, -6.43120002746582, -6.6585001945495605, -6.66949987411499, -6.966400146484375, -6.98960018157959, -7.101500034332275, -7.131899833679199, -7.242199897766113, -7.249800205230713, -7.2631001472473145, -7.295400142669678, -7.3582000732421875, -7.3815999031066895, -7.426499843597412, -7.447999954223633, -7.615600109100342, -7.660900115966797, -7.7677998542785645, -7.824100017547607, -7.909599781036377, -7.945300102233887, -5.8520002365112305, -5.231200218200684, -6.848800182342529, -6.947400093078613, -6.370500087738037, -5.429800033569336, -5.51039981842041, -5.3790998458862305, -4.593200206756592, -5.656899929046631, -5.887599945068359, -4.4197998046875, -6.520299911499023, -6.847799777984619, -4.8531999588012695, -5.9278998374938965, -5.2881999015808105, -5.6631999015808105, -5.153800010681152, -4.281400203704834, -5.434599876403809, -5.864500045776367, -5.461999893188477, -5.189899921417236, -3.9138998985290527, -4.452700138092041, -5.178100109100342, -4.681399822235107, -4.679100036621094, -4.818900108337402, -4.9593000411987305, -5.399400234222412, -5.401400089263916, -4.935299873352051, -4.835400104522705, -4.917500019073486, -5.179100036621094, -4.698299884796143, -5.200399875640869, -5.387899875640869, -5.371500015258789, -6.599899768829346, -6.806000232696533, -6.8719000816345215, -7.270100116729736, -7.602799892425537, -7.761499881744385, -7.775000095367432, -7.974899768829346, -7.9959001541137695, -8.028800010681152, -8.081299781799316, -8.230999946594238, -8.343199729919434, -8.500900268554688, -8.507399559020996, -8.524399757385254, -8.54699993133545, -8.618200302124023, -8.6427001953125, -8.686300277709961, -8.752799987792969, -8.760700225830078, -8.80519962310791, -8.777799606323242, -8.84179973602295, -8.847999572753906, -8.851099967956543, -8.846699714660645, -8.879500389099121, -8.896900177001953, -5.820199966430664, -6.889699935913086, -7.011499881744385, -4.496300220489502, -4.638800144195557, -5.319399833679199, -6.98829984664917, -3.664799928665161, -4.74970006942749, -4.837600231170654, -6.269700050354004, -5.887400150299072, -5.11460018157959, -6.185999870300293, -3.3526999950408936, -5.928800106048584, -6.378699779510498, -5.603600025177002, -5.625800132751465, -4.700900077819824, -3.2952001094818115, -4.803800106048584, -5.761499881744385, -5.0746002197265625, -4.61460018157959, -3.940200090408325, -3.6758999824523926, -5.39109992980957, -5.22790002822876, -4.764699935913086, -4.832300186157227, -5.646299839019775, -4.847599983215332, -5.639400005340576, -4.436399936676025, -5.199399948120117, -4.672800064086914, -5.285799980163574, -5.162600040435791, -4.811500072479248, -4.845099925994873, -4.7565999031066895, -4.982500076293945, -5.3506999015808105, -5.188199996948242, -5.109600067138672, -5.185500144958496, -4.311200141906738, -4.448200225830078, -4.866000175476074, -5.022799968719482, -5.037300109863281, -5.368299961090088, -5.406300067901611, -5.603300094604492, -5.782400131225586, -5.929800033569336, -6.031499862670898, -6.27269983291626, -6.349100112915039, -6.438499927520752, -6.453499794006348, -6.519499778747559, -6.585899829864502, -6.628499984741211, -6.706299781799316, -6.803699970245361, -6.841300010681152, -7.120500087738037, -7.144999980926514, -7.192699909210205, -7.267199993133545, -7.284200191497803, -7.313499927520752, -7.341300010681152, -7.386099815368652, -7.39769983291626, -5.628399848937988, -5.469900131225586, -5.6128997802734375, -6.239299774169922, -4.350100040435791, -4.460999965667725, -3.5404999256134033, -5.843299865722656, -5.3495001792907715, -4.205900192260742, -4.515100002288818, -5.533299922943115, -4.722599983215332, -4.157700061798096, -4.784599781036377, -4.564499855041504, -5.10830020904541, -5.495999813079834, -4.211900234222412, -4.73390007019043, -5.119500160217285, -4.764100074768066, -4.936800003051758, -5.26639986038208, -4.748199939727783, -4.974400043487549, -4.781499862670898, -5.281300067901611, -5.090199947357178, -5.128499984741211, -5.225100040435791, -5.2891998291015625, -5.2835001945495605, -4.302599906921387, -5.340799808502197, -5.493599891662598, -5.722599983215332, -5.755899906158447, -5.979100227355957, -6.109399795532227, -6.14300012588501, -6.240900039672852, -6.329100131988525, -6.338699817657471, -6.4070000648498535, -6.40880012512207, -6.663899898529053, -6.832600116729736, -6.8730998039245605, -6.896500110626221, -6.911900043487549, -6.939599990844727, -6.959400177001953, -6.965400218963623, -7.078400135040283, -7.230400085449219, -7.345600128173828, -7.3805999755859375, -7.3927998542785645, -7.401500225067139, -7.4028000831604, -7.401899814605713, -7.421999931335449, -4.477099895477295, -4.209499835968018, -4.557799816131592, -5.04580020904541, -4.81279993057251, -5.202499866485596, -4.703000068664551, -5.697299957275391, -5.247399806976318, -6.440100193023682, -5.985000133514404, -5.327300071716309, -5.413300037384033, -6.055200099945068, -5.959499835968018, -5.227799892425537, -5.094200134277344, -5.563399791717529, -5.496399879455566, -5.903299808502197, -5.183800220489502, -4.844600200653076, -4.434599876403809, -4.976600170135498, -5.807799816131592, -5.678299903869629, -5.052000045776367, -4.93310022354126, -5.099599838256836, -4.646500110626221, -4.979700088500977, -5.461900234222412, -5.011300086975098, -5.109000205993652, -5.142300128936768, -5.440999984741211, -5.4054999351501465, -5.459199905395508, -4.7972002029418945, -4.846399784088135, -5.376200199127197, -5.690899848937988, -5.95359992980957, -6.596499919891357, -6.718699932098389, -6.914899826049805, -6.9456000328063965, -6.9980998039245605, -7.018700122833252, -7.044600009918213, -7.081399917602539, -7.109899997711182, -7.281899929046631, -7.295599937438965, -7.303599834442139, -7.344099998474121, -7.38730001449585, -7.4141998291015625, -7.428500175476074, -7.445499897003174, -7.4653000831604, -7.473199844360352, -7.471700191497803, -7.476500034332275, -7.487299919128418, -7.497700214385986, -7.506999969482422, -7.5055999755859375, -4.682499885559082, -5.1732001304626465, -5.663899898529053, -5.9166998863220215, -5.759399890899658, -6.0883002281188965, -5.261300086975098, -6.905300140380859, -5.480100154876709, -6.878499984741211, -5.442200183868408, -5.634500026702881, -5.7256999015808105, -6.31279993057251, -4.829500198364258, -6.096199989318848, -5.776800155639648, -6.170199871063232, -5.586400032043457, -5.940199851989746, -5.183899879455566, -4.829599857330322, -6.0680999755859375, -4.674799919128418, -6.143400192260742, -5.101799964904785, -5.124499797821045, -4.832099914550781, -5.065800189971924, -5.633900165557861, -4.657599925994873, -5.1894001960754395, -5.054800033569336, -5.077499866485596, -5.065499782562256, -5.002799987792969, -4.907899856567383, -5.25570011138916, -5.125199794769287, -5.39739990234375, -5.312699794769287, -5.343400001525879, -5.304599761962891, -5.518599987030029, -3.4632999897003174, -4.365300178527832, -4.546999931335449, -4.633399963378906, -4.678199768066406, -5.0345001220703125, -5.175600051879883, -5.196000099182129, -5.2555999755859375, -5.256700038909912, -5.440499782562256, -5.721099853515625, -5.938700199127197, -6.130300045013428, -6.157899856567383, -6.199100017547607, -6.254899978637695, -6.304699897766113, -6.376999855041504, -6.3856000900268555, -6.469799995422363, -6.47160005569458, -6.4791998863220215, -6.481599807739258, -6.616099834442139, -6.714600086212158, -6.738999843597412, -6.742400169372559, -6.865600109100342, -6.875, -3.959700107574463, -4.733099937438965, -3.8719000816345215, -5.2104997634887695, -4.953000068664551, -5.5706000328063965, -5.492499828338623, -4.905700206756592, -4.8979997634887695, -4.634399890899658, -5.742499828338623, -6.094399929046631, -4.860899925231934, -5.034800052642822, -4.308300018310547, -5.065700054168701, -5.0868000984191895, -4.80109977722168, -5.173999786376953, -4.976799964904785, -4.972599983215332, -4.867199897766113, -4.956099987030029, -4.995500087738037, -4.992300033569336, -4.930099964141846, -5.073699951171875, -5.1844000816345215]}, \"token.table\": {\"Topic\": [4, 1, 2, 3, 4, 5, 6, 1, 2, 3, 2, 3, 4, 5, 1, 3, 4, 5, 6, 1, 3, 5, 6, 1, 2, 3, 4, 5, 6, 1, 2, 3, 4, 1, 1, 2, 5, 1, 2, 3, 4, 5, 1, 6, 1, 2, 3, 4, 5, 6, 4, 1, 2, 3, 4, 6, 4, 4, 3, 3, 1, 5, 3, 4, 2, 5, 3, 4, 5, 6, 5, 2, 2, 6, 1, 2, 3, 4, 5, 6, 1, 5, 1, 5, 3, 1, 2, 3, 4, 5, 6, 4, 5, 6, 6, 3, 4, 6, 1, 3, 4, 6, 4, 5, 3, 1, 2, 4, 3, 4, 6, 3, 4, 5, 5, 6, 1, 3, 4, 5, 6, 5, 2, 1, 4, 5, 4, 1, 2, 3, 4, 1, 3, 4, 6, 4, 5, 2, 2, 2, 6, 1, 2, 3, 6, 5, 2, 4, 1, 2, 3, 4, 6, 4, 3, 1, 2, 3, 4, 5, 6, 1, 3, 4, 5, 6, 6, 5, 4, 6, 4, 4, 3, 1, 2, 2, 2, 5, 2, 3, 4, 5, 6, 2, 2, 3, 4, 5, 6, 1, 3, 4, 5, 6, 3, 5, 1, 2, 3, 5, 6, 1, 2, 3, 5, 6, 2, 1, 1, 2, 3, 5, 6, 4, 3, 6, 1, 2, 4, 5, 3, 2, 6, 2, 3, 4, 1, 1, 5, 6, 2, 3, 4, 5, 6, 1, 3, 5, 1, 2, 3, 4, 5, 6, 1, 3, 5, 6, 2, 3, 5, 6, 1, 2, 5, 6, 1, 2, 3, 4, 6, 1, 2, 3, 4, 5, 6, 3, 6, 3, 4, 5, 6, 5, 1, 2, 3, 1, 2, 3, 4, 6, 3, 4, 6, 1, 2, 3, 4, 5, 6, 2, 3, 4, 5, 5, 1, 4, 5, 2, 4, 2, 3, 4, 5, 6, 2, 5, 4, 2, 2, 1, 2, 3, 4, 6, 5, 1, 2, 3, 4, 5, 6, 1, 2, 3, 4, 5, 6, 5, 2, 3, 4, 5, 6, 2, 6, 6, 6, 2, 3, 6, 2, 4, 2, 3, 5, 6, 5, 2, 1, 1, 2, 3, 4, 6, 1, 2, 2, 4, 6, 6, 3, 4, 6, 5, 3, 5, 3, 1, 2, 3, 4, 3, 6, 1, 4, 5, 4, 5, 1, 3, 4, 5, 6, 2, 5, 1, 2, 3, 4, 5, 6, 5, 6, 1, 2, 4, 1, 2, 5, 2, 3, 4, 6, 1, 2, 3, 6, 4, 1, 2, 3, 4, 5, 6, 1, 3, 5, 6, 6, 1, 1, 3, 4, 1, 2, 3, 4, 5, 6, 1, 2, 3, 4, 5, 6, 1, 2, 3, 4, 5, 6, 2, 3, 4, 1, 1, 3, 6, 1, 3, 2, 5, 3, 1, 1, 2, 1, 2, 3, 4, 6, 1, 2, 3, 4, 5, 6, 1, 2, 3, 5, 6, 3, 1, 2, 3, 4, 5, 6, 3, 4, 1, 2, 3, 4, 6, 1, 3, 4, 5, 6, 2, 5, 6, 1, 2, 3, 2, 5, 4, 2, 5, 4, 2, 1, 2, 3, 4, 5, 6, 3, 1, 1, 3, 4, 6, 5, 2, 4, 1, 2, 3, 4, 6, 5, 5, 6, 1, 3, 1, 2, 3, 4, 6, 3, 4, 3, 4, 5, 2, 4, 1, 2, 3, 4, 6, 1, 2, 3, 6, 5, 5, 1, 2, 3, 4, 6, 1, 2, 3, 4, 6, 3, 2, 5, 1, 2, 3, 4, 5, 6, 1, 2, 3, 6, 2, 3, 6, 1, 5, 6, 1, 2, 3, 4, 5, 6, 2, 1, 2, 3, 5, 6, 3, 5, 3, 6, 1, 2, 4, 5, 3, 6, 5, 1, 5, 3, 1, 1, 4, 5, 1, 2, 3, 4, 5, 6, 6, 3, 2, 4, 5, 6, 3, 4, 5, 6, 1, 4, 2, 5, 6, 2, 4, 3, 5, 6, 1, 2, 5, 1, 2, 3, 5, 6, 3, 4, 6, 6, 3, 6, 1, 2, 3, 4, 5, 6, 1, 3, 3, 4, 6, 4, 3, 4, 6, 1, 3, 6, 2, 1, 2, 3, 4, 5, 6, 3, 4, 3, 6, 1, 5, 1, 2, 3, 4, 5, 3, 1, 2, 5, 5, 3, 3, 3, 4, 4, 1, 3, 5, 2, 6, 3, 4, 5, 6, 4, 1, 2, 3, 5, 6, 1, 2, 3, 4, 6, 1, 5, 5, 6, 4, 1, 2, 3, 4, 6, 1, 3, 4, 6, 6, 6, 1, 4, 3, 1, 2, 3, 4, 6, 4, 3, 1, 1, 4, 5, 3, 4, 6, 6, 1, 2, 3, 4, 5, 6, 6, 2, 1, 2, 3, 4, 5, 6, 6, 4, 2, 6, 6, 1, 6, 4, 3, 2, 5, 4, 1, 2, 3, 4, 1, 1, 1, 2, 5, 6, 6, 1, 1, 3, 4, 5, 1, 2, 3, 4, 5, 6, 5, 5, 3, 1, 1, 1, 2, 3, 4, 5, 6, 1], \"Freq\": [0.9989823698997498, 0.09898746758699417, 0.22316299378871918, 0.22504808008670807, 0.22011475265026093, 0.12509801983833313, 0.10761076956987381, 0.08066705614328384, 0.8902333378791809, 0.0290401391685009, 0.7725525498390198, 0.029121138155460358, 0.0625743493437767, 0.13565798103809357, 0.7358126044273376, 0.0603751502931118, 0.09522460401058197, 0.07734133303165436, 0.031333938241004944, 0.0444306917488575, 0.17383812367916107, 0.6861264109611511, 0.09541673213243484, 0.12253638356924057, 0.7269549369812012, 0.06719386577606201, 0.05099340155720711, 0.022180497646331787, 0.01011169794946909, 0.7529206871986389, 0.13677294552326202, 0.06676050275564194, 0.04323172941803932, 0.9998642802238464, 0.9994979500770569, 0.6323196887969971, 0.36762771010398865, 0.9996954798698425, 0.7810339331626892, 0.0184579249471426, 0.06117483600974083, 0.13922549784183502, 0.9988980889320374, 0.9994993805885315, 0.3815999925136566, 0.33509141206741333, 0.07272946089506149, 0.09554354101419449, 0.08386854827404022, 0.03115883097052574, 0.9995034337043762, 0.6738666892051697, 0.12450553476810455, 0.10234399139881134, 0.04510262981057167, 0.054123155772686005, 0.9993680715560913, 0.9983428120613098, 0.9991338849067688, 0.9988086819648743, 0.12852661311626434, 0.8714133501052856, 0.8718001842498779, 0.1278076022863388, 0.2808491885662079, 0.7187586426734924, 0.8512649536132812, 0.05854213982820511, 0.04261038452386856, 0.047512464225292206, 0.9998564124107361, 0.9995291233062744, 0.9978592395782471, 0.9990078210830688, 0.010747715830802917, 0.6667540073394775, 0.14103904366493225, 0.08835545182228088, 0.05749697983264923, 0.03560592979192734, 0.9598639607429504, 0.03997426480054855, 0.142816424369812, 0.8568985462188721, 0.9986827373504639, 0.042159803211688995, 0.22865241765975952, 0.264932781457901, 0.23252423107624054, 0.12547561526298523, 0.10625991970300674, 0.9983463287353516, 0.9991376399993896, 0.9979413151741028, 0.998944103717804, 0.6094681620597839, 0.07979321479797363, 0.3106235861778259, 0.14545714855194092, 0.08291983604431152, 0.20521502196788788, 0.5660784244537354, 0.6063079833984375, 0.39340147376060486, 0.999860942363739, 0.03138520568609238, 0.9685416221618652, 0.999448835849762, 0.9986907839775085, 0.9999572038650513, 0.999387264251709, 0.08486898988485336, 0.7445225715637207, 0.1703958809375763, 0.8582382798194885, 0.14139778912067413, 0.43104487657546997, 0.16219547390937805, 0.10687538981437683, 0.1942182332277298, 0.10563522577285767, 0.9982947707176208, 0.9957995414733887, 0.9995346069335938, 0.898631751537323, 0.10136044025421143, 0.9996255040168762, 0.01820973865687847, 0.09400733560323715, 0.798551619052887, 0.08925237506628036, 0.11126351356506348, 0.8886724710464478, 0.18558315932750702, 0.8143733739852905, 0.8392044305801392, 0.1606614589691162, 0.9982069134712219, 0.9961636066436768, 0.9949237704277039, 0.9989275932312012, 0.12532275915145874, 0.742394208908081, 0.11684068292379379, 0.015055695548653603, 0.9997298717498779, 0.26082679629325867, 0.7389426827430725, 0.29267311096191406, 0.3464849889278412, 0.18014495074748993, 0.09713386744260788, 0.08355601131916046, 0.9982349872589111, 0.9995554685592651, 0.5372783541679382, 0.03208965063095093, 0.0993611067533493, 0.1482170820236206, 0.13729147613048553, 0.04576382786035538, 0.14026367664337158, 0.08755119889974594, 0.02362973429262638, 0.7064684629440308, 0.042109400033950806, 0.9995242357254028, 0.9982467889785767, 0.9127976894378662, 0.08712814748287201, 0.9994820952415466, 0.9997790455818176, 0.9998981952667236, 0.8231865167617798, 0.17670966684818268, 0.998594343662262, 0.27536916732788086, 0.7242368459701538, 0.5173290371894836, 0.15650197863578796, 0.14117896556854248, 0.10360758751630783, 0.08141374588012695, 0.9961729049682617, 0.49907976388931274, 0.14769203960895538, 0.14414608478546143, 0.18106909096240997, 0.028029967099428177, 0.058859698474407196, 0.026644308120012283, 0.3916713297367096, 0.4431433081626892, 0.07969070225954056, 0.9558125138282776, 0.04387226328253746, 0.1917358785867691, 0.14578264951705933, 0.014261346310377121, 0.6408098340034485, 0.007289132568985224, 0.1683621108531952, 0.22744902968406677, 0.111054927110672, 0.353453665971756, 0.1397085189819336, 0.9953678846359253, 0.9983870983123779, 0.07257623970508575, 0.030860720202326775, 0.5953587889671326, 0.25321367383003235, 0.048043426126241684, 0.9983095526695251, 0.9992384910583496, 0.9995225071907043, 0.2780700623989105, 0.10632728040218353, 0.2387484759092331, 0.3768799602985382, 0.9998722672462463, 0.9983837604522705, 0.9977282285690308, 0.08943347632884979, 0.2834872603416443, 0.6269547939300537, 0.9990418553352356, 0.9002455472946167, 0.07182575762271881, 0.027760876342654228, 0.1607753336429596, 0.18455196917057037, 0.12265723943710327, 0.4402451515197754, 0.09189857542514801, 0.07889186590909958, 0.11561738699674606, 0.8045610189437866, 0.6476351618766785, 0.13895849883556366, 0.051047198474407196, 0.0940752625465393, 0.03500892221927643, 0.03327343985438347, 0.26712387800216675, 0.04577122628688812, 0.6441737413406372, 0.04239466041326523, 0.653895914554596, 0.04027559608221054, 0.277269184589386, 0.02862562984228134, 0.4600067436695099, 0.16160818934440613, 0.32446977496147156, 0.05389724671840668, 0.1106393113732338, 0.7456531524658203, 0.11584586650133133, 0.019524583593010902, 0.008367679081857204, 0.4834595322608948, 0.13115936517715454, 0.12277127057313919, 0.1314643919467926, 0.08502482622861862, 0.046134546399116516, 0.11454591155052185, 0.8854155540466309, 0.3789197504520416, 0.45536473393440247, 0.083055280148983, 0.08262880891561508, 0.9973431825637817, 0.3667699992656708, 0.5463924407958984, 0.08683031797409058, 0.9986358880996704, 0.44259676337242126, 0.08889437466859818, 0.21147137880325317, 0.2570297420024872, 0.8132840394973755, 0.09287884086370468, 0.09382949769496918, 0.3239901065826416, 0.20494163036346436, 0.059085313230752945, 0.11783299595117569, 0.27800482511520386, 0.016138730570673943, 0.8994032740592957, 0.008554008789360523, 0.018702832981944084, 0.07328900694847107, 0.9989716410636902, 0.045699626207351685, 0.9261791110038757, 0.02741977572441101, 0.095191590487957, 0.9046858549118042, 0.2690465450286865, 0.0436406172811985, 0.013981945812702179, 0.6402036547660828, 0.03304823487997055, 0.9960418939590454, 0.9996952414512634, 0.9986958503723145, 0.999448835849762, 0.9924718141555786, 0.4039771556854248, 0.32656532526016235, 0.09847822040319443, 0.1234404668211937, 0.047507625073194504, 0.9979846477508545, 0.09575768560171127, 0.4700983464717865, 0.19321668148040771, 0.12192799896001816, 0.03347599133849144, 0.08551640063524246, 0.40977758169174194, 0.037715066224336624, 0.15883339941501617, 0.2437054067850113, 0.07086655497550964, 0.07910197228193283, 0.9968719482421875, 0.7665554285049438, 0.03940916806459427, 0.01008767168968916, 0.16659453511238098, 0.01735079474747181, 0.9988946318626404, 0.9991838335990906, 0.998186469078064, 0.9986051321029663, 0.9974069595336914, 0.9988309144973755, 0.9977489113807678, 0.9738994240760803, 0.025787275284528732, 0.789807140827179, 0.06140385940670967, 0.13841453194618225, 0.01048982609063387, 0.9985072612762451, 0.997408926486969, 0.9995788335800171, 0.07897640019655228, 0.11168915033340454, 0.5004308819770813, 0.28933313488960266, 0.019479434937238693, 0.8154958486557007, 0.18434515595436096, 0.9956373572349548, 0.9033166170120239, 0.09653765708208084, 0.99827641248703, 0.08486265689134598, 0.0500405915081501, 0.8648768663406372, 0.9978156685829163, 0.9997120499610901, 0.9983152151107788, 0.9995540380477905, 0.6668948531150818, 0.17502166330814362, 0.05222329497337341, 0.1059192642569542, 0.9657434821128845, 0.03401951119303703, 0.9209299683570862, 0.033375464379787445, 0.04540615528821945, 0.9995560050010681, 0.9985522627830505, 0.836634635925293, 0.028931982815265656, 0.02675664611160755, 0.09027648717164993, 0.01740269549190998, 0.9923537969589233, 0.9983305931091309, 0.3051896393299103, 0.1369696408510208, 0.18475940823554993, 0.25027987360954285, 0.04155632480978966, 0.08122876286506653, 0.9982369542121887, 0.9997515082359314, 0.35763266682624817, 0.608801543712616, 0.03355037048459053, 0.15828686952590942, 0.18723608553409576, 0.6546259522438049, 0.7430520057678223, 0.08702638745307922, 0.13100293278694153, 0.03883752599358559, 0.09436172991991043, 0.48953405022621155, 0.20723086595535278, 0.20888176560401917, 0.9996011853218079, 0.27370738983154297, 0.1391453891992569, 0.09114931523799896, 0.2297758311033249, 0.2264031320810318, 0.03995349258184433, 0.092043936252594, 0.11127699911594391, 0.7752755284309387, 0.021293746307492256, 0.9989018440246582, 0.9989786148071289, 0.9998489618301392, 0.998967170715332, 0.999677300453186, 0.261238157749176, 0.1995178610086441, 0.16961978375911713, 0.03663254529237747, 0.26930472254753113, 0.06371843069791794, 0.04824269190430641, 0.06459769606590271, 0.5970032811164856, 0.20804660022258759, 0.051349226385354996, 0.030791262164711952, 0.21656018495559692, 0.26013386249542236, 0.10782724618911743, 0.045837901532649994, 0.30632397532463074, 0.06334787607192993, 0.9993671774864197, 0.12195099145174026, 0.8780471682548523, 0.9997211694717407, 0.9999401569366455, 0.19382835924625397, 0.8058594465255737, 0.9991621375083923, 0.9992045164108276, 0.1145443245768547, 0.8850797414779663, 0.9990453720092773, 0.9988935589790344, 0.07891532778739929, 0.9209777116775513, 0.6931513547897339, 0.24609100818634033, 0.030081087723374367, 0.023352423682808876, 0.007421320769935846, 0.023533549159765244, 0.4660283029079437, 0.12236378341913223, 0.1259925365447998, 0.22215457260608673, 0.03996967896819115, 0.29313379526138306, 0.10829146951436996, 0.03827543184161186, 0.5409387350082397, 0.019397035241127014, 0.9999143481254578, 0.38880836963653564, 0.203299880027771, 0.1272628754377365, 0.15355661511421204, 0.062451399862766266, 0.06459967792034149, 0.32011115550994873, 0.6794196367263794, 0.6797874569892883, 0.07493463158607483, 0.11545635014772415, 0.06345008313655853, 0.06638231128454208, 0.2925867438316345, 0.26301050186157227, 0.17611831426620483, 0.14845514297485352, 0.11983544379472733, 0.9971616268157959, 0.24303391575813293, 0.7565876841545105, 0.071625255048275, 0.8197977542877197, 0.10821641981601715, 0.11018960922956467, 0.8896968960762024, 0.9989878535270691, 0.27437955141067505, 0.7255459427833557, 0.9995684027671814, 0.9984884858131409, 0.6018741726875305, 0.25303947925567627, 0.052882056683301926, 0.03761713579297066, 0.042913127690553665, 0.011682339943945408, 0.9998248815536499, 0.9994681477546692, 0.07862351089715958, 0.3228784501552582, 0.1487044394016266, 0.4497518241405487, 0.9970669746398926, 0.11030546575784683, 0.8895982503890991, 0.19662469625473022, 0.6059028506278992, 0.10544747859239578, 0.049175627529621124, 0.04284192994236946, 0.998723030090332, 0.9983739256858826, 0.996764063835144, 0.9993292093276978, 0.9999136328697205, 0.036367036402225494, 0.49858558177948, 0.32275745272636414, 0.019888224080204964, 0.1223328709602356, 0.9529674053192139, 0.04683653637766838, 0.2264663279056549, 0.591719925403595, 0.18171821534633636, 0.15821699798107147, 0.8414695858955383, 0.09859230369329453, 0.5903756022453308, 0.12365541607141495, 0.04610970616340637, 0.1413281261920929, 0.07590407133102417, 0.8100723028182983, 0.04760086163878441, 0.06646966934204102, 0.9982224106788635, 0.9985753297805786, 0.16254423558712006, 0.5117672085762024, 0.07356653362512589, 0.011824923567473888, 0.24027857184410095, 0.07375536859035492, 0.7485074400901794, 0.14550255239009857, 0.010223516263067722, 0.021907534450292587, 0.9998797178268433, 0.9941652417182922, 0.9988032579421997, 0.14907337725162506, 0.3496533930301666, 0.1618155539035797, 0.17610427737236023, 0.07665478438138962, 0.08670731633901596, 0.02672349289059639, 0.8052210211753845, 0.1279914677143097, 0.03973361477255821, 0.9755685925483704, 0.010699156671762466, 0.013617108575999737, 0.9373530149459839, 0.04775915667414665, 0.014646140858530998, 0.07805434614419937, 0.6632236838340759, 0.09835419058799744, 0.03869360685348511, 0.0715736448764801, 0.05022544413805008, 0.9955515265464783, 0.3183216154575348, 0.30000272393226624, 0.16951221227645874, 0.15125608444213867, 0.060885123908519745, 0.42230698466300964, 0.577396810054779, 0.7979222536087036, 0.2019796371459961, 0.9984920024871826, 0.9950666427612305, 0.9986729621887207, 0.998012125492096, 0.22535574436187744, 0.7745871543884277, 0.9964208006858826, 0.2811987102031708, 0.7183563709259033, 0.9995466470718384, 0.9998252987861633, 0.9354815483093262, 0.061566419899463654, 0.0027755352202802896, 0.016385583207011223, 0.1679953634738922, 0.09572630375623703, 0.261910617351532, 0.2548389434814453, 0.2030087560415268, 0.9997418522834778, 0.9995774030685425, 0.10314632952213287, 0.8967356085777283, 0.9978110790252686, 0.9998816251754761, 0.46604016423225403, 0.34320521354675293, 0.0402962751686573, 0.15042416751384735, 0.9608858823776245, 0.03892561048269272, 0.9928905367851257, 0.24485419690608978, 0.7538700699806213, 0.9964299201965332, 0.9992349147796631, 0.16132931411266327, 0.1148126870393753, 0.7235619425773621, 0.6445425152778625, 0.08149295300245285, 0.27400296926498413, 0.3903518617153168, 0.5229018926620483, 0.021894309669733047, 0.049298446625471115, 0.01553867757320404, 0.13862493634223938, 0.8184282779693604, 0.042877983301877975, 0.9996387958526611, 0.4886530041694641, 0.5111197829246521, 0.06828116625547409, 0.10801489651203156, 0.36118319630622864, 0.2418925166130066, 0.16135115921497345, 0.05933212488889694, 0.9990785121917725, 0.9991724491119385, 0.17805162072181702, 0.7377437949180603, 0.08406022936105728, 0.9987437725067139, 0.23068015277385712, 0.6801689267158508, 0.08915287256240845, 0.9989009499549866, 0.8584586977958679, 0.14148828387260437, 0.997214674949646, 0.05607299134135246, 0.2684645652770996, 0.20563457906246185, 0.09651412069797516, 0.15581433475017548, 0.21753495931625366, 0.9228072166442871, 0.07693452388048172, 0.7772473096847534, 0.2227095365524292, 0.9978677034378052, 0.9981586337089539, 0.014325595460832119, 0.8483243584632874, 0.053098130971193314, 0.024602651596069336, 0.05963807553052902, 0.9996585845947266, 0.2999907433986664, 0.6644368767738342, 0.035614341497421265, 0.9997811913490295, 0.9993435740470886, 0.9982480406761169, 0.9982860684394836, 0.9989868998527527, 0.9994516372680664, 0.022941231727600098, 0.976740300655365, 0.9974067807197571, 0.9919340014457703, 0.9999042749404907, 0.32764798402786255, 0.5827070474624634, 0.044526200741529465, 0.04514981806278229, 0.9990231990814209, 0.732857882976532, 0.039269570261240005, 0.012741722166538239, 0.2150948941707611, 0.9997237324714661, 0.5752537846565247, 0.294249564409256, 0.07643682509660721, 0.03798845782876015, 0.01600482128560543, 0.09423543512821198, 0.904660165309906, 0.9230647683143616, 0.07621635496616364, 0.9993816614151001, 0.0633578822016716, 0.13195085525512695, 0.3137691915035248, 0.35262957215309143, 0.13832691311836243, 0.03988448157906532, 0.10854192823171616, 0.8079823851585388, 0.04351034387946129, 0.9996759295463562, 0.9989468455314636, 0.9996686577796936, 0.9981889724731445, 0.9998114109039307, 0.5144004821777344, 0.35350608825683594, 0.054740581661462784, 0.058765627443790436, 0.018568864092230797, 0.9997441172599792, 0.9997090101242065, 0.9998384118080139, 0.8547526597976685, 0.061445452272892, 0.08366142958402634, 0.10449658334255219, 0.8293511271476746, 0.06621565669775009, 0.9979013800621033, 0.01645144447684288, 0.6674022078514099, 0.05277623236179352, 0.020794624462723732, 0.20913076400756836, 0.033560946583747864, 0.9987105131149292, 0.9942066073417664, 0.058552421629428864, 0.338981956243515, 0.21527427434921265, 0.2659142017364502, 0.04218175262212753, 0.07917946577072144, 0.9994186758995056, 0.9974884986877441, 0.995796799659729, 0.999131977558136, 0.9982694983482361, 0.9640778303146362, 0.035391028970479965, 0.9987649917602539, 0.9995521903038025, 0.09887997806072235, 0.9006787538528442, 0.9996973872184753, 0.582490861415863, 0.35375145077705383, 0.011618215590715408, 0.052049607038497925, 0.9996920824050903, 0.9996806979179382, 0.8344994783401489, 0.02648260071873665, 0.12289117276668549, 0.01621687412261963, 0.9980236291885376, 0.9991118907928467, 0.7906823754310608, 0.07919666171073914, 0.061002835631370544, 0.0689224973320961, 0.08298944681882858, 0.29121148586273193, 0.17118999361991882, 0.1578296273946762, 0.2256292998790741, 0.07112589478492737, 0.9997960925102234, 0.9991806149482727, 0.9995790719985962, 0.9995643496513367, 0.9996636509895325, 0.37857434153556824, 0.1830853819847107, 0.136145681142807, 0.13085505366325378, 0.09531961381435394, 0.0760381892323494, 0.997475266456604], \"Term\": [\"almond\", \"also\", \"also\", \"also\", \"also\", \"also\", \"also\", \"always\", \"always\", \"always\", \"amazing\", \"amazing\", \"amazing\", \"amazing\", \"another\", \"another\", \"another\", \"another\", \"another\", \"appetizer\", \"appetizer\", \"appetizer\", \"appetizer\", \"area\", \"area\", \"area\", \"area\", \"area\", \"area\", \"ask\", \"ask\", \"ask\", \"ask\", \"asked\", \"asking\", \"atmosphere\", \"atmosphere\", \"attitude\", \"awesome\", \"awesome\", \"awesome\", \"awesome\", \"awful\", \"ayce\", \"back\", \"back\", \"back\", \"back\", \"back\", \"back\", \"bacon\", \"bad\", \"bad\", \"bad\", \"bad\", \"bad\", \"bakery\", \"banana\", \"banh\", \"bao\", \"bar\", \"bar\", \"bbq\", \"bbq\", \"beautiful\", \"beautiful\", \"beef\", \"beef\", \"beef\", \"beef\", \"beer\", \"benedict\", \"benny\", \"bento\", \"best\", \"best\", \"best\", \"best\", \"best\", \"best\", \"bill\", \"bill\", \"birthday\", \"birthday\", \"biryani\", \"bit\", \"bit\", \"bit\", \"bit\", \"bit\", \"bit\", \"blueberry\", \"board\", \"boat\", \"boil\", \"bowl\", \"bowl\", \"bowl\", \"box\", \"box\", \"box\", \"box\", \"bread\", \"bread\", \"broth\", \"brunch\", \"brunch\", \"bubble\", \"bulgogi\", \"burger\", \"burrito\", \"cake\", \"cake\", \"cake\", \"calamari\", \"calamari\", \"came\", \"came\", \"came\", \"came\", \"came\", \"ceiling\", \"celebrating\", \"charged\", \"cheese\", \"cheese\", \"cheesecake\", \"chicken\", \"chicken\", \"chicken\", \"chicken\", \"chinese\", \"chinese\", \"chip\", \"chip\", \"chocolate\", \"chocolate\", \"chorizo\", \"churros\", \"clair\", \"clam\", \"clean\", \"clean\", \"clean\", \"clean\", \"cocktail\", \"coffee\", \"coffee\", \"come\", \"come\", \"come\", \"come\", \"come\", \"cone\", \"congee\", \"could\", \"could\", \"could\", \"could\", \"could\", \"could\", \"course\", \"course\", \"course\", \"course\", \"course\", \"crab\", \"craft\", \"cream\", \"cream\", \"crepe\", \"crust\", \"curry\", \"customer\", \"customer\", \"danforth\", \"date\", \"date\", \"definitely\", \"definitely\", \"definitely\", \"definitely\", \"definitely\", \"deli\", \"delicious\", \"delicious\", \"delicious\", \"delicious\", \"delicious\", \"dessert\", \"dessert\", \"dessert\", \"dessert\", \"dessert\", \"dim\", \"dim\", \"dining\", \"dining\", \"dining\", \"dining\", \"dining\", \"dinner\", \"dinner\", \"dinner\", \"dinner\", \"dinner\", \"disappoints\", \"disgusting\", \"dish\", \"dish\", \"dish\", \"dish\", \"dish\", \"donut\", \"dosa\", \"dragon\", \"drink\", \"drink\", \"drink\", \"drink\", \"dumpling\", \"eastern\", \"eel\", \"egg\", \"egg\", \"egg\", \"employee\", \"empty\", \"empty\", \"empty\", \"enjoyed\", \"enjoyed\", \"enjoyed\", \"enjoyed\", \"enjoyed\", \"entree\", \"entree\", \"entree\", \"even\", \"even\", \"even\", \"even\", \"even\", \"even\", \"evening\", \"evening\", \"evening\", \"evening\", \"excellent\", \"excellent\", \"excellent\", \"excellent\", \"experience\", \"experience\", \"experience\", \"experience\", \"fast\", \"fast\", \"fast\", \"fast\", \"fast\", \"first\", \"first\", \"first\", \"first\", \"first\", \"first\", \"fish\", \"fish\", \"flavour\", \"flavour\", \"flavour\", \"flavour\", \"foie\", \"food\", \"food\", \"food\", \"forever\", \"fresh\", \"fresh\", \"fresh\", \"fresh\", \"fried\", \"fried\", \"fried\", \"friend\", \"friend\", \"friend\", \"friend\", \"friend\", \"friend\", \"friendly\", \"friendly\", \"friendly\", \"friendly\", \"frites\", \"fruit\", \"fruit\", \"fruit\", \"fry\", \"fry\", \"fun\", \"fun\", \"fun\", \"fun\", \"fun\", \"funghi\", \"game\", \"gelato\", \"gem\", \"georgian\", \"get\", \"get\", \"get\", \"get\", \"get\", \"gnocchi\", \"good\", \"good\", \"good\", \"good\", \"good\", \"good\", \"got\", \"got\", \"got\", \"got\", \"got\", \"got\", \"gras\", \"great\", \"great\", \"great\", \"great\", \"great\", \"greek\", \"guac\", \"guacamole\", \"gyoza\", \"gyro\", \"hakka\", \"halibut\", \"hidden\", \"hidden\", \"highly\", \"highly\", \"highly\", \"highly\", \"hip\", \"hollandaise\", \"horrible\", \"hot\", \"hot\", \"hot\", \"hot\", \"hot\", \"hour\", \"hour\", \"huevos\", \"ice\", \"ice\", \"izakaya\", \"japanese\", \"japanese\", \"japanese\", \"jay\", \"jerk\", \"keg\", \"kimchi\", \"know\", \"know\", \"know\", \"know\", \"korean\", \"korean\", \"later\", \"later\", \"later\", \"latte\", \"lee\", \"left\", \"left\", \"left\", \"left\", \"left\", \"liberty\", \"lighting\", \"like\", \"like\", \"like\", \"like\", \"like\", \"like\", \"lit\", \"lobster\", \"location\", \"location\", \"location\", \"loud\", \"loud\", \"loud\", \"love\", \"love\", \"love\", \"love\", \"lunch\", \"lunch\", \"lunch\", \"lunch\", \"mac\", \"made\", \"made\", \"made\", \"made\", \"made\", \"made\", \"main\", \"main\", \"main\", \"main\", \"maki\", \"management\", \"manager\", \"masala\", \"matcha\", \"meal\", \"meal\", \"meal\", \"meal\", \"meal\", \"meal\", \"meat\", \"meat\", \"meat\", \"meat\", \"meat\", \"meat\", \"menu\", \"menu\", \"menu\", \"menu\", \"menu\", \"menu\", \"mexican\", \"milk\", \"milk\", \"min\", \"minute\", \"miso\", \"miso\", \"mistake\", \"msg\", \"music\", \"music\", \"naan\", \"napkin\", \"neighbourhood\", \"neighbourhood\", \"never\", \"never\", \"never\", \"never\", \"never\", \"nice\", \"nice\", \"nice\", \"nice\", \"nice\", \"nice\", \"night\", \"night\", \"night\", \"night\", \"night\", \"noodle\", \"one\", \"one\", \"one\", \"one\", \"one\", \"one\", \"onion\", \"onion\", \"order\", \"order\", \"order\", \"order\", \"order\", \"ordered\", \"ordered\", \"ordered\", \"ordered\", \"ordered\", \"oxtail\", \"oyster\", \"oyster\", \"parking\", \"parking\", \"parking\", \"pasta\", \"pasta\", \"pastry\", \"patio\", \"patio\", \"patty\", \"penne\", \"people\", \"people\", \"people\", \"people\", \"people\", \"people\", \"pho\", \"phone\", \"piece\", \"piece\", \"piece\", \"piece\", \"pint\", \"pizza\", \"pizza\", \"place\", \"place\", \"place\", \"place\", \"place\", \"play\", \"playing\", \"poke\", \"poor\", \"pork\", \"portion\", \"portion\", \"portion\", \"portion\", \"portion\", \"pot\", \"pot\", \"potato\", \"potato\", \"potato\", \"poutine\", \"poutine\", \"price\", \"price\", \"price\", \"price\", \"price\", \"priced\", \"priced\", \"priced\", \"priced\", \"private\", \"prix\", \"quality\", \"quality\", \"quality\", \"quality\", \"quality\", \"quick\", \"quick\", \"quick\", \"quick\", \"quick\", \"ramen\", \"rancheros\", \"ravioli\", \"really\", \"really\", \"really\", \"really\", \"really\", \"really\", \"reasonable\", \"reasonable\", \"reasonable\", \"reasonable\", \"reasonably\", \"reasonably\", \"reasonably\", \"received\", \"received\", \"received\", \"recommend\", \"recommend\", \"recommend\", \"recommend\", \"recommend\", \"recommend\", \"reliable\", \"restaurant\", \"restaurant\", \"restaurant\", \"restaurant\", \"restaurant\", \"rib\", \"rib\", \"rice\", \"rice\", \"ridiculous\", \"rigatoni\", \"ring\", \"risotto\", \"roll\", \"roll\", \"romantic\", \"room\", \"room\", \"roti\", \"rude\", \"said\", \"said\", \"said\", \"salad\", \"salad\", \"salad\", \"salad\", \"salad\", \"salad\", \"salmon\", \"samosa\", \"sandwich\", \"sandwich\", \"sangria\", \"sashimi\", \"sauce\", \"sauce\", \"sauce\", \"sauce\", \"saying\", \"saying\", \"scaddabush\", \"scallop\", \"scallop\", \"schnitzel\", \"scoop\", \"seafood\", \"seafood\", \"seafood\", \"server\", \"server\", \"server\", \"service\", \"service\", \"service\", \"service\", \"service\", \"sesame\", \"sesame\", \"sesame\", \"shawarma\", \"shrimp\", \"shrimp\", \"side\", \"side\", \"side\", \"side\", \"side\", \"side\", \"situation\", \"skewer\", \"slice\", \"slice\", \"slice\", \"smoothie\", \"soft\", \"soft\", \"soft\", \"sorry\", \"soup\", \"soup\", \"souvlaki\", \"special\", \"special\", \"special\", \"special\", \"special\", \"special\", \"spice\", \"spice\", \"spicy\", \"spicy\", \"spoke\", \"sport\", \"spot\", \"spot\", \"spot\", \"spot\", \"spot\", \"spring\", \"staff\", \"staff\", \"staff\", \"steak\", \"steamed\", \"stew\", \"stir\", \"strawberry\", \"sugar\", \"sum\", \"sum\", \"summerlicious\", \"surrounded\", \"sushi\", \"sweet\", \"sweet\", \"sweet\", \"sweet\", \"syrup\", \"table\", \"table\", \"table\", \"table\", \"taco\", \"take\", \"take\", \"take\", \"take\", \"take\", \"tap\", \"tap\", \"tapa\", \"tapa\", \"tapioca\", \"taste\", \"taste\", \"taste\", \"taste\", \"taste\", \"tea\", \"tea\", \"tea\", \"tea\", \"tempura\", \"teriyaki\", \"terrible\", \"tetsu\", \"thai\", \"time\", \"time\", \"time\", \"time\", \"time\", \"toast\", \"tofu\", \"told\", \"took\", \"took\", \"took\", \"topping\", \"topping\", \"topping\", \"torched\", \"toronto\", \"toronto\", \"toronto\", \"toronto\", \"toronto\", \"toronto\", \"tortilla\", \"tostada\", \"try\", \"try\", \"try\", \"try\", \"try\", \"try\", \"tuna\", \"turkey\", \"tzatziki\", \"udon\", \"unagi\", \"understand\", \"understand\", \"vanilla\", \"vietnamese\", \"view\", \"view\", \"waffle\", \"wait\", \"wait\", \"wait\", \"wait\", \"waited\", \"waiting\", \"waitress\", \"waitress\", \"waitress\", \"waitress\", \"wasabi\", \"waste\", \"water\", \"water\", \"water\", \"water\", \"well\", \"well\", \"well\", \"well\", \"well\", \"well\", \"wine\", \"winterlicious\", \"wonton\", \"worse\", \"worst\", \"would\", \"would\", \"would\", \"would\", \"would\", \"would\", \"zero\"]}, \"R\": 30, \"lambda.step\": 0.01, \"plot.opts\": {\"xlab\": \"PC1\", \"ylab\": \"PC2\"}, \"topic.order\": [6, 1, 5, 4, 2, 3]};\n",
       "\n",
       "function LDAvis_load_lib(url, callback){\n",
       "  var s = document.createElement('script');\n",
       "  s.src = url;\n",
       "  s.async = true;\n",
       "  s.onreadystatechange = s.onload = callback;\n",
       "  s.onerror = function(){console.warn(\"failed to load library \" + url);};\n",
       "  document.getElementsByTagName(\"head\")[0].appendChild(s);\n",
       "}\n",
       "\n",
       "if(typeof(LDAvis) !== \"undefined\"){\n",
       "   // already loaded: just create the visualization\n",
       "   !function(LDAvis){\n",
       "       new LDAvis(\"#\" + \"ldavis_el1714027394125502165793131418\", ldavis_el1714027394125502165793131418_data);\n",
       "   }(LDAvis);\n",
       "}else if(typeof define === \"function\" && define.amd){\n",
       "   // require.js is available: use it to load d3/LDAvis\n",
       "   require.config({paths: {d3: \"https://cdnjs.cloudflare.com/ajax/libs/d3/3.5.5/d3.min\"}});\n",
       "   require([\"d3\"], function(d3){\n",
       "      window.d3 = d3;\n",
       "      LDAvis_load_lib(\"https://cdn.rawgit.com/bmabey/pyLDAvis/files/ldavis.v1.0.0.js\", function(){\n",
       "        new LDAvis(\"#\" + \"ldavis_el1714027394125502165793131418\", ldavis_el1714027394125502165793131418_data);\n",
       "      });\n",
       "    });\n",
       "}else{\n",
       "    // require.js not available: dynamically load d3 & LDAvis\n",
       "    LDAvis_load_lib(\"https://cdnjs.cloudflare.com/ajax/libs/d3/3.5.5/d3.min.js\", function(){\n",
       "         LDAvis_load_lib(\"https://cdn.rawgit.com/bmabey/pyLDAvis/files/ldavis.v1.0.0.js\", function(){\n",
       "                 new LDAvis(\"#\" + \"ldavis_el1714027394125502165793131418\", ldavis_el1714027394125502165793131418_data);\n",
       "            })\n",
       "         });\n",
       "}\n",
       "</script>"
      ],
      "text/plain": [
       "PreparedData(topic_coordinates=              x         y  topics  cluster       Freq\n",
       "topic                                                \n",
       "5     -0.139295 -0.133277       1        1  27.316031\n",
       "0     -0.074884 -0.134671       2        1  21.918766\n",
       "4      0.137725  0.015022       3        1  15.399262\n",
       "3      0.093143  0.033080       4        1  15.005014\n",
       "1     -0.173230  0.206855       5        1  12.855668\n",
       "2      0.156540  0.012991       6        1   7.505260, topic_info=    Category          Freq     Term         Total  loglift  logprob\n",
       "161  Default  75480.000000     food  75480.000000  30.0000  30.0000\n",
       "10   Default  28391.000000  chicken  28391.000000  29.0000  29.0000\n",
       "407  Default  11937.000000    sushi  11937.000000  28.0000  28.0000\n",
       "170  Default  37174.000000    great  37174.000000  27.0000  27.0000\n",
       "55   Default  64259.000000    place  64259.000000  26.0000  26.0000\n",
       "..       ...           ...      ...           ...      ...      ...\n",
       "58    Topic6   2578.927246   really  29743.740234   0.1443  -4.9955\n",
       "88    Topic6   2587.077148    would  34022.378906   0.0131  -4.9923\n",
       "55    Topic6   2753.342773    place  64259.476562  -0.5605  -4.9301\n",
       "9     Topic6   2384.896240     came  22577.695312   0.3418  -5.0737\n",
       "51    Topic6   2135.125488      one  33049.699219  -0.1499  -5.1844\n",
       "\n",
       "[441 rows x 6 columns], token_table=      Topic      Freq    Term\n",
       "term                         \n",
       "2131      4  0.998982  almond\n",
       "2         1  0.098987    also\n",
       "2         2  0.223163    also\n",
       "2         3  0.225048    also\n",
       "2         4  0.220115    also\n",
       "...     ...       ...     ...\n",
       "88        3  0.136146   would\n",
       "88        4  0.130855   would\n",
       "88        5  0.095320   would\n",
       "88        6  0.076038   would\n",
       "4109      1  0.997475    zero\n",
       "\n",
       "[813 rows x 3 columns], R=30, lambda_step=0.01, plot_opts={'xlab': 'PC1', 'ylab': 'PC2'}, topic_order=[6, 1, 5, 4, 2, 3])"
      ]
     },
     "execution_count": 48,
     "metadata": {},
     "output_type": "execute_result"
    }
   ],
   "source": [
    "# Visualize the topics\n",
    "pyLDAvis.enable_notebook()\n",
    "vis = pyLDAvis.gensim.prepare(ldamodel, corpus, dictionary)\n",
    "vis "
   ]
  },
  {
   "cell_type": "code",
   "execution_count": 60,
   "metadata": {},
   "outputs": [
    {
     "data": {
      "text/plain": [
       "2017-1     0.90\n",
       "2017-2     0.88\n",
       "2017-3     0.88\n",
       "2017-4     0.91\n",
       "2017-5     0.93\n",
       "2017-6     0.87\n",
       "2017-7     0.90\n",
       "2017-8     0.79\n",
       "2017-9     0.84\n",
       "2017-10    0.88\n",
       "2017-11    0.89\n",
       "2017-12    0.92\n",
       "dtype: float64"
      ]
     },
     "execution_count": 60,
     "metadata": {},
     "output_type": "execute_result"
    }
   ],
   "source": [
    "date = ['2017-1','2017-2','2017-3','2017-4','2017-5','2017-6','2017-7','2017-8','2017-9','2017-10','2017-11','2017-12']\n",
    "value = [0.9,0.88,0.88,0.91,0.93,0.87,0.90,0.79,0.84,0.88,0.89,0.92]\n",
    "resta = pd.Series(data = value, index= date)\n",
    "resta"
   ]
  },
  {
   "cell_type": "code",
   "execution_count": 109,
   "metadata": {},
   "outputs": [
    {
     "data": {
      "image/png": "[encoded data removed]",
      "text/plain": [
       "<Figure size 432x288 with 1 Axes>"
      ]
     },
     "metadata": {
      "needs_background": "light"
     },
     "output_type": "display_data"
    }
   ],
   "source": [
    "import seaborn as sns\n",
    "import matplotlib.pyplot as plt\n",
    "%matplotlib inline\n",
    "plt.plot(date,value)\n",
    "plt.ylim(0.7,1)\n",
    "plt.xticks(rotation=45)\n",
    "plt.title('Sentiment Index Monthly Change')\n",
    "plt.xlabel('Bacchanal Buffet')\n",
    "plt.ylabel('Sentiment index')\n",
    "plt.axhline(y=0.85, xmin=0, xmax=1,linestyle= \"--\",color='red')   \n",
    "plt.show()"
   ]
  },
  {
   "cell_type": "code",
   "execution_count": null,
   "metadata": {},
   "outputs": [],
   "source": []
  }
 ],
 "metadata": {
  "kernelspec": {
   "display_name": "Python 3",
   "language": "python",
   "name": "python3"
  },
  "language_info": {
   "codemirror_mode": {
    "name": "ipython",
    "version": 3
   },
   "file_extension": ".py",
   "mimetype": "text/x-python",
   "name": "python",
   "nbconvert_exporter": "python",
   "pygments_lexer": "ipython3",
   "version": "3.7.4"
  }
 },
 "nbformat": 4,
 "nbformat_minor": 2
}
